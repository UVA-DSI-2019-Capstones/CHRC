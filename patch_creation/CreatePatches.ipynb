{
 "cells": [
  {
   "cell_type": "code",
   "execution_count": 1,
   "metadata": {
    "collapsed": true
   },
   "outputs": [],
   "source": [
    "import math\n",
    "import os\n",
    "\n",
    "import numpy as np\n",
    "import openslide\n",
    "from PIL import Image\n",
    "from openslide import OpenSlideError\n",
    "from openslide.deepzoom import DeepZoomGenerator\n",
    "import pandas as pd\n",
    "\n",
    "from pyspark.ml.linalg import Vectors\n",
    "import pyspark.sql.functions as F\n",
    "from scipy.ndimage.morphology import binary_fill_holes\n",
    "from skimage.color import rgb2gray\n",
    "from skimage.feature import canny\n",
    "from skimage.morphology import binary_closing, binary_dilation, disk"
   ]
  },
  {
   "cell_type": "code",
   "execution_count": 2,
   "metadata": {
    "collapsed": true
   },
   "outputs": [],
   "source": [
    "tile_size = 3000\n",
    "sample_size = 3000\n",
    "grayscale = False\n",
    "num_partitions = 200\n",
    "training = True\n",
    "save_jpegs = True\n",
    "convert2DF = False\n",
    "row_indices = False\n",
    "train_frac = 0.8\n",
    "sample_frac=0.01\n",
    "seed = 42\n",
    "overlap = 0"
   ]
  },
  {
   "cell_type": "code",
   "execution_count": 4,
   "metadata": {},
   "outputs": [],
   "source": [
    "# open slide image\n",
    "slide = openslide.open_slide('/home/ss4yd/test/data/C17-83_04.svs')\n",
    "\n",
    "generator = DeepZoomGenerator(slide, tile_size=tile_size, overlap=overlap, limit_bounds=True)\n",
    "\n",
    "highest_zoom_level = generator.level_count - 1\n",
    "# mag = int(slide.properties[openslide.PROPERTY_NAME_OBJECTIVE_POWER])\n",
    "zoom_level = highest_zoom_level\n",
    "\n",
    "slide_num = os.path.join('./data', 'C17-83_04.svs').split('.')[-2].split('/')[-1]"
   ]
  },
  {
   "cell_type": "code",
   "execution_count": 5,
   "metadata": {
    "collapsed": true
   },
   "outputs": [],
   "source": [
    "cols, rows = generator.level_tiles[zoom_level]\n",
    "tile_indices = [(slide_num, tile_size, overlap, zoom_level, col, row)\n",
    "                  for col in range(cols) for row in range(rows)]"
   ]
  },
  {
   "cell_type": "code",
   "execution_count": 6,
   "metadata": {
    "collapsed": true
   },
   "outputs": [],
   "source": [
    "tiles = []\n",
    "for index in tile_indices:\n",
    "    slide_num, tile_size, overlap, zoom_level, col, row = index\n",
    "    tile = np.asarray(generator.get_tile(zoom_level, (col, row)))\n",
    "    tiles.append(tile)"
   ]
  },
  {
   "cell_type": "code",
   "execution_count": 8,
   "metadata": {},
   "outputs": [
    {
     "data": {
      "text/plain": [
       "(3000, 3000, 3)"
      ]
     },
     "execution_count": 8,
     "metadata": {},
     "output_type": "execute_result"
    }
   ],
   "source": [
    "tiles[0].shape"
   ]
  },
  {
   "cell_type": "code",
   "execution_count": 58,
   "metadata": {
    "collapsed": true
   },
   "outputs": [],
   "source": [
    "def optical_density(tile):\n",
    "    tile = tile.astype(np.float64)\n",
    "    od = -np.log((tile+1)/240)\n",
    "    return od"
   ]
  },
  {
   "cell_type": "code",
   "execution_count": 62,
   "metadata": {
    "collapsed": true
   },
   "outputs": [],
   "source": [
    "def keep_tile(tile, tile_size, tissue_threshold = 0.50):\n",
    "    if tile.shape[0:2] == (tile_size, tile_size):\n",
    "        print(\"inside if\")\n",
    "        tile_orig = tile\n",
    "        tile = rgb2gray(tile)\n",
    "        tile = 1 - tile\n",
    "        \n",
    "        tile = canny(tile)\n",
    "        \n",
    "        tile = binary_closing(tile, disk(10))\n",
    "        tile = binary_dilation(tile, disk(10))\n",
    "        tile = binary_fill_holes(tile)\n",
    "        percentage = tile.mean()\n",
    "        \n",
    "        check1 = percentage >= tissue_threshold\n",
    "\n",
    "        # Check 2\n",
    "        # Convert to optical density values\n",
    "        tile = optical_density(tile_orig)\n",
    "        # Threshold at beta\n",
    "        beta = 0.15\n",
    "        tile = np.min(tile, axis=2) >= beta\n",
    "        # Apply morphology for same reasons as above.\n",
    "        tile = binary_closing(tile, disk(2))\n",
    "        tile = binary_dilation(tile, disk(2))\n",
    "        tile = binary_fill_holes(tile)\n",
    "        percentage = tile.mean()\n",
    "        check2 = percentage >= tissue_threshold\n",
    "        print(check1, check2)\n",
    "        return check1 and check2\n",
    "    else:\n",
    "        return False\n"
   ]
  },
  {
   "cell_type": "code",
   "execution_count": 64,
   "metadata": {},
   "outputs": [
    {
     "name": "stdout",
     "output_type": "stream",
     "text": [
      "inside if\n"
     ]
    },
    {
     "name": "stderr",
     "output_type": "stream",
     "text": [
      "/apps/software/standard/core/anaconda3/4.4.0/lib/python3.6/site-packages/scipy/ndimage/measurements.py:431: FutureWarning: Conversion of the second argument of issubdtype from `int` to `np.signedinteger` is deprecated. In future, it will be treated as `np.int64 == np.dtype(int).type`.\n",
      "  safe = ((np.issubdtype(dt, int) and dt.itemsize <= int_size) or\n"
     ]
    },
    {
     "name": "stdout",
     "output_type": "stream",
     "text": [
      "False False\n"
     ]
    },
    {
     "data": {
      "text/plain": [
       "False"
      ]
     },
     "execution_count": 64,
     "metadata": {},
     "output_type": "execute_result"
    }
   ],
   "source": [
    "keep_tile(tiles[0], 3000, tissue_threshold=50)"
   ]
  },
  {
   "cell_type": "code",
   "execution_count": 65,
   "metadata": {
    "collapsed": true
   },
   "outputs": [],
   "source": [
    "def process_tile(tile, sample_size, grayscale):\n",
    "    \n",
    "    \"\"\"\n",
    "    Process a tile into a group of smaller samples.\n",
    "    Cut up a tile into smaller blocks of sample_size x sample_size pixels,\n",
    "    change the shape of each sample from (H, W, channels) to\n",
    "    (channels, H, W), then flatten each into a vector of length\n",
    "    channels*H*W.\n",
    "    Args:\n",
    "      tile_tuple: A (slide_num, tile) tuple, where slide_num is an\n",
    "        integer, and tile is a 3D NumPy array of shape\n",
    "        (tile_size, tile_size, channels).\n",
    "      sample_size: The new width and height of the square samples to be\n",
    "        generated.\n",
    "      grayscale: Whether or not to generate grayscale samples, rather\n",
    "        than RGB.\n",
    "    Returns:\n",
    "      A list of (slide_num, sample) tuples representing cut up tiles,\n",
    "      where each sample is a 3D NumPy array of shape\n",
    "      (sample_size_x, sample_size_y, channels).\n",
    "    \"\"\"\n",
    "    if grayscale:\n",
    "        tile = rgb2gray(tile)[:, :, np.newaxis]  # Grayscale\n",
    "        # Save disk space and future IO time by converting from [0,1] to [0,255],\n",
    "        # at the expense of some minor loss of information.\n",
    "        tile = np.round(tile * 255).astype(\"uint8\")\n",
    "    x, y, ch = tile.shape\n",
    "    # 1. Reshape into a 5D array of (num_x, sample_size_x, num_y, sample_size_y, ch), where\n",
    "    # num_x and num_y are the number of chopped tiles on the x and y axes, respectively.\n",
    "    # 2. Swap sample_size_x and num_y axes to create\n",
    "    # (num_x, num_y, sample_size_x, sample_size_y, ch).\n",
    "    # 3. Combine num_x and num_y into single axis, returning\n",
    "    # (num_samples, sample_size_x, sample_size_y, ch).\n",
    "    samples = (tile.reshape((x // sample_size, sample_size, y // sample_size, sample_size, ch))\n",
    "                   .swapaxes(1, 2)\n",
    "                   .reshape((-1, sample_size, sample_size, ch)))\n",
    "    samples = [(slide_num, sample) for sample in list(samples)]\n",
    "    return samples\n"
   ]
  },
  {
   "cell_type": "code",
   "execution_count": 66,
   "metadata": {
    "scrolled": true
   },
   "outputs": [
    {
     "name": "stdout",
     "output_type": "stream",
     "text": [
      "inside if\n"
     ]
    },
    {
     "name": "stderr",
     "output_type": "stream",
     "text": [
      "/apps/software/standard/core/anaconda3/4.4.0/lib/python3.6/site-packages/scipy/ndimage/measurements.py:431: FutureWarning: Conversion of the second argument of issubdtype from `int` to `np.signedinteger` is deprecated. In future, it will be treated as `np.int64 == np.dtype(int).type`.\n",
      "  safe = ((np.issubdtype(dt, int) and dt.itemsize <= int_size) or\n"
     ]
    },
    {
     "name": "stdout",
     "output_type": "stream",
     "text": [
      "False False\n",
      "inside if\n",
      "False False\n",
      "inside if\n",
      "False False\n",
      "inside if\n",
      "False False\n",
      "inside if\n",
      "True True\n",
      "inside if\n",
      "False False\n",
      "inside if\n",
      "True True\n",
      "inside if\n",
      "True True\n"
     ]
    }
   ],
   "source": [
    "filter_tiles = [tile for tile in tiles if keep_tile(tile,tile_size, 0.50)]"
   ]
  },
  {
   "cell_type": "code",
   "execution_count": 67,
   "metadata": {},
   "outputs": [
    {
     "data": {
      "text/plain": [
       "False"
      ]
     },
     "execution_count": 67,
     "metadata": {},
     "output_type": "execute_result"
    }
   ],
   "source": [
    "keep_tile(tiles[3], 4000, tissue_threshold=50)"
   ]
  },
  {
   "cell_type": "code",
   "execution_count": 68,
   "metadata": {
    "collapsed": true
   },
   "outputs": [],
   "source": [
    "samples = [process_tile(tile, sample_size, False) for tile in filter_tiles]"
   ]
  },
  {
   "cell_type": "code",
   "execution_count": 69,
   "metadata": {
    "collapsed": true
   },
   "outputs": [],
   "source": [
    "def save_nonlabelled_sample_2_jpeg(sample, save_dir):\n",
    "    \"\"\"\n",
    "    Save the sample without labels into JPEG\n",
    "    Args:\n",
    "      sample_element: a sample tuple without labels, e.g. (slide_num, sample)\n",
    "      save_dir: the file directory at which to save JPEGs\n",
    "    \"\"\"\n",
    "    slide_num, img_value = sample\n",
    "    filename = '{slide_num}_{hash}.jpeg'.format(\n",
    "        slide_num=slide_num, hash=np.random.randint(1e4))\n",
    "    filepath = os.path.join(save_dir, filename)\n",
    "    save_jpeg_help(img_value, filepath)\n",
    "\n",
    "\n",
    "def save_jpeg_help(img_value, filepath):\n",
    "    \"\"\"\n",
    "     Save data into JPEG\n",
    "     Args:\n",
    "       img_value: the image value with the size (img_size_x, img_size_y, channels)\n",
    "       file path: the file path at which to save JPEGs\n",
    "     \"\"\"\n",
    "    dir = os.path.dirname(filepath)\n",
    "    os.makedirs(dir, exist_ok=True)\n",
    "    img = Image.fromarray(img_value.astype(np.uint8), 'RGB')\n",
    "    img.save(filepath)\n"
   ]
  },
  {
   "cell_type": "code",
   "execution_count": 70,
   "metadata": {
    "collapsed": true
   },
   "outputs": [],
   "source": [
    "for sample in samples:\n",
    "    save_nonlabelled_sample_2_jpeg(sample[0], './')"
   ]
  },
  {
   "cell_type": "code",
   "execution_count": 16,
   "metadata": {},
   "outputs": [
    {
     "data": {
      "text/plain": [
       "[]"
      ]
     },
     "execution_count": 16,
     "metadata": {},
     "output_type": "execute_result"
    }
   ],
   "source": [
    "samples"
   ]
  }
 ],
 "metadata": {
  "kernelspec": {
   "display_name": "Python 3",
   "language": "python",
   "name": "python3"
  },
  "language_info": {
   "codemirror_mode": {
    "name": "ipython",
    "version": 3
   },
   "file_extension": ".py",
   "mimetype": "text/x-python",
   "name": "python",
   "nbconvert_exporter": "python",
   "pygments_lexer": "ipython3",
   "version": "3.6.1"
  }
 },
 "nbformat": 4,
 "nbformat_minor": 2
}

{
 "cells": [
  {
   "cell_type": "code",
   "execution_count": 1,
   "metadata": {
    "collapsed": true
   },
   "outputs": [],
   "source": [
    "import csv\n",
    "import os\n",
    "import glob\n",
    "import re\n",
    "from pandas import DataFrame, Series\n",
    "from openslide import open_slide\n",
    "from PIL import Image\n",
    "import timeit\n",
    "import time\n",
    "import math\n",
    "import numpy as np\n",
    "from scipy.ndimage.morphology import binary_fill_holes\n",
    "from skimage.color import rgb2gray\n",
    "from skimage.feature import canny\n",
    "from skimage.morphology import binary_closing, binary_dilation, disk"
   ]
  },
  {
   "cell_type": "code",
   "execution_count": 2,
   "metadata": {
    "collapsed": true
   },
   "outputs": [],
   "source": [
    "train_paths = [\"/scratch/ss4yd/chrc_data/train/Celiac/\"]\n",
    "\n",
    "\n",
    "images = {}\n",
    "images_by_folder = {}\n",
    "for train_path in train_paths:\n",
    "    images_by_folder[str(train_path)] = []\n",
    "    files = glob.glob(os.path.join(train_path, '*.svs'))\n",
    "    for fl in files:\n",
    "        flbase = os.path.basename(fl)\n",
    "        flbase_noext = os.path.splitext(flbase)[0]\n",
    "        images[flbase_noext]=fl\n",
    "        images_by_folder[str(train_path)].append(flbase)"
   ]
  },
  {
   "cell_type": "code",
   "execution_count": 3,
   "metadata": {
    "collapsed": true
   },
   "outputs": [],
   "source": [
    "path_change_map = {}\n",
    "\n",
    "for key in list(images_by_folder.keys()):\n",
    "    temp = key.replace('chrc_data', 'chrc_data_patches')\n",
    "    path_change_map[key] = temp"
   ]
  },
  {
   "cell_type": "code",
   "execution_count": 4,
   "metadata": {
    "collapsed": true
   },
   "outputs": [],
   "source": [
    "def create_patches(slide, patch_size, overlap):\n",
    "    # steps to advance per axis with overlap\n",
    "    step_size = patch_size - overlap\n",
    "    \n",
    "    # get dimensions of the image\n",
    "    xlim = op_slide_img.level_dimensions[0][0]\n",
    "    ylim = op_slide_img.level_dimensions[0][1]\n",
    "    print(\"Dimensions x: \" + str(xlim) + \" y: \" + str(ylim))\n",
    "    \n",
    "    # get the number of times to traverse each axis\n",
    "    x_ind = math.ceil(xlim/(step_size))\n",
    "    y_ind = math.ceil(ylim/(step_size))\n",
    "    \n",
    "    # initialize list to store patches\n",
    "    patches = []\n",
    "    \n",
    "    # pixels left to traverse in the y-axis at the beginning of the traversal\n",
    "    img_y_left = ylim\n",
    "    # initialize the starting y corner\n",
    "    y = 0 - step_size\n",
    "    for y_ in range(y_ind):\n",
    "        \n",
    "        # initialize the starting x corner\n",
    "        x = 0-step_size\n",
    "        \n",
    "        # advance the y axis (note: it starts with 0)\n",
    "        y = y + step_size\n",
    "        \n",
    "        # pixels left to traverse in the x-axis at the beginning of the traversal\n",
    "        img_x_left = xlim\n",
    "        \n",
    "        # update the number of pixels left to traverse\n",
    "        img_y_left = img_y_left - step_size\n",
    "        # print('y - left: ' + str(img_y_left))\n",
    "        \n",
    "        # if more than patch size left, get the (patch_size x patch_size) image\n",
    "        if (img_y_left > 0 and img_y_left > patch_size):\n",
    "            for x_ in range(x_ind):\n",
    "                x = x + (step_size)\n",
    "                img_x_left = img_x_left - step_size\n",
    "                print(img_x_left)\n",
    "                if (img_x_left > 0 and img_x_left > patch_size):\n",
    "                    patches.append(op_slide_img.read_region(\n",
    "                        (x, y), 0, (patch_size, patch_size)))\n",
    "                elif (img_x_left < patch_size and img_x_left > 0):\n",
    "                    x = xlim - patch_size\n",
    "                    patches.append(op_slide_img.read_region((x, y), 0, (patch_size, patch_size)))\n",
    "                    break\n",
    "        # if less than patch size left, get the rest of the image, regardless of the overlap\n",
    "        elif (img_y_left > 0 and img_y_left < patch_size):\n",
    "            y = ylim - patch_size\n",
    "            for x_ in range(x_ind):\n",
    "                x = x + (step_size)\n",
    "                img_x_left = img_x_left - step_size\n",
    "                print(img_x_left)\n",
    "                if (img_x_left > 0 and img_x_left > patch_size):\n",
    "                    patches.append(op_slide_img.read_region(\n",
    "                        (x, y), 0, (patch_size, patch_size)))\n",
    "                elif (img_x_left < patch_size and img_x_left > 0):\n",
    "                    x = xlim - patch_size\n",
    "                    patches.append(op_slide_img.read_region(\n",
    "                        (x, y), 0, (patch_size, patch_size)))\n",
    "                    break\n",
    "            break\n",
    "    "
   ]
  },
  {
   "cell_type": "code",
   "execution_count": null,
   "metadata": {
    "collapsed": true
   },
   "outputs": [],
   "source": []
  }
 ],
 "metadata": {
  "kernelspec": {
   "display_name": "Python 3",
   "language": "python",
   "name": "python3"
  },
  "language_info": {
   "codemirror_mode": {
    "name": "ipython",
    "version": 3
   },
   "file_extension": ".py",
   "mimetype": "text/x-python",
   "name": "python",
   "nbconvert_exporter": "python",
   "pygments_lexer": "ipython3",
   "version": "3.6.1"
  }
 },
 "nbformat": 4,
 "nbformat_minor": 2
}

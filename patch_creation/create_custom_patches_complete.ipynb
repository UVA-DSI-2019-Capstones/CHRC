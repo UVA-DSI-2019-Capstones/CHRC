{
 "cells": [
  {
   "cell_type": "code",
   "execution_count": 10,
   "metadata": {
    "collapsed": true
   },
   "outputs": [
    {
     "name": "stdout",
     "output_type": "stream",
     "text": [
      "Solving environment: failed\n",
      "\n",
      "UnsatisfiableError: The following specifications were found to be in conflict:\n",
      "  - jeepney\n",
      "  - openslide-python\n",
      "Use \"conda info <package>\" to see the dependencies for each package.\n",
      "\n"
     ]
    },
    {
     "ename": "OSError",
     "evalue": "libopenslide.so.0: cannot open shared object file: No such file or directory",
     "output_type": "error",
     "traceback": [
      "\u001b[0;31m---------------------------------------------------------------------------\u001b[0m",
      "\u001b[0;31mOSError\u001b[0m                                   Traceback (most recent call last)",
      "\u001b[0;32m<ipython-input-10-b9d0b65e621a>\u001b[0m in \u001b[0;36m<module>\u001b[0;34m()\u001b[0m\n\u001b[1;32m      5\u001b[0m \u001b[0;32mimport\u001b[0m \u001b[0mre\u001b[0m\u001b[0;34m\u001b[0m\u001b[0m\n\u001b[1;32m      6\u001b[0m \u001b[0;32mfrom\u001b[0m \u001b[0mpandas\u001b[0m \u001b[0;32mimport\u001b[0m \u001b[0mDataFrame\u001b[0m\u001b[0;34m,\u001b[0m \u001b[0mSeries\u001b[0m\u001b[0;34m\u001b[0m\u001b[0m\n\u001b[0;32m----> 7\u001b[0;31m \u001b[0;32mfrom\u001b[0m \u001b[0mopenslide\u001b[0m \u001b[0;32mimport\u001b[0m \u001b[0mopen_slide\u001b[0m\u001b[0;34m\u001b[0m\u001b[0m\n\u001b[0m\u001b[1;32m      8\u001b[0m \u001b[0;32mfrom\u001b[0m \u001b[0mPIL\u001b[0m \u001b[0;32mimport\u001b[0m \u001b[0mImage\u001b[0m\u001b[0;34m\u001b[0m\u001b[0m\n\u001b[1;32m      9\u001b[0m \u001b[0;32mimport\u001b[0m \u001b[0mtimeit\u001b[0m\u001b[0;34m\u001b[0m\u001b[0m\n",
      "\u001b[0;32m~/.local/lib/python3.6/site-packages/openslide/__init__.py\u001b[0m in \u001b[0;36m<module>\u001b[0;34m()\u001b[0m\n\u001b[1;32m     27\u001b[0m \u001b[0;32mfrom\u001b[0m \u001b[0mPIL\u001b[0m \u001b[0;32mimport\u001b[0m \u001b[0mImage\u001b[0m\u001b[0;34m\u001b[0m\u001b[0m\n\u001b[1;32m     28\u001b[0m \u001b[0;34m\u001b[0m\u001b[0m\n\u001b[0;32m---> 29\u001b[0;31m \u001b[0;32mfrom\u001b[0m \u001b[0mopenslide\u001b[0m \u001b[0;32mimport\u001b[0m \u001b[0mlowlevel\u001b[0m\u001b[0;34m\u001b[0m\u001b[0m\n\u001b[0m\u001b[1;32m     30\u001b[0m \u001b[0;34m\u001b[0m\u001b[0m\n\u001b[1;32m     31\u001b[0m \u001b[0;31m# For the benefit of library users\u001b[0m\u001b[0;34m\u001b[0m\u001b[0;34m\u001b[0m\u001b[0m\n",
      "\u001b[0;32m~/.local/lib/python3.6/site-packages/openslide/lowlevel.py\u001b[0m in \u001b[0;36m<module>\u001b[0;34m()\u001b[0m\n\u001b[1;32m     56\u001b[0m         \u001b[0m_lib\u001b[0m \u001b[0;34m=\u001b[0m \u001b[0mcdll\u001b[0m\u001b[0;34m.\u001b[0m\u001b[0mLoadLibrary\u001b[0m\u001b[0;34m(\u001b[0m\u001b[0m_lib\u001b[0m\u001b[0;34m)\u001b[0m\u001b[0;34m\u001b[0m\u001b[0m\n\u001b[1;32m     57\u001b[0m \u001b[0;32melse\u001b[0m\u001b[0;34m:\u001b[0m\u001b[0;34m\u001b[0m\u001b[0m\n\u001b[0;32m---> 58\u001b[0;31m     \u001b[0m_lib\u001b[0m \u001b[0;34m=\u001b[0m \u001b[0mcdll\u001b[0m\u001b[0;34m.\u001b[0m\u001b[0mLoadLibrary\u001b[0m\u001b[0;34m(\u001b[0m\u001b[0;34m'libopenslide.so.0'\u001b[0m\u001b[0;34m)\u001b[0m\u001b[0;34m\u001b[0m\u001b[0m\n\u001b[0m\u001b[1;32m     59\u001b[0m \u001b[0;34m\u001b[0m\u001b[0m\n\u001b[1;32m     60\u001b[0m \u001b[0;32mtry\u001b[0m\u001b[0;34m:\u001b[0m\u001b[0;34m\u001b[0m\u001b[0m\n",
      "\u001b[0;32m/apps/software/standard/core/anaconda/5.2.0-py3.6/lib/python3.6/ctypes/__init__.py\u001b[0m in \u001b[0;36mLoadLibrary\u001b[0;34m(self, name)\u001b[0m\n\u001b[1;32m    424\u001b[0m \u001b[0;34m\u001b[0m\u001b[0m\n\u001b[1;32m    425\u001b[0m     \u001b[0;32mdef\u001b[0m \u001b[0mLoadLibrary\u001b[0m\u001b[0;34m(\u001b[0m\u001b[0mself\u001b[0m\u001b[0;34m,\u001b[0m \u001b[0mname\u001b[0m\u001b[0;34m)\u001b[0m\u001b[0;34m:\u001b[0m\u001b[0;34m\u001b[0m\u001b[0m\n\u001b[0;32m--> 426\u001b[0;31m         \u001b[0;32mreturn\u001b[0m \u001b[0mself\u001b[0m\u001b[0;34m.\u001b[0m\u001b[0m_dlltype\u001b[0m\u001b[0;34m(\u001b[0m\u001b[0mname\u001b[0m\u001b[0;34m)\u001b[0m\u001b[0;34m\u001b[0m\u001b[0m\n\u001b[0m\u001b[1;32m    427\u001b[0m \u001b[0;34m\u001b[0m\u001b[0m\n\u001b[1;32m    428\u001b[0m \u001b[0mcdll\u001b[0m \u001b[0;34m=\u001b[0m \u001b[0mLibraryLoader\u001b[0m\u001b[0;34m(\u001b[0m\u001b[0mCDLL\u001b[0m\u001b[0;34m)\u001b[0m\u001b[0;34m\u001b[0m\u001b[0m\n",
      "\u001b[0;32m/apps/software/standard/core/anaconda/5.2.0-py3.6/lib/python3.6/ctypes/__init__.py\u001b[0m in \u001b[0;36m__init__\u001b[0;34m(self, name, mode, handle, use_errno, use_last_error)\u001b[0m\n\u001b[1;32m    346\u001b[0m \u001b[0;34m\u001b[0m\u001b[0m\n\u001b[1;32m    347\u001b[0m         \u001b[0;32mif\u001b[0m \u001b[0mhandle\u001b[0m \u001b[0;32mis\u001b[0m \u001b[0;32mNone\u001b[0m\u001b[0;34m:\u001b[0m\u001b[0;34m\u001b[0m\u001b[0m\n\u001b[0;32m--> 348\u001b[0;31m             \u001b[0mself\u001b[0m\u001b[0;34m.\u001b[0m\u001b[0m_handle\u001b[0m \u001b[0;34m=\u001b[0m \u001b[0m_dlopen\u001b[0m\u001b[0;34m(\u001b[0m\u001b[0mself\u001b[0m\u001b[0;34m.\u001b[0m\u001b[0m_name\u001b[0m\u001b[0;34m,\u001b[0m \u001b[0mmode\u001b[0m\u001b[0;34m)\u001b[0m\u001b[0;34m\u001b[0m\u001b[0m\n\u001b[0m\u001b[1;32m    349\u001b[0m         \u001b[0;32melse\u001b[0m\u001b[0;34m:\u001b[0m\u001b[0;34m\u001b[0m\u001b[0m\n\u001b[1;32m    350\u001b[0m             \u001b[0mself\u001b[0m\u001b[0;34m.\u001b[0m\u001b[0m_handle\u001b[0m \u001b[0;34m=\u001b[0m \u001b[0mhandle\u001b[0m\u001b[0;34m\u001b[0m\u001b[0m\n",
      "\u001b[0;31mOSError\u001b[0m: libopenslide.so.0: cannot open shared object file: No such file or directory"
     ]
    }
   ],
   "source": [
    "!conda install -c cdeepakroy openslide-python \n",
    "import csv\n",
    "import os\n",
    "import glob\n",
    "import re\n",
    "from pandas import DataFrame, Series\n",
    "from openslide import open_slide\n",
    "from PIL import Image\n",
    "import timeit\n",
    "import time\n",
    "import math\n",
    "import numpy as np\n",
    "from scipy.ndimage.morphology import binary_fill_holes\n",
    "from skimage.color import rgb2gray\n",
    "from skimage.feature import canny\n",
    "from skimage.morphology import binary_closing, binary_dilation, disk"
   ]
  },
  {
   "cell_type": "code",
   "execution_count": 2,
   "metadata": {
    "collapsed": true
   },
   "outputs": [],
   "source": [
    "train_paths = [\"/scratch/ss4yd/chrc_data/train/Celiac/\"]\n",
    "\n",
    "\n",
    "images = {}\n",
    "images_by_folder = {}\n",
    "for train_path in train_paths:\n",
    "    images_by_folder[str(train_path)] = []\n",
    "    files = glob.glob(os.path.join(train_path, '*.svs'))\n",
    "    for fl in files:\n",
    "        flbase = os.path.basename(fl)\n",
    "        flbase_noext = os.path.splitext(flbase)[0]\n",
    "        images[flbase_noext]=fl\n",
    "        images_by_folder[str(train_path)].append(flbase)"
   ]
  },
  {
   "cell_type": "code",
   "execution_count": 3,
   "metadata": {
    "collapsed": true
   },
   "outputs": [],
   "source": [
    "path_change_map = {}\n",
    "\n",
    "for key in list(images_by_folder.keys()):\n",
    "    temp = key.replace('chrc_data', 'chrc_data_patches')\n",
    "    path_change_map[key] = temp"
   ]
  },
  {
   "cell_type": "code",
   "execution_count": 61,
   "metadata": {},
   "outputs": [],
   "source": [
    "def convert_to_3d_array(patch):\n",
    "    rgb = patch.convert('RGB')\n",
    "    return np.array(rgb)\n",
    "\n",
    "def optical_density(tile):\n",
    "    tile = tile.astype(np.float64)\n",
    "    od = -np.log((tile+1)/240)\n",
    "    return od\n",
    "\n",
    "def keep_tile(tile, tile_size,  tissue_threshold):\n",
    "    if tile.shape[0:2] == (tile_size, tile_size):\n",
    "        print(\"inside if\")\n",
    "        tile_orig = tile\n",
    "        tile = rgb2gray(tile)\n",
    "        tile = 1 - tile\n",
    "        \n",
    "        tile = canny(tile)\n",
    "        \n",
    "        tile = binary_closing(tile, disk(10))\n",
    "        tile = binary_dilation(tile, disk(10))\n",
    "        tile = binary_fill_holes(tile)\n",
    "        percentage1 = tile.mean()\n",
    "        \n",
    "        check1 = percentage1 >= tissue_threshold\n",
    "\n",
    "        # Check 2\n",
    "        # Convert to optical density values\n",
    "        tile = optical_density(tile_orig)\n",
    "        # Threshold at beta\n",
    "        beta = 0.15\n",
    "        tile = np.min(tile, axis=2) >= beta\n",
    "        # Apply morphology for same reasons as above.\n",
    "        tile = binary_closing(tile, disk(2))\n",
    "        tile = binary_dilation(tile, disk(2))\n",
    "        tile = binary_fill_holes(tile)\n",
    "        percentage2 = tile.mean()\n",
    "        check2 = percentage2 >= tissue_threshold\n",
    "        print(percentage1, percentage2)\n",
    "        return check1 and check2\n",
    "    else:\n",
    "        return False\n",
    "\n",
    "def process_tile(tile, sample_size, grayscale, slide_num):\n",
    "    \n",
    "    \"\"\"\n",
    "    Process a tile into a group of smaller samples.\n",
    "    Cut up a tile into smaller blocks of sample_size x sample_size pixels,\n",
    "    change the shape of each sample from (H, W, channels) to\n",
    "    (channels, H, W), then flatten each into a vector of length\n",
    "    channels*H*W.\n",
    "    Args:\n",
    "      tile_tuple: A (slide_num, tile) tuple, where slide_num is an\n",
    "        integer, and tile is a 3D NumPy array of shape\n",
    "        (tile_size, tile_size, channels).\n",
    "      sample_size: The new width and height of the square samples to be\n",
    "        generated.\n",
    "      grayscale: Whether or not to generate grayscale samples, rather\n",
    "        than RGB.\n",
    "    Returns:\n",
    "      A list of (slide_num, sample) tuples representing cut up tiles,\n",
    "      where each sample is a 3D NumPy array of shape\n",
    "      (sample_size_x, sample_size_y, channels).\n",
    "    \"\"\"\n",
    "    if grayscale:\n",
    "        tile = rgb2gray(tile)[:, :, np.newaxis]  # Grayscale\n",
    "        # Save disk space and future IO time by converting from [0,1] to [0,255],\n",
    "        # at the expense of some minor loss of information.\n",
    "        tile = np.round(tile * 255).astype(\"uint8\")\n",
    "    x, y, ch = tile.shape\n",
    "    # 1. Reshape into a 5D array of (num_x, sample_size_x, num_y, sample_size_y, ch), where\n",
    "    # num_x and num_y are the number of chopped tiles on the x and y axes, respectively.\n",
    "    # 2. Swap sample_size_x and num_y axes to create\n",
    "    # (num_x, num_y, sample_size_x, sample_size_y, ch).\n",
    "    # 3. Combine num_x and num_y into single axis, returning\n",
    "    # (num_samples, sample_size_x, sample_size_y, ch).\n",
    "    samples = (tile.reshape((x // sample_size, sample_size, y // sample_size, sample_size, ch))\n",
    "                   .swapaxes(1, 2)\n",
    "                   .reshape((-1, sample_size, sample_size, ch)))\n",
    "    samples = [(slide_num, sample) for sample in list(samples)]\n",
    "    return samples\n",
    "\n",
    "\n",
    "def create_patches(slide, patch_size, overlap):\n",
    "    # steps to advance per axis with overlap\n",
    "    step_size = patch_size - overlap\n",
    "    \n",
    "    # get dimensions of the image\n",
    "    xlim = slide.level_dimensions[0][0]\n",
    "    ylim = slide.level_dimensions[0][1]\n",
    "    print(\"Dimensions x: \" + str(xlim) + \" y: \" + str(ylim))\n",
    "    \n",
    "    # get the number of times to traverse each axis\n",
    "    x_ind = math.ceil(xlim/(step_size))\n",
    "    y_ind = math.ceil(ylim/(step_size))\n",
    "    \n",
    "    # initialize list to store patches\n",
    "    patches = []\n",
    "    \n",
    "    # pixels left to traverse in the y-axis at the beginning of the traversal\n",
    "    img_y_left = ylim\n",
    "    # initialize the starting y corner\n",
    "    y = 0 - step_size\n",
    "    for y_ in range(y_ind):\n",
    "        \n",
    "        # initialize the starting x corner\n",
    "        x = 0-step_size\n",
    "        \n",
    "        # advance the y axis (note: it starts with 0)\n",
    "        y = y + step_size\n",
    "        \n",
    "        # pixels left to traverse in the x-axis at the beginning of the traversal\n",
    "        img_x_left = xlim\n",
    "        \n",
    "        # update the number of pixels left to traverse\n",
    "        img_y_left = img_y_left - step_size\n",
    "        print('y - left: ' + str(img_y_left))\n",
    "        \n",
    "        # if more than patch size left, get the (patch_size x patch_size) image\n",
    "        if (img_y_left > 0 and img_y_left > patch_size):\n",
    "            for x_ in range(x_ind):\n",
    "                x = x + (step_size)\n",
    "                img_x_left = img_x_left - step_size\n",
    "                print(img_x_left)\n",
    "                if (img_x_left > 0 and img_x_left > patch_size):\n",
    "                    patches.append(slide.read_region((x, y), 0, (patch_size, patch_size)))\n",
    "                elif (img_x_left < patch_size and img_x_left > 0):\n",
    "                    x = xlim - patch_size\n",
    "                    patches.append(slide.read_region((x, y), 0, (patch_size, patch_size)))\n",
    "                    break\n",
    "        # if less than patch size left, get the rest of the image, regardless of the overlap\n",
    "        elif (img_y_left > 0 and img_y_left < patch_size):\n",
    "            y = ylim - patch_size\n",
    "            for x_ in range(x_ind):\n",
    "                x = x + (step_size)\n",
    "                img_x_left = img_x_left - step_size\n",
    "                print(img_x_left)\n",
    "                if (img_x_left > 0 and img_x_left > patch_size):\n",
    "                    patches.append(slide.read_region((x, y), 0, (patch_size, patch_size)))\n",
    "                elif (img_x_left < patch_size and img_x_left > 0):\n",
    "                    x = xlim - patch_size\n",
    "                    patches.append(slide.read_region((x, y), 0, (patch_size, patch_size)))\n",
    "                    break\n",
    "            break\n",
    "    \n",
    "    return patches"
   ]
  },
  {
   "cell_type": "code",
   "execution_count": 62,
   "metadata": {
    "collapsed": true
   },
   "outputs": [],
   "source": [
    "def create_filtered_patches(slide, patch_size, overlap, slide_num):\n",
    "    patches = create_patches(slide, patch_size, overlap)\n",
    "    \n",
    "    # convert to RGB from RGBA\n",
    "    tiles = [convert_to_3d_array(patch) for patch in patches]\n",
    "    \n",
    "    filtered_tiles = [tile for tile in tiles if keep_tile(tile,patch_size, 0.30)]\n",
    "    \n",
    "    samples = [process_tile(tile, patch_size, False, slide_num) for tile in filtered_tiles]\n",
    "    \n",
    "    return samples\n",
    "    \n",
    "    "
   ]
  },
  {
   "cell_type": "code",
   "execution_count": 63,
   "metadata": {
    "collapsed": true
   },
   "outputs": [],
   "source": [
    "slide = open_slide(images['C07-37_05'])"
   ]
  },
  {
   "cell_type": "code",
   "execution_count": 64,
   "metadata": {},
   "outputs": [
    {
     "name": "stdout",
     "output_type": "stream",
     "text": [
      "Dimensions x: 5603 y: 6478\n",
      "y - left: 4978\n",
      "4103\n",
      "2603\n",
      "y - left: 3478\n",
      "4103\n",
      "2603\n",
      "y - left: 1978\n",
      "4103\n",
      "2603\n",
      "inside if\n"
     ]
    },
    {
     "name": "stderr",
     "output_type": "stream",
     "text": [
      "/apps/software/standard/core/anaconda3/4.4.0/lib/python3.6/site-packages/scipy/ndimage/measurements.py:431: FutureWarning: Conversion of the second argument of issubdtype from `int` to `np.signedinteger` is deprecated. In future, it will be treated as `np.int64 == np.dtype(int).type`.\n",
      "  safe = ((np.issubdtype(dt, int) and dt.itemsize <= int_size) or\n"
     ]
    },
    {
     "name": "stdout",
     "output_type": "stream",
     "text": [
      "0.3462753333333333 0.3103207777777778\n",
      "inside if\n",
      "0.04852555555555556 0.040675666666666666\n",
      "inside if\n",
      "0.7342851111111112 0.7060967777777778\n",
      "inside if\n",
      "0.32853266666666664 0.3102772222222222\n",
      "inside if\n",
      "0.495234 0.4643152222222222\n",
      "inside if\n",
      "0.566612 0.543941\n"
     ]
    }
   ],
   "source": [
    "samples = create_filtered_patches(slide, patch_size=3000, overlap=1500, slide_num='C07-37_05')"
   ]
  },
  {
   "cell_type": "code",
   "execution_count": 65,
   "metadata": {
    "collapsed": true
   },
   "outputs": [],
   "source": [
    "def save_nonlabelled_sample_2_jpeg(sample, save_dir):\n",
    "    \"\"\"\n",
    "    Save the sample without labels into JPEG\n",
    "    Args:\n",
    "      sample_element: a sample tuple without labels, e.g. (slide_num, sample)\n",
    "      save_dir: the file directory at which to save JPEGs\n",
    "    \"\"\"\n",
    "    slide_num, img_value = sample\n",
    "    filename = '{slide_num}_{hash}.jpeg'.format(\n",
    "        slide_num=slide_num, hash=np.random.randint(1e4))\n",
    "    filepath = os.path.join(save_dir, filename)\n",
    "    save_jpeg_help(img_value, filepath)\n",
    "\n",
    "\n",
    "def save_jpeg_help(img_value, filepath):\n",
    "    \"\"\"\n",
    "     Save data into JPEG\n",
    "     Args:\n",
    "       img_value: the image value with the size (img_size_x, img_size_y, channels)\n",
    "       file path: the file path at which to save JPEGs\n",
    "     \"\"\"\n",
    "    dir = os.path.dirname(filepath)\n",
    "    os.makedirs(dir, exist_ok=True)\n",
    "    img = Image.fromarray(img_value.astype(np.uint8), 'RGB')\n",
    "    img.save(filepath)\n"
   ]
  },
  {
   "cell_type": "code",
   "execution_count": 68,
   "metadata": {},
   "outputs": [],
   "source": [
    "for sample in samples:\n",
    "    save_nonlabelled_sample_2_jpeg(sample[0], './')"
   ]
  }
 ],
 "metadata": {
  "kernelspec": {
   "display_name": "Python 3",
   "language": "python",
   "name": "python3"
  },
  "language_info": {
   "codemirror_mode": {
    "name": "ipython",
    "version": 3
   },
   "file_extension": ".py",
   "mimetype": "text/x-python",
   "name": "python",
   "nbconvert_exporter": "python",
   "pygments_lexer": "ipython3",
   "version": "3.6.6"
  }
 },
 "nbformat": 4,
 "nbformat_minor": 2
}

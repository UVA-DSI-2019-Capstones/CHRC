{
 "cells": [
  {
   "cell_type": "code",
   "execution_count": 98,
   "metadata": {
    "collapsed": true
   },
   "outputs": [],
   "source": [
    "import csv\n",
    "import os\n",
    "import glob\n",
    "import re\n",
    "from pandas import DataFrame, Series\n",
    "from openslide import open_slide\n",
    "from PIL import Image\n",
    "import timeit\n",
    "import time\n",
    "import math\n",
    "import numpy as np\n",
    "from scipy.ndimage.morphology import binary_fill_holes\n",
    "from skimage.color import rgb2gray\n",
    "from skimage.feature import canny\n",
    "from skimage.morphology import binary_closing, binary_dilation, disk"
   ]
  },
  {
   "cell_type": "code",
   "execution_count": 2,
   "metadata": {
    "collapsed": true
   },
   "outputs": [],
   "source": [
    "train_paths = [\"/scratch/ss4yd/chrc_data/train/Celiac/\"]\n",
    "\n",
    "\n",
    "images = {}\n",
    "images_by_folder = {}\n",
    "for train_path in train_paths:\n",
    "    images_by_folder[str(train_path)] = []\n",
    "    files = glob.glob(os.path.join(train_path, '*.svs'))\n",
    "    for fl in files:\n",
    "        flbase = os.path.basename(fl)\n",
    "        flbase_noext = os.path.splitext(flbase)[0]\n",
    "        images[flbase_noext]=fl\n",
    "        images_by_folder[str(train_path)].append(flbase)"
   ]
  },
  {
   "cell_type": "code",
   "execution_count": 5,
   "metadata": {},
   "outputs": [],
   "source": [
    "path_change_map = {}\n",
    "\n",
    "for key in list(images_by_folder.keys()):\n",
    "    temp = key.replace('chrc_data', 'chrc_data_patches')\n",
    "    path_change_map[key] = temp"
   ]
  },
  {
   "cell_type": "code",
   "execution_count": 131,
   "metadata": {},
   "outputs": [],
   "source": [
    "# images"
   ]
  },
  {
   "cell_type": "code",
   "execution_count": 52,
   "metadata": {},
   "outputs": [],
   "source": [
    "overlap = 1500\n",
    "patch_size = 3000"
   ]
  },
  {
   "cell_type": "code",
   "execution_count": 125,
   "metadata": {},
   "outputs": [],
   "source": [
    "op_slide_img = open_slide(images['C03-10_02'])"
   ]
  },
  {
   "cell_type": "code",
   "execution_count": 126,
   "metadata": {},
   "outputs": [
    {
     "name": "stdout",
     "output_type": "stream",
     "text": [
      "y - left: 5057\n",
      "8084\n",
      "6584\n",
      "5084\n",
      "3584\n",
      "2084\n",
      "y - left: 3557\n",
      "8084\n",
      "6584\n",
      "5084\n",
      "3584\n",
      "2084\n",
      "y - left: 2057\n",
      "8084\n",
      "6584\n",
      "5084\n",
      "3584\n",
      "2084\n"
     ]
    }
   ],
   "source": [
    "step_size = patch_size - overlap\n",
    "\n",
    "xlim = op_slide_img.level_dimensions[0][0]\n",
    "ylim = op_slide_img.level_dimensions[0][1]\n",
    "print(\"Dimensions x: \" + str(xlim) + \" y: \" + str(ylim))\n",
    "\n",
    "x_ind = math.ceil(xlim/(step_size))\n",
    "y_ind = math.ceil(ylim/(step_size))\n",
    "\n",
    "patches = []\n",
    "\n",
    "img_y_left = ylim\n",
    "\n",
    "y = 0 - step_size\n",
    "for y_ in range(y_ind):\n",
    "    x = 0-step_size\n",
    "    y = y + step_size\n",
    "    img_x_left = xlim\n",
    "    img_y_left = img_y_left - step_size\n",
    "    print('y - left: ' + str(img_y_left))\n",
    "    if (img_y_left > 0 and img_y_left > patch_size):\n",
    "        \n",
    "        for x_ in range(x_ind):\n",
    "            x = x + (step_size)\n",
    "            img_x_left = img_x_left - step_size\n",
    "            print(img_x_left)\n",
    "            if (img_x_left > 0 and img_x_left > patch_size):\n",
    "                patches.append(op_slide_img.read_region((x, y), 0, (patch_size, patch_size)))\n",
    "            elif (img_x_left < patch_size and img_x_left > 0):\n",
    "                x = xlim - patch_size\n",
    "                patches.append(op_slide_img.read_region((x, y), 0, (patch_size, patch_size)))\n",
    "                break\n",
    "    \n",
    "    elif (img_y_left > 0 and img_y_left < patch_size):\n",
    "        y = ylim - patch_size\n",
    "        for x_ in range(x_ind):\n",
    "            x = x + (step_size)\n",
    "            img_x_left = img_x_left - step_size\n",
    "            print(img_x_left)\n",
    "            if (img_x_left > 0 and img_x_left > patch_size):\n",
    "                patches.append(op_slide_img.read_region((x, y), 0, (patch_size, patch_size)))\n",
    "            elif (img_x_left < patch_size and img_x_left > 0):\n",
    "                x = xlim - patch_size\n",
    "                patches.append(op_slide_img.read_region((x, y), 0, (patch_size, patch_size)))\n",
    "                break\n",
    "        break\n",
    "        \n",
    "        \n",
    "    \n"
   ]
  },
  {
   "cell_type": "code",
   "execution_count": 127,
   "metadata": {},
   "outputs": [],
   "source": [
    "for i in range(len(patches)):\n",
    "    \n",
    "    patches[i].save('test' + str(i)+'.jpg')\n",
    "    "
   ]
  },
  {
   "cell_type": "code",
   "execution_count": 129,
   "metadata": {},
   "outputs": [],
   "source": [
    "def create_patches(slide, patch_size, overlap):\n",
    "    # steps to advance per axis with overlap\n",
    "    step_size = patch_size - overlap\n",
    "    \n",
    "    # get dimensions of the image\n",
    "    xlim = op_slide_img.level_dimensions[0][0]\n",
    "    ylim = op_slide_img.level_dimensions[0][1]\n",
    "    print(\"Dimensions x: \" + str(xlim) + \" y: \" + str(ylim))\n",
    "    \n",
    "    # get the number of times to traverse each axis\n",
    "    x_ind = math.ceil(xlim/(step_size))\n",
    "    y_ind = math.ceil(ylim/(step_size))\n",
    "    \n",
    "    # initialize list to store patches\n",
    "    patches = []\n",
    "    \n",
    "    # pixels left to traverse in the y-axis at the beginning of the traversal\n",
    "    img_y_left = ylim\n",
    "    # initialize the starting y corner\n",
    "    y = 0 - step_size\n",
    "    for y_ in range(y_ind):\n",
    "        \n",
    "        # initialize the starting x corner\n",
    "        x = 0-step_size\n",
    "        \n",
    "        # advance the y axis (note: it starts with 0)\n",
    "        y = y + step_size\n",
    "        \n",
    "        # pixels left to traverse in the x-axis at the beginning of the traversal\n",
    "        img_x_left = xlim\n",
    "        \n",
    "        # update the number of pixels left to traverse\n",
    "        img_y_left = img_y_left - step_size\n",
    "        # print('y - left: ' + str(img_y_left))\n",
    "        \n",
    "        # if more than patch size left, get the (patch_size x patch_size) image\n",
    "        if (img_y_left > 0 and img_y_left > patch_size):\n",
    "            for x_ in range(x_ind):\n",
    "                x = x + (step_size)\n",
    "                img_x_left = img_x_left - step_size\n",
    "                print(img_x_left)\n",
    "                if (img_x_left > 0 and img_x_left > patch_size):\n",
    "                    patches.append(op_slide_img.read_region(\n",
    "                        (x, y), 0, (patch_size, patch_size)))\n",
    "                elif (img_x_left < patch_size and img_x_left > 0):\n",
    "                    x = xlim - patch_size\n",
    "                    patches.append(op_slide_img.read_region((x, y), 0, (patch_size, patch_size)))\n",
    "                    break\n",
    "        # if less than patch size left, get the rest of the image, regardless of the overlap\n",
    "        elif (img_y_left > 0 and img_y_left < patch_size):\n",
    "            y = ylim - patch_size\n",
    "            for x_ in range(x_ind):\n",
    "                x = x + (step_size)\n",
    "                img_x_left = img_x_left - step_size\n",
    "                print(img_x_left)\n",
    "                if (img_x_left > 0 and img_x_left > patch_size):\n",
    "                    patches.append(op_slide_img.read_region(\n",
    "                        (x, y), 0, (patch_size, patch_size)))\n",
    "                elif (img_x_left < patch_size and img_x_left > 0):\n",
    "                    x = xlim - patch_size\n",
    "                    patches.append(op_slide_img.read_region(\n",
    "                        (x, y), 0, (patch_size, patch_size)))\n",
    "                    break\n",
    "            break\n",
    "    "
   ]
  },
  {
   "cell_type": "code",
   "execution_count": 85,
   "metadata": {},
   "outputs": [],
   "source": [
    "def convert_to_3d_array(patch):\n",
    "    rgb = patch.convert('RGB')\n",
    "    return np.array(rgb)\n",
    "\n",
    "tiles = [convert_to_3d_array(patch) for patch in patches]"
   ]
  },
  {
   "cell_type": "code",
   "execution_count": 130,
   "metadata": {},
   "outputs": [
    {
     "name": "stdout",
     "output_type": "stream",
     "text": [
      "Dimensions x: 9584 y: 6557\n",
      "y - left: 5057\n",
      "8084\n",
      "6584\n",
      "5084\n",
      "3584\n",
      "2084\n",
      "y - left: 3557\n",
      "8084\n",
      "6584\n",
      "5084\n",
      "3584\n",
      "2084\n",
      "y - left: 2057\n",
      "8084\n",
      "6584\n",
      "5084\n",
      "3584\n",
      "2084\n"
     ]
    }
   ],
   "source": [
    "create_patches(op_slide_img, patch_size=3000, overlap=1500)"
   ]
  },
  {
   "cell_type": "code",
   "execution_count": 87,
   "metadata": {
    "collapsed": true
   },
   "outputs": [],
   "source": [
    "def optical_density(tile):\n",
    "    tile = tile.astype(np.float64)\n",
    "    od = -np.log((tile+1)/240)\n",
    "    return od\n",
    "\n",
    "def keep_tile(tile, tile_size, tissue_threshold = 0.50):\n",
    "    if tile.shape[0:2] == (tile_size, tile_size):\n",
    "        print(\"inside if\")\n",
    "        tile_orig = tile\n",
    "        tile = rgb2gray(tile)\n",
    "        tile = 1 - tile\n",
    "        \n",
    "        tile = canny(tile)\n",
    "        \n",
    "        tile = binary_closing(tile, disk(10))\n",
    "        tile = binary_dilation(tile, disk(10))\n",
    "        tile = binary_fill_holes(tile)\n",
    "        percentage1 = tile.mean()\n",
    "        \n",
    "        check1 = percentage1 >= tissue_threshold\n",
    "\n",
    "        # Check 2\n",
    "        # Convert to optical density values\n",
    "        tile = optical_density(tile_orig)\n",
    "        # Threshold at beta\n",
    "        beta = 0.15\n",
    "        tile = np.min(tile, axis=2) >= beta\n",
    "        # Apply morphology for same reasons as above.\n",
    "        tile = binary_closing(tile, disk(2))\n",
    "        tile = binary_dilation(tile, disk(2))\n",
    "        tile = binary_fill_holes(tile)\n",
    "        percentage2 = tile.mean()\n",
    "        check2 = percentage2 >= tissue_threshold\n",
    "        print(percentage1, percentage2)\n",
    "        return check1 and check2\n",
    "    else:\n",
    "        return False\n"
   ]
  },
  {
   "cell_type": "code",
   "execution_count": 97,
   "metadata": {
    "scrolled": true
   },
   "outputs": [
    {
     "name": "stdout",
     "output_type": "stream",
     "text": [
      "inside if\n"
     ]
    },
    {
     "name": "stderr",
     "output_type": "stream",
     "text": [
      "/apps/software/standard/core/anaconda3/4.4.0/lib/python3.6/site-packages/scipy/ndimage/measurements.py:431: FutureWarning: Conversion of the second argument of issubdtype from `int` to `np.signedinteger` is deprecated. In future, it will be treated as `np.int64 == np.dtype(int).type`.\n",
      "  safe = ((np.issubdtype(dt, int) and dt.itemsize <= int_size) or\n"
     ]
    },
    {
     "name": "stdout",
     "output_type": "stream",
     "text": [
      "0.07480377777777777 0.06350833333333333\n"
     ]
    },
    {
     "data": {
      "text/plain": [
       "False"
      ]
     },
     "execution_count": 97,
     "metadata": {},
     "output_type": "execute_result"
    }
   ],
   "source": [
    "keep_tile(tiles[0], 3000, tissue_threshold=0.3)"
   ]
  },
  {
   "cell_type": "code",
   "execution_count": 88,
   "metadata": {},
   "outputs": [
    {
     "data": {
      "text/plain": [
       "array([[[0.04691692, 0.04691692, 0.06010392],\n",
       "        [0.04255961, 0.06010392, 0.06453852],\n",
       "        [0.02531781, 0.04691692, 0.06010392],\n",
       "        ...,\n",
       "        [0.04255961, 0.05568891, 0.04255961],\n",
       "        [0.04255961, 0.04255961, 0.03390155],\n",
       "        [0.06453852, 0.06453852, 0.05568891]],\n",
       "\n",
       "       [[0.05568891, 0.05568891, 0.06010392],\n",
       "        [0.04691692, 0.06899287, 0.06899287],\n",
       "        [0.04255961, 0.06010392, 0.06453852],\n",
       "        ...,\n",
       "        [0.04691692, 0.06010392, 0.04255961],\n",
       "        [0.06453852, 0.06453852, 0.05568891],\n",
       "        [0.06453852, 0.05129329, 0.05568891]],\n",
       "\n",
       "       [[0.06453852, 0.06453852, 0.06453852],\n",
       "        [0.06010392, 0.06899287, 0.06453852],\n",
       "        [0.04255961, 0.06010392, 0.05568891],\n",
       "        ...,\n",
       "        [0.06010392, 0.06899287, 0.06453852],\n",
       "        [0.06010392, 0.06899287, 0.06899287],\n",
       "        [0.05129329, 0.06010392, 0.05568891]],\n",
       "\n",
       "       ...,\n",
       "\n",
       "       [[0.06899287, 0.05568891, 0.05568891],\n",
       "        [0.04255961, 0.05129329, 0.04255961],\n",
       "        [0.04255961, 0.06899287, 0.06010392],\n",
       "        ...,\n",
       "        [0.06010392, 0.06453852, 0.05568891],\n",
       "        [0.06899287, 0.06899287, 0.06010392],\n",
       "        [0.03822121, 0.06010392, 0.05129329]],\n",
       "\n",
       "       [[0.07796154, 0.05129329, 0.06010392],\n",
       "        [0.06010392, 0.05568891, 0.06010392],\n",
       "        [0.03822121, 0.06010392, 0.05568891],\n",
       "        ...,\n",
       "        [0.04255961, 0.04691692, 0.03390155],\n",
       "        [0.05568891, 0.06453852, 0.05129329],\n",
       "        [0.06899287, 0.07796154, 0.06899287]],\n",
       "\n",
       "       [[0.08701138, 0.06010392, 0.07796154],\n",
       "        [0.07346715, 0.06010392, 0.07796154],\n",
       "        [0.05568891, 0.07346715, 0.07796154],\n",
       "        ...,\n",
       "        [0.03390155, 0.06010392, 0.04255961],\n",
       "        [0.04691692, 0.07796154, 0.06010392],\n",
       "        [0.06899287, 0.07796154, 0.07346715]]])"
      ]
     },
     "execution_count": 88,
     "metadata": {},
     "output_type": "execute_result"
    }
   ],
   "source": [
    "tile_orig = tiles[1]\n",
    "tile = optical_density(tile_orig)\n",
    "tile"
   ]
  },
  {
   "cell_type": "code",
   "execution_count": 89,
   "metadata": {},
   "outputs": [
    {
     "data": {
      "text/plain": [
       "array([[False, False, False, ..., False, False,  True],\n",
       "       [ True, False, False, ..., False,  True,  True],\n",
       "       [ True,  True, False, ...,  True,  True,  True],\n",
       "       ...,\n",
       "       [ True, False, False, ...,  True,  True, False],\n",
       "       [ True,  True, False, ..., False,  True,  True],\n",
       "       [ True,  True,  True, ..., False, False,  True]])"
      ]
     },
     "execution_count": 89,
     "metadata": {},
     "output_type": "execute_result"
    }
   ],
   "source": [
    "# Threshold at beta\n",
    "beta = 0.05\n",
    "tile = np.min(tile, axis=2) >= beta\n",
    "tile"
   ]
  },
  {
   "cell_type": "code",
   "execution_count": 80,
   "metadata": {},
   "outputs": [
    {
     "data": {
      "text/plain": [
       "array([[False, False, False, ..., False, False, False],\n",
       "       [False, False, False, ..., False, False, False],\n",
       "       [False, False, False, ..., False, False, False],\n",
       "       ...,\n",
       "       [False, False, False, ..., False, False, False],\n",
       "       [False, False, False, ..., False, False, False],\n",
       "       [False, False, False, ..., False, False, False]])"
      ]
     },
     "execution_count": 80,
     "metadata": {},
     "output_type": "execute_result"
    }
   ],
   "source": [
    "# Apply morphology for same reasons as above.\n",
    "tile = binary_closing(tile, disk(2))\n",
    "tile"
   ]
  },
  {
   "cell_type": "code",
   "execution_count": 81,
   "metadata": {},
   "outputs": [
    {
     "data": {
      "text/plain": [
       "array([[False, False, False, ..., False, False, False],\n",
       "       [False, False, False, ..., False, False, False],\n",
       "       [False, False, False, ..., False, False, False],\n",
       "       ...,\n",
       "       [False, False, False, ..., False, False, False],\n",
       "       [False, False, False, ..., False, False, False],\n",
       "       [False, False, False, ..., False, False, False]])"
      ]
     },
     "execution_count": 81,
     "metadata": {},
     "output_type": "execute_result"
    }
   ],
   "source": [
    "tile = binary_dilation(tile, disk(2))\n",
    "tile"
   ]
  },
  {
   "cell_type": "code",
   "execution_count": 82,
   "metadata": {},
   "outputs": [
    {
     "data": {
      "text/plain": [
       "array([[False, False, False, ..., False, False, False],\n",
       "       [False, False, False, ..., False, False, False],\n",
       "       [False, False, False, ..., False, False, False],\n",
       "       ...,\n",
       "       [False, False, False, ..., False, False, False],\n",
       "       [False, False, False, ..., False, False, False],\n",
       "       [False, False, False, ..., False, False, False]])"
      ]
     },
     "execution_count": 82,
     "metadata": {},
     "output_type": "execute_result"
    }
   ],
   "source": [
    "tile = binary_fill_holes(tile)\n",
    "tile"
   ]
  }
 ],
 "metadata": {
  "kernelspec": {
   "display_name": "Python 3",
   "language": "python",
   "name": "python3"
  },
  "language_info": {
   "codemirror_mode": {
    "name": "ipython",
    "version": 3
   },
   "file_extension": ".py",
   "mimetype": "text/x-python",
   "name": "python",
   "nbconvert_exporter": "python",
   "pygments_lexer": "ipython3",
   "version": "3.6.1"
  }
 },
 "nbformat": 4,
 "nbformat_minor": 2
}

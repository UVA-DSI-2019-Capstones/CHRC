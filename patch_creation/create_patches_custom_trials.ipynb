{
 "cells": [
  {
   "cell_type": "code",
   "execution_count": 98,
   "metadata": {
    "collapsed": true
   },
   "outputs": [],
   "source": [
    "import csv\n",
    "import os\n",
    "import glob\n",
    "import re\n",
    "from pandas import DataFrame, Series\n",
    "from openslide import open_slide\n",
    "from PIL import Image\n",
    "import timeit\n",
    "import time\n",
    "import math\n",
    "import numpy as np\n",
    "from scipy.ndimage.morphology import binary_fill_holes\n",
    "from skimage.color import rgb2gray\n",
    "from skimage.feature import canny\n",
    "from skimage.morphology import binary_closing, binary_dilation, disk"
   ]
  },
  {
   "cell_type": "code",
   "execution_count": 2,
   "metadata": {
    "collapsed": true
   },
   "outputs": [],
   "source": [
    "train_paths = [\"/scratch/ss4yd/chrc_data/train/Celiac/\"]\n",
    "\n",
    "\n",
    "images = {}\n",
    "images_by_folder = {}\n",
    "for train_path in train_paths:\n",
    "    images_by_folder[str(train_path)] = []\n",
    "    files = glob.glob(os.path.join(train_path, '*.svs'))\n",
    "    for fl in files:\n",
    "        flbase = os.path.basename(fl)\n",
    "        flbase_noext = os.path.splitext(flbase)[0]\n",
    "        images[flbase_noext]=fl\n",
    "        images_by_folder[str(train_path)].append(flbase)"
   ]
  },
  {
   "cell_type": "code",
   "execution_count": 5,
   "metadata": {},
   "outputs": [],
   "source": [
    "path_change_map = {}\n",
    "\n",
    "for key in list(images_by_folder.keys()):\n",
    "    temp = key.replace('chrc_data', 'chrc_data_patches')\n",
    "    path_change_map[key] = temp"
   ]
  },
  {
   "cell_type": "code",
   "execution_count": 132,
   "metadata": {},
   "outputs": [
    {
     "data": {
      "text/plain": [
       "{'C03-05_01': '/scratch/ss4yd/chrc_data/train/Celiac/C03-05_01.svs',\n",
       " 'C03-05_04': '/scratch/ss4yd/chrc_data/train/Celiac/C03-05_04.svs',\n",
       " 'C03-05_05': '/scratch/ss4yd/chrc_data/train/Celiac/C03-05_05.svs',\n",
       " 'C03-05_06': '/scratch/ss4yd/chrc_data/train/Celiac/C03-05_06.svs',\n",
       " 'C03-06_01': '/scratch/ss4yd/chrc_data/train/Celiac/C03-06_01.svs',\n",
       " 'C03-06_02': '/scratch/ss4yd/chrc_data/train/Celiac/C03-06_02.svs',\n",
       " 'C03-07_01': '/scratch/ss4yd/chrc_data/train/Celiac/C03-07_01.svs',\n",
       " 'C03-07_02': '/scratch/ss4yd/chrc_data/train/Celiac/C03-07_02.svs',\n",
       " 'C03-08_01': '/scratch/ss4yd/chrc_data/train/Celiac/C03-08_01.svs',\n",
       " 'C03-08_02': '/scratch/ss4yd/chrc_data/train/Celiac/C03-08_02.svs',\n",
       " 'C03-09_01': '/scratch/ss4yd/chrc_data/train/Celiac/C03-09_01.svs',\n",
       " 'C03-09_02': '/scratch/ss4yd/chrc_data/train/Celiac/C03-09_02.svs',\n",
       " 'C03-10_01': '/scratch/ss4yd/chrc_data/train/Celiac/C03-10_01.svs',\n",
       " 'C03-10_02': '/scratch/ss4yd/chrc_data/train/Celiac/C03-10_02.svs',\n",
       " 'C03-10_03': '/scratch/ss4yd/chrc_data/train/Celiac/C03-10_03.svs',\n",
       " 'C03-10_05': '/scratch/ss4yd/chrc_data/train/Celiac/C03-10_05.svs',\n",
       " 'C03-10_06': '/scratch/ss4yd/chrc_data/train/Celiac/C03-10_06.svs',\n",
       " 'C03-12_01': '/scratch/ss4yd/chrc_data/train/Celiac/C03-12_01.svs',\n",
       " 'C03-12_02': '/scratch/ss4yd/chrc_data/train/Celiac/C03-12_02.svs',\n",
       " 'C03-12_03': '/scratch/ss4yd/chrc_data/train/Celiac/C03-12_03.svs',\n",
       " 'C03-13_01': '/scratch/ss4yd/chrc_data/train/Celiac/C03-13_01.svs',\n",
       " 'C03-13_02': '/scratch/ss4yd/chrc_data/train/Celiac/C03-13_02.svs',\n",
       " 'C04-15_01': '/scratch/ss4yd/chrc_data/train/Celiac/C04-15_01.svs',\n",
       " 'C04-15_02': '/scratch/ss4yd/chrc_data/train/Celiac/C04-15_02.svs',\n",
       " 'C04-15_03': '/scratch/ss4yd/chrc_data/train/Celiac/C04-15_03.svs',\n",
       " 'C04-17_01': '/scratch/ss4yd/chrc_data/train/Celiac/C04-17_01.svs',\n",
       " 'C04-17_02': '/scratch/ss4yd/chrc_data/train/Celiac/C04-17_02.svs',\n",
       " 'C04-17_03': '/scratch/ss4yd/chrc_data/train/Celiac/C04-17_03.svs',\n",
       " 'C04-18_01': '/scratch/ss4yd/chrc_data/train/Celiac/C04-18_01.svs',\n",
       " 'C04-18_02': '/scratch/ss4yd/chrc_data/train/Celiac/C04-18_02.svs',\n",
       " 'C04-18_03': '/scratch/ss4yd/chrc_data/train/Celiac/C04-18_03.svs',\n",
       " 'C04-18_04': '/scratch/ss4yd/chrc_data/train/Celiac/C04-18_04.svs',\n",
       " 'C04-19_01': '/scratch/ss4yd/chrc_data/train/Celiac/C04-19_01.svs',\n",
       " 'C04-19_02': '/scratch/ss4yd/chrc_data/train/Celiac/C04-19_02.svs',\n",
       " 'C04-19_03': '/scratch/ss4yd/chrc_data/train/Celiac/C04-19_03.svs',\n",
       " 'C04-21_01': '/scratch/ss4yd/chrc_data/train/Celiac/C04-21_01.svs',\n",
       " 'C04-21_02': '/scratch/ss4yd/chrc_data/train/Celiac/C04-21_02.svs',\n",
       " 'C04-21_03': '/scratch/ss4yd/chrc_data/train/Celiac/C04-21_03.svs',\n",
       " 'C04-23_01': '/scratch/ss4yd/chrc_data/train/Celiac/C04-23_01.svs',\n",
       " 'C04-23_02': '/scratch/ss4yd/chrc_data/train/Celiac/C04-23_02.svs',\n",
       " 'C04-23_03': '/scratch/ss4yd/chrc_data/train/Celiac/C04-23_03.svs',\n",
       " 'C04-23_04': '/scratch/ss4yd/chrc_data/train/Celiac/C04-23_04.svs',\n",
       " 'C04-24_00': '/scratch/ss4yd/chrc_data/train/Celiac/C04-24_00.svs',\n",
       " 'C05-26_01': '/scratch/ss4yd/chrc_data/train/Celiac/C05-26_01.svs',\n",
       " 'C05-26_02': '/scratch/ss4yd/chrc_data/train/Celiac/C05-26_02.svs',\n",
       " 'C05-26_03': '/scratch/ss4yd/chrc_data/train/Celiac/C05-26_03.svs',\n",
       " 'C06-27_03': '/scratch/ss4yd/chrc_data/train/Celiac/C06-27_03.svs',\n",
       " 'C06-27_04': '/scratch/ss4yd/chrc_data/train/Celiac/C06-27_04.svs',\n",
       " 'C06-28_01': '/scratch/ss4yd/chrc_data/train/Celiac/C06-28_01.svs',\n",
       " 'C06-28_03': '/scratch/ss4yd/chrc_data/train/Celiac/C06-28_03.svs',\n",
       " 'C06-28_05': '/scratch/ss4yd/chrc_data/train/Celiac/C06-28_05.svs',\n",
       " 'C06-29_02': '/scratch/ss4yd/chrc_data/train/Celiac/C06-29_02.svs',\n",
       " 'C06-29_03': '/scratch/ss4yd/chrc_data/train/Celiac/C06-29_03.svs',\n",
       " 'C06-30_01': '/scratch/ss4yd/chrc_data/train/Celiac/C06-30_01.svs',\n",
       " 'C06-30_02': '/scratch/ss4yd/chrc_data/train/Celiac/C06-30_02.svs',\n",
       " 'C06-30_03': '/scratch/ss4yd/chrc_data/train/Celiac/C06-30_03.svs',\n",
       " 'C06-30_04': '/scratch/ss4yd/chrc_data/train/Celiac/C06-30_04.svs',\n",
       " 'C06-31_01': '/scratch/ss4yd/chrc_data/train/Celiac/C06-31_01.svs',\n",
       " 'C06-31_02': '/scratch/ss4yd/chrc_data/train/Celiac/C06-31_02.svs',\n",
       " 'C06-32_01': '/scratch/ss4yd/chrc_data/train/Celiac/C06-32_01.svs',\n",
       " 'C06-32_03': '/scratch/ss4yd/chrc_data/train/Celiac/C06-32_03.svs',\n",
       " 'C06-32_04': '/scratch/ss4yd/chrc_data/train/Celiac/C06-32_04.svs',\n",
       " 'C06-33_01': '/scratch/ss4yd/chrc_data/train/Celiac/C06-33_01.svs',\n",
       " 'C06-33_02': '/scratch/ss4yd/chrc_data/train/Celiac/C06-33_02.svs',\n",
       " 'C06-33_03': '/scratch/ss4yd/chrc_data/train/Celiac/C06-33_03.svs',\n",
       " 'C06-33_04': '/scratch/ss4yd/chrc_data/train/Celiac/C06-33_04.svs',\n",
       " 'C06-33_05': '/scratch/ss4yd/chrc_data/train/Celiac/C06-33_05.svs',\n",
       " 'C06-33_06': '/scratch/ss4yd/chrc_data/train/Celiac/C06-33_06.svs',\n",
       " 'C06-33_07': '/scratch/ss4yd/chrc_data/train/Celiac/C06-33_07.svs',\n",
       " 'C07-34_03': '/scratch/ss4yd/chrc_data/train/Celiac/C07-34_03.svs',\n",
       " 'C07-34_04': '/scratch/ss4yd/chrc_data/train/Celiac/C07-34_04.svs',\n",
       " 'C07-34_05': '/scratch/ss4yd/chrc_data/train/Celiac/C07-34_05.svs',\n",
       " 'C07-35_03': '/scratch/ss4yd/chrc_data/train/Celiac/C07-35_03.svs',\n",
       " 'C07-35_04': '/scratch/ss4yd/chrc_data/train/Celiac/C07-35_04.svs',\n",
       " 'C07-35_05': '/scratch/ss4yd/chrc_data/train/Celiac/C07-35_05.svs',\n",
       " 'C07-35_08': '/scratch/ss4yd/chrc_data/train/Celiac/C07-35_08.svs',\n",
       " 'C07-37_01': '/scratch/ss4yd/chrc_data/train/Celiac/C07-37_01.svs',\n",
       " 'C07-37_02': '/scratch/ss4yd/chrc_data/train/Celiac/C07-37_02.svs',\n",
       " 'C07-37_03': '/scratch/ss4yd/chrc_data/train/Celiac/C07-37_03.svs',\n",
       " 'C07-37_05': '/scratch/ss4yd/chrc_data/train/Celiac/C07-37_05.svs',\n",
       " 'C07-37_06': '/scratch/ss4yd/chrc_data/train/Celiac/C07-37_06.svs',\n",
       " 'C07-40_01': '/scratch/ss4yd/chrc_data/train/Celiac/C07-40_01.svs',\n",
       " 'C07-40_02': '/scratch/ss4yd/chrc_data/train/Celiac/C07-40_02.svs',\n",
       " 'C07-40_03': '/scratch/ss4yd/chrc_data/train/Celiac/C07-40_03.svs',\n",
       " 'C08-41_01': '/scratch/ss4yd/chrc_data/train/Celiac/C08-41_01.svs',\n",
       " 'C08-41_02': '/scratch/ss4yd/chrc_data/train/Celiac/C08-41_02.svs',\n",
       " 'C08-43_01': '/scratch/ss4yd/chrc_data/train/Celiac/C08-43_01.svs',\n",
       " 'C08-43_02': '/scratch/ss4yd/chrc_data/train/Celiac/C08-43_02.svs',\n",
       " 'C09-46_01': '/scratch/ss4yd/chrc_data/train/Celiac/C09-46_01.svs',\n",
       " 'C09-46_02': '/scratch/ss4yd/chrc_data/train/Celiac/C09-46_02.svs',\n",
       " 'C10-47_01': '/scratch/ss4yd/chrc_data/train/Celiac/C10-47_01.svs',\n",
       " 'C10-47_02': '/scratch/ss4yd/chrc_data/train/Celiac/C10-47_02.svs',\n",
       " 'C10-48_01': '/scratch/ss4yd/chrc_data/train/Celiac/C10-48_01.svs',\n",
       " 'C10-48_02': '/scratch/ss4yd/chrc_data/train/Celiac/C10-48_02.svs',\n",
       " 'C10-48_03': '/scratch/ss4yd/chrc_data/train/Celiac/C10-48_03.svs',\n",
       " 'C10-48_04': '/scratch/ss4yd/chrc_data/train/Celiac/C10-48_04.svs',\n",
       " 'C10-48_05': '/scratch/ss4yd/chrc_data/train/Celiac/C10-48_05.svs',\n",
       " 'C10-49_01': '/scratch/ss4yd/chrc_data/train/Celiac/C10-49_01.svs',\n",
       " 'C10-49_02': '/scratch/ss4yd/chrc_data/train/Celiac/C10-49_02.svs',\n",
       " 'C10-49_03': '/scratch/ss4yd/chrc_data/train/Celiac/C10-49_03.svs',\n",
       " 'C10-49_04': '/scratch/ss4yd/chrc_data/train/Celiac/C10-49_04.svs',\n",
       " 'C10-50_01': '/scratch/ss4yd/chrc_data/train/Celiac/C10-50_01.svs',\n",
       " 'C10-50_02': '/scratch/ss4yd/chrc_data/train/Celiac/C10-50_02.svs',\n",
       " 'C10-51_03': '/scratch/ss4yd/chrc_data/train/Celiac/C10-51_03.svs',\n",
       " 'C10-52_01': '/scratch/ss4yd/chrc_data/train/Celiac/C10-52_01.svs',\n",
       " 'C10-52_02': '/scratch/ss4yd/chrc_data/train/Celiac/C10-52_02.svs',\n",
       " 'C10-52_03': '/scratch/ss4yd/chrc_data/train/Celiac/C10-52_03.svs',\n",
       " 'C10-52_04': '/scratch/ss4yd/chrc_data/train/Celiac/C10-52_04.svs',\n",
       " 'C10-52_05': '/scratch/ss4yd/chrc_data/train/Celiac/C10-52_05.svs',\n",
       " 'C11-54_01': '/scratch/ss4yd/chrc_data/train/Celiac/C11-54_01.svs',\n",
       " 'C11-54_03': '/scratch/ss4yd/chrc_data/train/Celiac/C11-54_03.svs',\n",
       " 'C11-54_04': '/scratch/ss4yd/chrc_data/train/Celiac/C11-54_04.svs',\n",
       " 'C11-54_05': '/scratch/ss4yd/chrc_data/train/Celiac/C11-54_05.svs',\n",
       " 'C11-55_02': '/scratch/ss4yd/chrc_data/train/Celiac/C11-55_02.svs',\n",
       " 'C11-56_01': '/scratch/ss4yd/chrc_data/train/Celiac/C11-56_01.svs',\n",
       " 'C11-56_02': '/scratch/ss4yd/chrc_data/train/Celiac/C11-56_02.svs',\n",
       " 'C11-56_03': '/scratch/ss4yd/chrc_data/train/Celiac/C11-56_03.svs',\n",
       " 'C11-57_01': '/scratch/ss4yd/chrc_data/train/Celiac/C11-57_01.svs',\n",
       " 'C11-57_02': '/scratch/ss4yd/chrc_data/train/Celiac/C11-57_02.svs',\n",
       " 'C11-57_04': '/scratch/ss4yd/chrc_data/train/Celiac/C11-57_04.svs',\n",
       " 'C12-58_01': '/scratch/ss4yd/chrc_data/train/Celiac/C12-58_01.svs',\n",
       " 'C12-58_02': '/scratch/ss4yd/chrc_data/train/Celiac/C12-58_02.svs',\n",
       " 'C12-58_03': '/scratch/ss4yd/chrc_data/train/Celiac/C12-58_03.svs',\n",
       " 'C12-59_00': '/scratch/ss4yd/chrc_data/train/Celiac/C12-59_00.svs',\n",
       " 'C12-60_01': '/scratch/ss4yd/chrc_data/train/Celiac/C12-60_01.svs',\n",
       " 'C12-60_02': '/scratch/ss4yd/chrc_data/train/Celiac/C12-60_02.svs',\n",
       " 'C12-60_03': '/scratch/ss4yd/chrc_data/train/Celiac/C12-60_03.svs',\n",
       " 'C12-60_04': '/scratch/ss4yd/chrc_data/train/Celiac/C12-60_04.svs',\n",
       " 'C12-61_01': '/scratch/ss4yd/chrc_data/train/Celiac/C12-61_01.svs',\n",
       " 'C12-61_02': '/scratch/ss4yd/chrc_data/train/Celiac/C12-61_02.svs',\n",
       " 'C12-61_03': '/scratch/ss4yd/chrc_data/train/Celiac/C12-61_03.svs',\n",
       " 'C12-61_04': '/scratch/ss4yd/chrc_data/train/Celiac/C12-61_04.svs',\n",
       " 'C12-62_00': '/scratch/ss4yd/chrc_data/train/Celiac/C12-62_00.svs',\n",
       " 'C12-63_01': '/scratch/ss4yd/chrc_data/train/Celiac/C12-63_01.svs',\n",
       " 'C12-63_02': '/scratch/ss4yd/chrc_data/train/Celiac/C12-63_02.svs',\n",
       " 'C12-63_03': '/scratch/ss4yd/chrc_data/train/Celiac/C12-63_03.svs',\n",
       " 'C12-64_01a': '/scratch/ss4yd/chrc_data/train/Celiac/C12-64_01a.svs',\n",
       " 'C12-64_01b': '/scratch/ss4yd/chrc_data/train/Celiac/C12-64_01b.svs',\n",
       " 'C12-64_02': '/scratch/ss4yd/chrc_data/train/Celiac/C12-64_02.svs',\n",
       " 'C13-65_01': '/scratch/ss4yd/chrc_data/train/Celiac/C13-65_01.svs',\n",
       " 'C13-65_02': '/scratch/ss4yd/chrc_data/train/Celiac/C13-65_02.svs',\n",
       " 'C13-65_03': '/scratch/ss4yd/chrc_data/train/Celiac/C13-65_03.svs',\n",
       " 'C13-65_04': '/scratch/ss4yd/chrc_data/train/Celiac/C13-65_04.svs',\n",
       " 'C13-66_01': '/scratch/ss4yd/chrc_data/train/Celiac/C13-66_01.svs',\n",
       " 'C13-66_02': '/scratch/ss4yd/chrc_data/train/Celiac/C13-66_02.svs',\n",
       " 'C13-66_03': '/scratch/ss4yd/chrc_data/train/Celiac/C13-66_03.svs',\n",
       " 'C13-67_01': '/scratch/ss4yd/chrc_data/train/Celiac/C13-67_01.svs',\n",
       " 'C13-67_02': '/scratch/ss4yd/chrc_data/train/Celiac/C13-67_02.svs',\n",
       " 'C13-67_04': '/scratch/ss4yd/chrc_data/train/Celiac/C13-67_04.svs',\n",
       " 'C13-68_01': '/scratch/ss4yd/chrc_data/train/Celiac/C13-68_01.svs',\n",
       " 'C13-68_02': '/scratch/ss4yd/chrc_data/train/Celiac/C13-68_02.svs',\n",
       " 'C13-68_03': '/scratch/ss4yd/chrc_data/train/Celiac/C13-68_03.svs',\n",
       " 'C13-68_04': '/scratch/ss4yd/chrc_data/train/Celiac/C13-68_04.svs',\n",
       " 'C13-68_05': '/scratch/ss4yd/chrc_data/train/Celiac/C13-68_05.svs',\n",
       " 'C13-68_06': '/scratch/ss4yd/chrc_data/train/Celiac/C13-68_06.svs',\n",
       " 'C14-69_00': '/scratch/ss4yd/chrc_data/train/Celiac/C14-69_00.svs',\n",
       " 'C14-70_01': '/scratch/ss4yd/chrc_data/train/Celiac/C14-70_01.svs',\n",
       " 'C14-70_02': '/scratch/ss4yd/chrc_data/train/Celiac/C14-70_02.svs',\n",
       " 'C14-70_03': '/scratch/ss4yd/chrc_data/train/Celiac/C14-70_03.svs',\n",
       " 'C14-70_04': '/scratch/ss4yd/chrc_data/train/Celiac/C14-70_04.svs',\n",
       " 'C14-70_06': '/scratch/ss4yd/chrc_data/train/Celiac/C14-70_06.svs',\n",
       " 'C14-71_02': '/scratch/ss4yd/chrc_data/train/Celiac/C14-71_02.svs',\n",
       " 'C14-71_03': '/scratch/ss4yd/chrc_data/train/Celiac/C14-71_03.svs',\n",
       " 'C14-71_04': '/scratch/ss4yd/chrc_data/train/Celiac/C14-71_04.svs',\n",
       " 'C14-71_05': '/scratch/ss4yd/chrc_data/train/Celiac/C14-71_05.svs',\n",
       " 'C14-71_06': '/scratch/ss4yd/chrc_data/train/Celiac/C14-71_06.svs',\n",
       " 'C14-71_07': '/scratch/ss4yd/chrc_data/train/Celiac/C14-71_07.svs',\n",
       " 'C15-73_01': '/scratch/ss4yd/chrc_data/train/Celiac/C15-73_01.svs',\n",
       " 'C15-73_02': '/scratch/ss4yd/chrc_data/train/Celiac/C15-73_02.svs',\n",
       " 'C15-73_03': '/scratch/ss4yd/chrc_data/train/Celiac/C15-73_03.svs',\n",
       " 'C15-73_04': '/scratch/ss4yd/chrc_data/train/Celiac/C15-73_04.svs',\n",
       " 'C15-74_01': '/scratch/ss4yd/chrc_data/train/Celiac/C15-74_01.svs',\n",
       " 'C15-74_02': '/scratch/ss4yd/chrc_data/train/Celiac/C15-74_02.svs',\n",
       " 'C15-74_04': '/scratch/ss4yd/chrc_data/train/Celiac/C15-74_04.svs',\n",
       " 'C15-74_05': '/scratch/ss4yd/chrc_data/train/Celiac/C15-74_05.svs',\n",
       " 'C15-75_01': '/scratch/ss4yd/chrc_data/train/Celiac/C15-75_01.svs',\n",
       " 'C15-75_02': '/scratch/ss4yd/chrc_data/train/Celiac/C15-75_02.svs',\n",
       " 'C15-75_03': '/scratch/ss4yd/chrc_data/train/Celiac/C15-75_03.svs',\n",
       " 'C15-75_04': '/scratch/ss4yd/chrc_data/train/Celiac/C15-75_04.svs',\n",
       " 'C16-76_01': '/scratch/ss4yd/chrc_data/train/Celiac/C16-76_01.svs',\n",
       " 'C16-76_02': '/scratch/ss4yd/chrc_data/train/Celiac/C16-76_02.svs',\n",
       " 'C16-76_03': '/scratch/ss4yd/chrc_data/train/Celiac/C16-76_03.svs',\n",
       " 'C16-77_01': '/scratch/ss4yd/chrc_data/train/Celiac/C16-77_01.svs',\n",
       " 'C16-77_03': '/scratch/ss4yd/chrc_data/train/Celiac/C16-77_03.svs',\n",
       " 'C16-77_04': '/scratch/ss4yd/chrc_data/train/Celiac/C16-77_04.svs',\n",
       " 'C16-77_05': '/scratch/ss4yd/chrc_data/train/Celiac/C16-77_05.svs',\n",
       " 'C16-79_01': '/scratch/ss4yd/chrc_data/train/Celiac/C16-79_01.svs',\n",
       " 'C16-79_02': '/scratch/ss4yd/chrc_data/train/Celiac/C16-79_02.svs',\n",
       " 'C16-79_03': '/scratch/ss4yd/chrc_data/train/Celiac/C16-79_03.svs',\n",
       " 'C16-79_04': '/scratch/ss4yd/chrc_data/train/Celiac/C16-79_04.svs',\n",
       " 'C17-80_01': '/scratch/ss4yd/chrc_data/train/Celiac/C17-80_01.svs',\n",
       " 'C17-80_02': '/scratch/ss4yd/chrc_data/train/Celiac/C17-80_02.svs',\n",
       " 'C17-81_01': '/scratch/ss4yd/chrc_data/train/Celiac/C17-81_01.svs',\n",
       " 'C17-81_02': '/scratch/ss4yd/chrc_data/train/Celiac/C17-81_02.svs',\n",
       " 'C17-81_04': '/scratch/ss4yd/chrc_data/train/Celiac/C17-81_04.svs',\n",
       " 'C17-81_05': '/scratch/ss4yd/chrc_data/train/Celiac/C17-81_05.svs',\n",
       " 'C17-83_01': '/scratch/ss4yd/chrc_data/train/Celiac/C17-83_01.svs',\n",
       " 'C17-83_02': '/scratch/ss4yd/chrc_data/train/Celiac/C17-83_02.svs',\n",
       " 'C17-83_04': '/scratch/ss4yd/chrc_data/train/Celiac/C17-83_04.svs',\n",
       " 'C17-83_05': '/scratch/ss4yd/chrc_data/train/Celiac/C17-83_05.svs'}"
      ]
     },
     "execution_count": 132,
     "metadata": {},
     "output_type": "execute_result"
    }
   ],
   "source": [
    "images"
   ]
  },
  {
   "cell_type": "code",
   "execution_count": 52,
   "metadata": {},
   "outputs": [],
   "source": [
    "overlap = 1500\n",
    "patch_size = 3000"
   ]
  },
  {
   "cell_type": "code",
   "execution_count": 125,
   "metadata": {},
   "outputs": [],
   "source": [
    "op_slide_img = open_slide(images['C03-10_02'])"
   ]
  },
  {
   "cell_type": "code",
   "execution_count": 126,
   "metadata": {},
   "outputs": [
    {
     "name": "stdout",
     "output_type": "stream",
     "text": [
      "y - left: 5057\n",
      "8084\n",
      "6584\n",
      "5084\n",
      "3584\n",
      "2084\n",
      "y - left: 3557\n",
      "8084\n",
      "6584\n",
      "5084\n",
      "3584\n",
      "2084\n",
      "y - left: 2057\n",
      "8084\n",
      "6584\n",
      "5084\n",
      "3584\n",
      "2084\n"
     ]
    }
   ],
   "source": [
    "step_size = patch_size - overlap\n",
    "\n",
    "xlim = op_slide_img.level_dimensions[0][0]\n",
    "ylim = op_slide_img.level_dimensions[0][1]\n",
    "print(\"Dimensions x: \" + str(xlim) + \" y: \" + str(ylim))\n",
    "\n",
    "x_ind = math.ceil(xlim/(step_size))\n",
    "y_ind = math.ceil(ylim/(step_size))\n",
    "\n",
    "patches = []\n",
    "\n",
    "img_y_left = ylim\n",
    "\n",
    "y = 0 - step_size\n",
    "for y_ in range(y_ind):\n",
    "    x = 0-step_size\n",
    "    y = y + step_size\n",
    "    img_x_left = xlim\n",
    "    img_y_left = img_y_left - step_size\n",
    "    print('y - left: ' + str(img_y_left))\n",
    "    if (img_y_left > 0 and img_y_left > patch_size):\n",
    "        \n",
    "        for x_ in range(x_ind):\n",
    "            x = x + (step_size)\n",
    "            img_x_left = img_x_left - step_size\n",
    "            print(img_x_left)\n",
    "            if (img_x_left > 0 and img_x_left > patch_size):\n",
    "                patches.append(op_slide_img.read_region((x, y), 0, (patch_size, patch_size)))\n",
    "            elif (img_x_left < patch_size and img_x_left > 0):\n",
    "                x = xlim - patch_size\n",
    "                patches.append(op_slide_img.read_region((x, y), 0, (patch_size, patch_size)))\n",
    "                break\n",
    "    \n",
    "    elif (img_y_left > 0 and img_y_left < patch_size):\n",
    "        y = ylim - patch_size\n",
    "        for x_ in range(x_ind):\n",
    "            x = x + (step_size)\n",
    "            img_x_left = img_x_left - step_size\n",
    "            print(img_x_left)\n",
    "            if (img_x_left > 0 and img_x_left > patch_size):\n",
    "                patches.append(op_slide_img.read_region((x, y), 0, (patch_size, patch_size)))\n",
    "            elif (img_x_left < patch_size and img_x_left > 0):\n",
    "                x = xlim - patch_size\n",
    "                patches.append(op_slide_img.read_region((x, y), 0, (patch_size, patch_size)))\n",
    "                break\n",
    "        break\n",
    "        \n",
    "        \n",
    "    \n"
   ]
  },
  {
   "cell_type": "code",
   "execution_count": 127,
   "metadata": {},
   "outputs": [],
   "source": [
    "for i in range(len(patches)):\n",
    "    \n",
    "    patches[i].save('test' + str(i)+'.jpg')\n",
    "    "
   ]
  },
  {
   "cell_type": "code",
   "execution_count": 129,
   "metadata": {},
   "outputs": [],
   "source": [
    "def create_patches(slide, patch_size, overlap):\n",
    "    # steps to advance per axis with overlap\n",
    "    step_size = patch_size - overlap\n",
    "    \n",
    "    # get dimensions of the image\n",
    "    xlim = op_slide_img.level_dimensions[0][0]\n",
    "    ylim = op_slide_img.level_dimensions[0][1]\n",
    "    print(\"Dimensions x: \" + str(xlim) + \" y: \" + str(ylim))\n",
    "    \n",
    "    # get the number of times to traverse each axis\n",
    "    x_ind = math.ceil(xlim/(step_size))\n",
    "    y_ind = math.ceil(ylim/(step_size))\n",
    "    \n",
    "    # initialize list to store patches\n",
    "    patches = []\n",
    "    \n",
    "    # pixels left to traverse in the y-axis at the beginning of the traversal\n",
    "    img_y_left = ylim\n",
    "    # initialize the starting y corner\n",
    "    y = 0 - step_size\n",
    "    for y_ in range(y_ind):\n",
    "        \n",
    "        # initialize the starting x corner\n",
    "        x = 0-step_size\n",
    "        \n",
    "        # advance the y axis (note: it starts with 0)\n",
    "        y = y + step_size\n",
    "        \n",
    "        # pixels left to traverse in the x-axis at the beginning of the traversal\n",
    "        img_x_left = xlim\n",
    "        \n",
    "        # update the number of pixels left to traverse\n",
    "        img_y_left = img_y_left - step_size\n",
    "        # print('y - left: ' + str(img_y_left))\n",
    "        \n",
    "        # if more than patch size left, get the (patch_size x patch_size) image\n",
    "        if (img_y_left > 0 and img_y_left > patch_size):\n",
    "            for x_ in range(x_ind):\n",
    "                x = x + (step_size)\n",
    "                img_x_left = img_x_left - step_size\n",
    "                print(img_x_left)\n",
    "                if (img_x_left > 0 and img_x_left > patch_size):\n",
    "                    patches.append(op_slide_img.read_region(\n",
    "                        (x, y), 0, (patch_size, patch_size)))\n",
    "                elif (img_x_left < patch_size and img_x_left > 0):\n",
    "                    x = xlim - patch_size\n",
    "                    patches.append(op_slide_img.read_region((x, y), 0, (patch_size, patch_size)))\n",
    "                    break\n",
    "        # if less than patch size left, get the rest of the image, regardless of the overlap\n",
    "        elif (img_y_left > 0 and img_y_left < patch_size):\n",
    "            y = ylim - patch_size\n",
    "            for x_ in range(x_ind):\n",
    "                x = x + (step_size)\n",
    "                img_x_left = img_x_left - step_size\n",
    "                print(img_x_left)\n",
    "                if (img_x_left > 0 and img_x_left > patch_size):\n",
    "                    patches.append(op_slide_img.read_region(\n",
    "                        (x, y), 0, (patch_size, patch_size)))\n",
    "                elif (img_x_left < patch_size and img_x_left > 0):\n",
    "                    x = xlim - patch_size\n",
    "                    patches.append(op_slide_img.read_region(\n",
    "                        (x, y), 0, (patch_size, patch_size)))\n",
    "                    break\n",
    "            break\n",
    "    "
   ]
  },
  {
   "cell_type": "code",
   "execution_count": 85,
   "metadata": {},
   "outputs": [],
   "source": [
    "def convert_to_3d_array(patch):\n",
    "    rgb = patch.convert('RGB')\n",
    "    return np.array(rgb)\n",
    "\n",
    "tiles = [convert_to_3d_array(patch) for patch in patches]"
   ]
  },
  {
   "cell_type": "code",
   "execution_count": 130,
   "metadata": {},
   "outputs": [
    {
     "name": "stdout",
     "output_type": "stream",
     "text": [
      "Dimensions x: 9584 y: 6557\n",
      "y - left: 5057\n",
      "8084\n",
      "6584\n",
      "5084\n",
      "3584\n",
      "2084\n",
      "y - left: 3557\n",
      "8084\n",
      "6584\n",
      "5084\n",
      "3584\n",
      "2084\n",
      "y - left: 2057\n",
      "8084\n",
      "6584\n",
      "5084\n",
      "3584\n",
      "2084\n"
     ]
    }
   ],
   "source": [
    "create_patches(op_slide_img, patch_size=3000, overlap=1500)"
   ]
  },
  {
   "cell_type": "code",
   "execution_count": 87,
   "metadata": {
    "collapsed": true
   },
   "outputs": [],
   "source": [
    "def optical_density(tile):\n",
    "    tile = tile.astype(np.float64)\n",
    "    od = -np.log((tile+1)/240)\n",
    "    return od\n",
    "\n",
    "def keep_tile(tile, tile_size, tissue_threshold = 0.50):\n",
    "    if tile.shape[0:2] == (tile_size, tile_size):\n",
    "        print(\"inside if\")\n",
    "        tile_orig = tile\n",
    "        tile = rgb2gray(tile)\n",
    "        tile = 1 - tile\n",
    "        \n",
    "        tile = canny(tile)\n",
    "        \n",
    "        tile = binary_closing(tile, disk(10))\n",
    "        tile = binary_dilation(tile, disk(10))\n",
    "        tile = binary_fill_holes(tile)\n",
    "        percentage1 = tile.mean()\n",
    "        \n",
    "        check1 = percentage1 >= tissue_threshold\n",
    "\n",
    "        # Check 2\n",
    "        # Convert to optical density values\n",
    "        tile = optical_density(tile_orig)\n",
    "        # Threshold at beta\n",
    "        beta = 0.15\n",
    "        tile = np.min(tile, axis=2) >= beta\n",
    "        # Apply morphology for same reasons as above.\n",
    "        tile = binary_closing(tile, disk(2))\n",
    "        tile = binary_dilation(tile, disk(2))\n",
    "        tile = binary_fill_holes(tile)\n",
    "        percentage2 = tile.mean()\n",
    "        check2 = percentage2 >= tissue_threshold\n",
    "        print(percentage1, percentage2)\n",
    "        return check1 and check2\n",
    "    else:\n",
    "        return False\n"
   ]
  },
  {
   "cell_type": "code",
   "execution_count": 97,
   "metadata": {
    "scrolled": true
   },
   "outputs": [
    {
     "name": "stdout",
     "output_type": "stream",
     "text": [
      "inside if\n"
     ]
    },
    {
     "name": "stderr",
     "output_type": "stream",
     "text": [
      "/apps/software/standard/core/anaconda3/4.4.0/lib/python3.6/site-packages/scipy/ndimage/measurements.py:431: FutureWarning: Conversion of the second argument of issubdtype from `int` to `np.signedinteger` is deprecated. In future, it will be treated as `np.int64 == np.dtype(int).type`.\n",
      "  safe = ((np.issubdtype(dt, int) and dt.itemsize <= int_size) or\n"
     ]
    },
    {
     "name": "stdout",
     "output_type": "stream",
     "text": [
      "0.07480377777777777 0.06350833333333333\n"
     ]
    },
    {
     "data": {
      "text/plain": [
       "False"
      ]
     },
     "execution_count": 97,
     "metadata": {},
     "output_type": "execute_result"
    }
   ],
   "source": [
    "keep_tile(tiles[0], 3000, tissue_threshold=0.3)"
   ]
  },
  {
   "cell_type": "code",
   "execution_count": 88,
   "metadata": {},
   "outputs": [
    {
     "data": {
      "text/plain": [
       "array([[[0.04691692, 0.04691692, 0.06010392],\n",
       "        [0.04255961, 0.06010392, 0.06453852],\n",
       "        [0.02531781, 0.04691692, 0.06010392],\n",
       "        ...,\n",
       "        [0.04255961, 0.05568891, 0.04255961],\n",
       "        [0.04255961, 0.04255961, 0.03390155],\n",
       "        [0.06453852, 0.06453852, 0.05568891]],\n",
       "\n",
       "       [[0.05568891, 0.05568891, 0.06010392],\n",
       "        [0.04691692, 0.06899287, 0.06899287],\n",
       "        [0.04255961, 0.06010392, 0.06453852],\n",
       "        ...,\n",
       "        [0.04691692, 0.06010392, 0.04255961],\n",
       "        [0.06453852, 0.06453852, 0.05568891],\n",
       "        [0.06453852, 0.05129329, 0.05568891]],\n",
       "\n",
       "       [[0.06453852, 0.06453852, 0.06453852],\n",
       "        [0.06010392, 0.06899287, 0.06453852],\n",
       "        [0.04255961, 0.06010392, 0.05568891],\n",
       "        ...,\n",
       "        [0.06010392, 0.06899287, 0.06453852],\n",
       "        [0.06010392, 0.06899287, 0.06899287],\n",
       "        [0.05129329, 0.06010392, 0.05568891]],\n",
       "\n",
       "       ...,\n",
       "\n",
       "       [[0.06899287, 0.05568891, 0.05568891],\n",
       "        [0.04255961, 0.05129329, 0.04255961],\n",
       "        [0.04255961, 0.06899287, 0.06010392],\n",
       "        ...,\n",
       "        [0.06010392, 0.06453852, 0.05568891],\n",
       "        [0.06899287, 0.06899287, 0.06010392],\n",
       "        [0.03822121, 0.06010392, 0.05129329]],\n",
       "\n",
       "       [[0.07796154, 0.05129329, 0.06010392],\n",
       "        [0.06010392, 0.05568891, 0.06010392],\n",
       "        [0.03822121, 0.06010392, 0.05568891],\n",
       "        ...,\n",
       "        [0.04255961, 0.04691692, 0.03390155],\n",
       "        [0.05568891, 0.06453852, 0.05129329],\n",
       "        [0.06899287, 0.07796154, 0.06899287]],\n",
       "\n",
       "       [[0.08701138, 0.06010392, 0.07796154],\n",
       "        [0.07346715, 0.06010392, 0.07796154],\n",
       "        [0.05568891, 0.07346715, 0.07796154],\n",
       "        ...,\n",
       "        [0.03390155, 0.06010392, 0.04255961],\n",
       "        [0.04691692, 0.07796154, 0.06010392],\n",
       "        [0.06899287, 0.07796154, 0.07346715]]])"
      ]
     },
     "execution_count": 88,
     "metadata": {},
     "output_type": "execute_result"
    }
   ],
   "source": [
    "tile_orig = tiles[1]\n",
    "tile = optical_density(tile_orig)\n",
    "tile"
   ]
  },
  {
   "cell_type": "code",
   "execution_count": 89,
   "metadata": {},
   "outputs": [
    {
     "data": {
      "text/plain": [
       "array([[False, False, False, ..., False, False,  True],\n",
       "       [ True, False, False, ..., False,  True,  True],\n",
       "       [ True,  True, False, ...,  True,  True,  True],\n",
       "       ...,\n",
       "       [ True, False, False, ...,  True,  True, False],\n",
       "       [ True,  True, False, ..., False,  True,  True],\n",
       "       [ True,  True,  True, ..., False, False,  True]])"
      ]
     },
     "execution_count": 89,
     "metadata": {},
     "output_type": "execute_result"
    }
   ],
   "source": [
    "# Threshold at beta\n",
    "beta = 0.05\n",
    "tile = np.min(tile, axis=2) >= beta\n",
    "tile"
   ]
  },
  {
   "cell_type": "code",
   "execution_count": 80,
   "metadata": {},
   "outputs": [
    {
     "data": {
      "text/plain": [
       "array([[False, False, False, ..., False, False, False],\n",
       "       [False, False, False, ..., False, False, False],\n",
       "       [False, False, False, ..., False, False, False],\n",
       "       ...,\n",
       "       [False, False, False, ..., False, False, False],\n",
       "       [False, False, False, ..., False, False, False],\n",
       "       [False, False, False, ..., False, False, False]])"
      ]
     },
     "execution_count": 80,
     "metadata": {},
     "output_type": "execute_result"
    }
   ],
   "source": [
    "# Apply morphology for same reasons as above.\n",
    "tile = binary_closing(tile, disk(2))\n",
    "tile"
   ]
  },
  {
   "cell_type": "code",
   "execution_count": 81,
   "metadata": {},
   "outputs": [
    {
     "data": {
      "text/plain": [
       "array([[False, False, False, ..., False, False, False],\n",
       "       [False, False, False, ..., False, False, False],\n",
       "       [False, False, False, ..., False, False, False],\n",
       "       ...,\n",
       "       [False, False, False, ..., False, False, False],\n",
       "       [False, False, False, ..., False, False, False],\n",
       "       [False, False, False, ..., False, False, False]])"
      ]
     },
     "execution_count": 81,
     "metadata": {},
     "output_type": "execute_result"
    }
   ],
   "source": [
    "tile = binary_dilation(tile, disk(2))\n",
    "tile"
   ]
  },
  {
   "cell_type": "code",
   "execution_count": 82,
   "metadata": {},
   "outputs": [
    {
     "data": {
      "text/plain": [
       "array([[False, False, False, ..., False, False, False],\n",
       "       [False, False, False, ..., False, False, False],\n",
       "       [False, False, False, ..., False, False, False],\n",
       "       ...,\n",
       "       [False, False, False, ..., False, False, False],\n",
       "       [False, False, False, ..., False, False, False],\n",
       "       [False, False, False, ..., False, False, False]])"
      ]
     },
     "execution_count": 82,
     "metadata": {},
     "output_type": "execute_result"
    }
   ],
   "source": [
    "tile = binary_fill_holes(tile)\n",
    "tile"
   ]
  }
 ],
 "metadata": {
  "kernelspec": {
   "display_name": "Python 3",
   "language": "python",
   "name": "python3"
  },
  "language_info": {
   "codemirror_mode": {
    "name": "ipython",
    "version": 3
   },
   "file_extension": ".py",
   "mimetype": "text/x-python",
   "name": "python",
   "nbconvert_exporter": "python",
   "pygments_lexer": "ipython3",
   "version": "3.6.1"
  }
 },
 "nbformat": 4,
 "nbformat_minor": 2
}

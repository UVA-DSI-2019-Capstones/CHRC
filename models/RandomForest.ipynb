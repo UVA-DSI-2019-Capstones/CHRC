{
 "cells": [
  {
   "cell_type": "code",
   "execution_count": 1,
   "metadata": {},
   "outputs": [],
   "source": [
    "import pandas as pd\n",
    "from sklearn.model_selection import train_test_split\n",
    "from sklearn.ensemble import RandomForestClassifier \n",
    "%matplotlib inline"
   ]
  },
  {
   "cell_type": "code",
   "execution_count": 15,
   "metadata": {},
   "outputs": [],
   "source": [
    "# There are two groups; control group and experimental group(here it is called patient)\n",
    "# The response variable here is \"Target\" which indicates whether its corresponding patient_ID is in the biopsy image dataset\n",
    "# 1 indicates that its patient_ID is in the biopsy image dataset\n",
    "# Currently we don't have a full list of patient_IDs(from biopsy image dataset), as soon as we get the list, we can load it as \n",
    "# \"biopsy_data\" and we can perform RF to each group. \n",
    "# The below RF models are mockups. "
   ]
  },
  {
   "cell_type": "markdown",
   "metadata": {},
   "source": [
    "# Load and clean data "
   ]
  },
  {
   "cell_type": "code",
   "execution_count": 2,
   "metadata": {},
   "outputs": [],
   "source": [
    "#load data\n",
    "csv_file = 'SEEM_bile_acid_data_patient.csv'\n",
    "df_patient = pd.read_csv(csv_file, index_col=None)\n",
    "csv_file2 = 'SEEM_bile_acid_data_control.csv'\n",
    "df_control = pd.read_csv(csv_file2, index_col = None)\n",
    "csv_file3 = 'temp.csv'\n",
    "biopsy_data = pd.read_csv(csv_file3)"
   ]
  },
  {
   "cell_type": "code",
   "execution_count": 3,
   "metadata": {},
   "outputs": [],
   "source": [
    "#remove 'Barcode','CMS ID','LC/MS code#\n",
    "df_control = df_control.drop(['Barcode','CMS ID','LC/MS code#'], axis=1)\n",
    "df_control = df_control.groupby('Patient ID',as_index=False).mean()\n",
    "df_control['Target'] = 0\n",
    "#\n",
    "df_patient = df_patient.drop(['Barcode','CMS ID','LC/MS code#'], axis=1)\n",
    "df_patient = df_patient.groupby('Patient ID',as_index=False).mean()\n",
    "df_patient['Target'] = 0"
   ]
  },
  {
   "cell_type": "markdown",
   "metadata": {},
   "source": [
    "# Populate \"Reponse\" value"
   ]
  },
  {
   "cell_type": "code",
   "execution_count": 4,
   "metadata": {},
   "outputs": [],
   "source": [
    "index = []\n",
    "def find_index(biopsy_data,biomaker_data):\n",
    "    for i in range(0,len(biopsy_data)):\n",
    "        for j in range(0,len(biomaker_data)):\n",
    "            if biomaker_data['Patient ID'].loc[j] == biopsy_data['Patient ID'].loc[i]:\n",
    "                index.append(j)"
   ]
  },
  {
   "cell_type": "markdown",
   "metadata": {},
   "source": [
    "## Populdate \"Response\" value to patient set"
   ]
  },
  {
   "cell_type": "code",
   "execution_count": 5,
   "metadata": {
    "scrolled": false
   },
   "outputs": [],
   "source": [
    "find_index(biopsy_data,df_patient)\n",
    "index = set(index)"
   ]
  },
  {
   "cell_type": "code",
   "execution_count": 6,
   "metadata": {
    "scrolled": true
   },
   "outputs": [
    {
     "name": "stderr",
     "output_type": "stream",
     "text": [
      "C:\\Users\\lukek\\Anaconda3\\lib\\site-packages\\pandas\\core\\indexing.py:189: SettingWithCopyWarning: \n",
      "A value is trying to be set on a copy of a slice from a DataFrame\n",
      "\n",
      "See the caveats in the documentation: http://pandas.pydata.org/pandas-docs/stable/indexing.html#indexing-view-versus-copy\n",
      "  self._setitem_with_indexer(indexer, value)\n"
     ]
    }
   ],
   "source": [
    "for val in index:\n",
    "    df_patient['Target'].loc[val] = 1"
   ]
  },
  {
   "cell_type": "markdown",
   "metadata": {},
   "source": [
    "## Populdate \"Response\" value to control set"
   ]
  },
  {
   "cell_type": "code",
   "execution_count": 7,
   "metadata": {},
   "outputs": [],
   "source": [
    "index = []\n",
    "find_index(biopsy_data,df_control)\n",
    "index = set(index)"
   ]
  },
  {
   "cell_type": "code",
   "execution_count": 8,
   "metadata": {
    "scrolled": false
   },
   "outputs": [],
   "source": [
    "for val in index:\n",
    "    df_control['Target'].loc[val] = 1"
   ]
  },
  {
   "cell_type": "markdown",
   "metadata": {},
   "source": [
    "# Random Forest"
   ]
  },
  {
   "cell_type": "markdown",
   "metadata": {},
   "source": [
    "## Random Forest to patient set"
   ]
  },
  {
   "cell_type": "code",
   "execution_count": 9,
   "metadata": {},
   "outputs": [],
   "source": [
    "df_patient = df_patient.dropna()\n",
    "X = df_patient.iloc[:,1:-1]\n",
    "X = X.reset_index(drop=True)\n",
    "y = df_patient.iloc[:,-1]\n",
    "y = y.reset_index(drop=True)"
   ]
  },
  {
   "cell_type": "code",
   "execution_count": 10,
   "metadata": {},
   "outputs": [
    {
     "data": {
      "text/plain": [
       "0.9724770642201835"
      ]
     },
     "execution_count": 10,
     "metadata": {},
     "output_type": "execute_result"
    }
   ],
   "source": [
    "X_train, X_test, y_train, y_test = train_test_split(\n",
    "...     X, y, test_size=0.33, random_state=42)\n",
    "## This line instantiates the model. \n",
    "rf = RandomForestClassifier() \n",
    "## Fit the model on your training data.\n",
    "rf.fit(X_train, y_train) \n",
    "## And score it on your testing data.\n",
    "rf.score(X_test, y_test)"
   ]
  },
  {
   "cell_type": "code",
   "execution_count": 11,
   "metadata": {},
   "outputs": [
    {
     "data": {
      "text/html": [
       "<div>\n",
       "<style scoped>\n",
       "    .dataframe tbody tr th:only-of-type {\n",
       "        vertical-align: middle;\n",
       "    }\n",
       "\n",
       "    .dataframe tbody tr th {\n",
       "        vertical-align: top;\n",
       "    }\n",
       "\n",
       "    .dataframe thead th {\n",
       "        text-align: right;\n",
       "    }\n",
       "</style>\n",
       "<table border=\"1\" class=\"dataframe\">\n",
       "  <thead>\n",
       "    <tr style=\"text-align: right;\">\n",
       "      <th></th>\n",
       "      <th>importance</th>\n",
       "    </tr>\n",
       "  </thead>\n",
       "  <tbody>\n",
       "    <tr>\n",
       "      <th>TCA</th>\n",
       "      <td>0.153448</td>\n",
       "    </tr>\n",
       "    <tr>\n",
       "      <th>Total CBA</th>\n",
       "      <td>0.120666</td>\n",
       "    </tr>\n",
       "    <tr>\n",
       "      <th>TCDCA</th>\n",
       "      <td>0.114820</td>\n",
       "    </tr>\n",
       "    <tr>\n",
       "      <th>Total UBA</th>\n",
       "      <td>0.110908</td>\n",
       "    </tr>\n",
       "    <tr>\n",
       "      <th>GCDCA</th>\n",
       "      <td>0.100414</td>\n",
       "    </tr>\n",
       "    <tr>\n",
       "      <th>Total BA</th>\n",
       "      <td>0.098588</td>\n",
       "    </tr>\n",
       "    <tr>\n",
       "      <th>CDCA</th>\n",
       "      <td>0.058888</td>\n",
       "    </tr>\n",
       "    <tr>\n",
       "      <th>GCA</th>\n",
       "      <td>0.054255</td>\n",
       "    </tr>\n",
       "    <tr>\n",
       "      <th>UBA/Total BA</th>\n",
       "      <td>0.043040</td>\n",
       "    </tr>\n",
       "    <tr>\n",
       "      <th>CBA/Total BA</th>\n",
       "      <td>0.041845</td>\n",
       "    </tr>\n",
       "    <tr>\n",
       "      <th>TLCA</th>\n",
       "      <td>0.040987</td>\n",
       "    </tr>\n",
       "    <tr>\n",
       "      <th>CA</th>\n",
       "      <td>0.030758</td>\n",
       "    </tr>\n",
       "    <tr>\n",
       "      <th>TDCA</th>\n",
       "      <td>0.019789</td>\n",
       "    </tr>\n",
       "    <tr>\n",
       "      <th>GDCA</th>\n",
       "      <td>0.008566</td>\n",
       "    </tr>\n",
       "    <tr>\n",
       "      <th>TUDCA</th>\n",
       "      <td>0.002134</td>\n",
       "    </tr>\n",
       "    <tr>\n",
       "      <th>UDCA</th>\n",
       "      <td>0.000895</td>\n",
       "    </tr>\n",
       "    <tr>\n",
       "      <th>GLCA</th>\n",
       "      <td>0.000000</td>\n",
       "    </tr>\n",
       "    <tr>\n",
       "      <th>DCA</th>\n",
       "      <td>0.000000</td>\n",
       "    </tr>\n",
       "    <tr>\n",
       "      <th>LCA</th>\n",
       "      <td>0.000000</td>\n",
       "    </tr>\n",
       "    <tr>\n",
       "      <th>GUDCA</th>\n",
       "      <td>0.000000</td>\n",
       "    </tr>\n",
       "  </tbody>\n",
       "</table>\n",
       "</div>"
      ],
      "text/plain": [
       "              importance\n",
       "TCA             0.153448\n",
       "Total CBA       0.120666\n",
       "TCDCA           0.114820\n",
       "Total UBA       0.110908\n",
       "GCDCA           0.100414\n",
       "Total BA        0.098588\n",
       "CDCA            0.058888\n",
       "GCA             0.054255\n",
       "UBA/Total BA    0.043040\n",
       "CBA/Total BA    0.041845\n",
       "TLCA            0.040987\n",
       "CA              0.030758\n",
       "TDCA            0.019789\n",
       "GDCA            0.008566\n",
       "TUDCA           0.002134\n",
       "UDCA            0.000895\n",
       "GLCA            0.000000\n",
       "DCA             0.000000\n",
       "LCA             0.000000\n",
       "GUDCA           0.000000"
      ]
     },
     "execution_count": 11,
     "metadata": {},
     "output_type": "execute_result"
    }
   ],
   "source": [
    "feature_importances = pd.DataFrame(rf.feature_importances_,\n",
    "                                   index = X_train.columns,\n",
    "                                    columns=['importance']).sort_values('importance',ascending=False)\n",
    "feature_importances"
   ]
  },
  {
   "cell_type": "markdown",
   "metadata": {},
   "source": [
    "## Random Forest to patient set "
   ]
  },
  {
   "cell_type": "code",
   "execution_count": 12,
   "metadata": {},
   "outputs": [],
   "source": [
    "df_control = df_control.dropna()\n",
    "X = df_control.iloc[:,1:-1]\n",
    "X = X.reset_index(drop=True)\n",
    "y = df_control.iloc[:,-1]\n",
    "y = y.reset_index(drop=True)"
   ]
  },
  {
   "cell_type": "code",
   "execution_count": 13,
   "metadata": {},
   "outputs": [
    {
     "data": {
      "text/plain": [
       "1.0"
      ]
     },
     "execution_count": 13,
     "metadata": {},
     "output_type": "execute_result"
    }
   ],
   "source": [
    "X_train, X_test, y_train, y_test = train_test_split(\n",
    "...     X, y, test_size=0.33, random_state=42)\n",
    "## This line instantiates the model. \n",
    "rf = RandomForestClassifier() \n",
    "## Fit the model on your training data.\n",
    "rf.fit(X_train, y_train) \n",
    "## And score it on your testing data.\n",
    "rf.score(X_test, y_test)"
   ]
  },
  {
   "cell_type": "code",
   "execution_count": 14,
   "metadata": {},
   "outputs": [
    {
     "data": {
      "text/html": [
       "<div>\n",
       "<style scoped>\n",
       "    .dataframe tbody tr th:only-of-type {\n",
       "        vertical-align: middle;\n",
       "    }\n",
       "\n",
       "    .dataframe tbody tr th {\n",
       "        vertical-align: top;\n",
       "    }\n",
       "\n",
       "    .dataframe thead th {\n",
       "        text-align: right;\n",
       "    }\n",
       "</style>\n",
       "<table border=\"1\" class=\"dataframe\">\n",
       "  <thead>\n",
       "    <tr style=\"text-align: right;\">\n",
       "      <th></th>\n",
       "      <th>importance</th>\n",
       "    </tr>\n",
       "  </thead>\n",
       "  <tbody>\n",
       "    <tr>\n",
       "      <th>TCA</th>\n",
       "      <td>0.0</td>\n",
       "    </tr>\n",
       "    <tr>\n",
       "      <th>UDCA</th>\n",
       "      <td>0.0</td>\n",
       "    </tr>\n",
       "    <tr>\n",
       "      <th>UBA/Total BA</th>\n",
       "      <td>0.0</td>\n",
       "    </tr>\n",
       "    <tr>\n",
       "      <th>CBA/UBA</th>\n",
       "      <td>0.0</td>\n",
       "    </tr>\n",
       "    <tr>\n",
       "      <th>Total UBA</th>\n",
       "      <td>0.0</td>\n",
       "    </tr>\n",
       "    <tr>\n",
       "      <th>Total CBA</th>\n",
       "      <td>0.0</td>\n",
       "    </tr>\n",
       "    <tr>\n",
       "      <th>Total BA</th>\n",
       "      <td>0.0</td>\n",
       "    </tr>\n",
       "    <tr>\n",
       "      <th>LCA</th>\n",
       "      <td>0.0</td>\n",
       "    </tr>\n",
       "    <tr>\n",
       "      <th>DCA</th>\n",
       "      <td>0.0</td>\n",
       "    </tr>\n",
       "    <tr>\n",
       "      <th>CDCA</th>\n",
       "      <td>0.0</td>\n",
       "    </tr>\n",
       "    <tr>\n",
       "      <th>CA</th>\n",
       "      <td>0.0</td>\n",
       "    </tr>\n",
       "    <tr>\n",
       "      <th>TUDCA</th>\n",
       "      <td>0.0</td>\n",
       "    </tr>\n",
       "    <tr>\n",
       "      <th>GLCA</th>\n",
       "      <td>0.0</td>\n",
       "    </tr>\n",
       "    <tr>\n",
       "      <th>GDCA</th>\n",
       "      <td>0.0</td>\n",
       "    </tr>\n",
       "    <tr>\n",
       "      <th>GCDCA</th>\n",
       "      <td>0.0</td>\n",
       "    </tr>\n",
       "    <tr>\n",
       "      <th>GUDCA</th>\n",
       "      <td>0.0</td>\n",
       "    </tr>\n",
       "    <tr>\n",
       "      <th>GCA</th>\n",
       "      <td>0.0</td>\n",
       "    </tr>\n",
       "    <tr>\n",
       "      <th>TLCA</th>\n",
       "      <td>0.0</td>\n",
       "    </tr>\n",
       "    <tr>\n",
       "      <th>TDCA</th>\n",
       "      <td>0.0</td>\n",
       "    </tr>\n",
       "    <tr>\n",
       "      <th>TCDCA</th>\n",
       "      <td>0.0</td>\n",
       "    </tr>\n",
       "    <tr>\n",
       "      <th>CBA/Total BA</th>\n",
       "      <td>0.0</td>\n",
       "    </tr>\n",
       "  </tbody>\n",
       "</table>\n",
       "</div>"
      ],
      "text/plain": [
       "              importance\n",
       "TCA                  0.0\n",
       "UDCA                 0.0\n",
       "UBA/Total BA         0.0\n",
       "CBA/UBA              0.0\n",
       "Total UBA            0.0\n",
       "Total CBA            0.0\n",
       "Total BA             0.0\n",
       "LCA                  0.0\n",
       "DCA                  0.0\n",
       "CDCA                 0.0\n",
       "CA                   0.0\n",
       "TUDCA                0.0\n",
       "GLCA                 0.0\n",
       "GDCA                 0.0\n",
       "GCDCA                0.0\n",
       "GUDCA                0.0\n",
       "GCA                  0.0\n",
       "TLCA                 0.0\n",
       "TDCA                 0.0\n",
       "TCDCA                0.0\n",
       "CBA/Total BA         0.0"
      ]
     },
     "execution_count": 14,
     "metadata": {},
     "output_type": "execute_result"
    }
   ],
   "source": [
    "feature_importances = pd.DataFrame(rf.feature_importances_,\n",
    "                                   index = X_train.columns,\n",
    "                                    columns=['importance']).sort_values('importance',ascending=False)\n",
    "feature_importances"
   ]
  }
 ],
 "metadata": {
  "kernelspec": {
   "display_name": "Python 3",
   "language": "python",
   "name": "python3"
  },
  "language_info": {
   "codemirror_mode": {
    "name": "ipython",
    "version": 3
   },
   "file_extension": ".py",
   "mimetype": "text/x-python",
   "name": "python",
   "nbconvert_exporter": "python",
   "pygments_lexer": "ipython3",
   "version": "3.6.5"
  }
 },
 "nbformat": 4,
 "nbformat_minor": 2
}

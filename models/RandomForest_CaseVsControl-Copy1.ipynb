{
 "cells": [
  {
   "cell_type": "code",
   "execution_count": 39,
   "metadata": {},
   "outputs": [],
   "source": [
    "import pandas as pd\n",
    "import numpy as np\n",
    "from sklearn.model_selection import train_test_split\n",
    "from sklearn.ensemble import RandomForestClassifier \n",
    "from sklearn.neural_network import MLPClassifier\n",
    "import xgboost\n",
    "from sklearn.metrics import accuracy_score\n",
    "%matplotlib inline"
   ]
  },
  {
   "cell_type": "markdown",
   "metadata": {},
   "source": [
    "# Load and clean data "
   ]
  },
  {
   "cell_type": "code",
   "execution_count": 3,
   "metadata": {},
   "outputs": [],
   "source": [
    "#load data\n",
    "csv_file = '../../../SEEM_bile_acid_data_patient.csv'\n",
    "df_patient = pd.read_csv(csv_file, index_col=None,na_values=['#VALUE!', '#DIV/0!'])\n",
    "csv_file2 = '../../../SEEM_bile_acid_data_control.csv'\n",
    "df_control = pd.read_csv(csv_file2, index_col = None,na_values=['#VALUE!', '#DIV/0!'])"
   ]
  },
  {
   "cell_type": "code",
   "execution_count": 4,
   "metadata": {},
   "outputs": [],
   "source": [
    "#remove 'Barcode','CMS ID','LC/MS code# and Group\n",
    "df_control = df_patient[df_patient.Group == '3-6 month Case']\n",
    "df_control = df_control.drop(['Barcode','CMS ID','LC/MS code#','Group'], axis=1)\n",
    "df_control['Target'] = 1\n",
    "#\n",
    "df_patient = df_patient[df_patient.Group == '3-6 month Case']\n",
    "df_patient = df_patient.drop(['Barcode','CMS ID','LC/MS code#','Group'], axis=1)\n",
    "df_patient['Target'] = 0\n",
    "#\n",
    "df_control = df_control.append(df_patient)\n",
    "df = df_control"
   ]
  },
  {
   "cell_type": "markdown",
   "metadata": {},
   "source": [
    "# Random Forest"
   ]
  },
  {
   "cell_type": "code",
   "execution_count": 5,
   "metadata": {},
   "outputs": [],
   "source": [
    "df = df.dropna()\n",
    "X = df.iloc[:,1:-1]\n",
    "X = X.reset_index(drop=True)\n",
    "y = df.iloc[:,-1]\n",
    "y = y.reset_index(drop=True)"
   ]
  },
  {
   "cell_type": "markdown",
   "metadata": {},
   "source": [
    "## Train model"
   ]
  },
  {
   "cell_type": "code",
   "execution_count": 47,
   "metadata": {},
   "outputs": [
    {
     "data": {
      "text/plain": [
       "<matplotlib.axes._subplots.AxesSubplot at 0x27f26c79c18>"
      ]
     },
     "execution_count": 47,
     "metadata": {},
     "output_type": "execute_result"
    },
    {
     "data": {
      "image/png": "[encoded data removed]",
      "text/plain": [
       "<Figure size 432x288 with 1 Axes>"
      ]
     },
     "metadata": {
      "needs_background": "light"
     },
     "output_type": "display_data"
    }
   ],
   "source": [
    "X_train, X_test, y_train, y_test = train_test_split(\n",
    "...     X, y, test_size=0, random_state=42)\n",
    "## This line instantiates the model. \n",
    "rf = RandomForestClassifier() \n",
    "## Fit the model on your training data.\n",
    "rf.fit(X_train, y_train) \n",
    "# ## And score it on your testing data.\n",
    "# rf.score(X_test, y_test)\n",
    "\n",
    "\n",
    "feature_importances = pd.DataFrame(rf.feature_importances_,\n",
    "                                   index = X_train.columns,\n",
    "                                    columns=['importance']).sort_values('importance',ascending=False)\n",
    "feature_importances.plot(kind='bar')"
   ]
  },
  {
   "cell_type": "markdown",
   "metadata": {},
   "source": [
    "##  test_size=0.33"
   ]
  },
  {
   "cell_type": "code",
   "execution_count": 50,
   "metadata": {
    "scrolled": true
   },
   "outputs": [
    {
     "data": {
      "text/plain": [
       "0.16972477064220184"
      ]
     },
     "execution_count": 50,
     "metadata": {},
     "output_type": "execute_result"
    }
   ],
   "source": [
    "X_train, X_test, y_train, y_test = train_test_split(\n",
    "...     X, y, test_size=0.33, random_state=42)\n",
    "## This line instantiates the model. \n",
    "rf = RandomForestClassifier() \n",
    "## Fit the model on your training data.\n",
    "rf.fit(X_train, y_train) \n",
    "## And score it on your testing data.\n",
    "rf.score(X_test, y_test)"
   ]
  },
  {
   "cell_type": "code",
   "execution_count": 51,
   "metadata": {},
   "outputs": [
    {
     "data": {
      "text/html": [
       "<div>\n",
       "<style scoped>\n",
       "    .dataframe tbody tr th:only-of-type {\n",
       "        vertical-align: middle;\n",
       "    }\n",
       "\n",
       "    .dataframe tbody tr th {\n",
       "        vertical-align: top;\n",
       "    }\n",
       "\n",
       "    .dataframe thead th {\n",
       "        text-align: right;\n",
       "    }\n",
       "</style>\n",
       "<table border=\"1\" class=\"dataframe\">\n",
       "  <thead>\n",
       "    <tr style=\"text-align: right;\">\n",
       "      <th></th>\n",
       "      <th>importance</th>\n",
       "    </tr>\n",
       "  </thead>\n",
       "  <tbody>\n",
       "    <tr>\n",
       "      <th>TCDCA</th>\n",
       "      <td>0.105843</td>\n",
       "    </tr>\n",
       "    <tr>\n",
       "      <th>CDCA</th>\n",
       "      <td>0.086964</td>\n",
       "    </tr>\n",
       "    <tr>\n",
       "      <th>Total UBA</th>\n",
       "      <td>0.084877</td>\n",
       "    </tr>\n",
       "    <tr>\n",
       "      <th>GCDCA</th>\n",
       "      <td>0.082609</td>\n",
       "    </tr>\n",
       "    <tr>\n",
       "      <th>GCA</th>\n",
       "      <td>0.078494</td>\n",
       "    </tr>\n",
       "    <tr>\n",
       "      <th>CBA/UBA</th>\n",
       "      <td>0.068979</td>\n",
       "    </tr>\n",
       "    <tr>\n",
       "      <th>TCA</th>\n",
       "      <td>0.068562</td>\n",
       "    </tr>\n",
       "    <tr>\n",
       "      <th>Total BA</th>\n",
       "      <td>0.064225</td>\n",
       "    </tr>\n",
       "    <tr>\n",
       "      <th>Total CBA</th>\n",
       "      <td>0.062890</td>\n",
       "    </tr>\n",
       "    <tr>\n",
       "      <th>CA</th>\n",
       "      <td>0.060302</td>\n",
       "    </tr>\n",
       "    <tr>\n",
       "      <th>GUDCA</th>\n",
       "      <td>0.038600</td>\n",
       "    </tr>\n",
       "    <tr>\n",
       "      <th>UBA/Total BA</th>\n",
       "      <td>0.035196</td>\n",
       "    </tr>\n",
       "    <tr>\n",
       "      <th>UDCA</th>\n",
       "      <td>0.032975</td>\n",
       "    </tr>\n",
       "    <tr>\n",
       "      <th>TLCA</th>\n",
       "      <td>0.031277</td>\n",
       "    </tr>\n",
       "    <tr>\n",
       "      <th>TUDCA</th>\n",
       "      <td>0.028027</td>\n",
       "    </tr>\n",
       "    <tr>\n",
       "      <th>CBA/Total BA</th>\n",
       "      <td>0.022151</td>\n",
       "    </tr>\n",
       "    <tr>\n",
       "      <th>TDCA</th>\n",
       "      <td>0.021249</td>\n",
       "    </tr>\n",
       "    <tr>\n",
       "      <th>GDCA</th>\n",
       "      <td>0.015122</td>\n",
       "    </tr>\n",
       "    <tr>\n",
       "      <th>GLCA</th>\n",
       "      <td>0.007458</td>\n",
       "    </tr>\n",
       "    <tr>\n",
       "      <th>DCA</th>\n",
       "      <td>0.004199</td>\n",
       "    </tr>\n",
       "    <tr>\n",
       "      <th>LCA</th>\n",
       "      <td>0.000000</td>\n",
       "    </tr>\n",
       "  </tbody>\n",
       "</table>\n",
       "</div>"
      ],
      "text/plain": [
       "              importance\n",
       "TCDCA           0.105843\n",
       "CDCA            0.086964\n",
       "Total UBA       0.084877\n",
       "GCDCA           0.082609\n",
       "GCA             0.078494\n",
       "CBA/UBA         0.068979\n",
       "TCA             0.068562\n",
       "Total BA        0.064225\n",
       "Total CBA       0.062890\n",
       "CA              0.060302\n",
       "GUDCA           0.038600\n",
       "UBA/Total BA    0.035196\n",
       "UDCA            0.032975\n",
       "TLCA            0.031277\n",
       "TUDCA           0.028027\n",
       "CBA/Total BA    0.022151\n",
       "TDCA            0.021249\n",
       "GDCA            0.015122\n",
       "GLCA            0.007458\n",
       "DCA             0.004199\n",
       "LCA             0.000000"
      ]
     },
     "execution_count": 51,
     "metadata": {},
     "output_type": "execute_result"
    }
   ],
   "source": [
    "feature_importances = pd.DataFrame(rf.feature_importances_,\n",
    "                                   index = X_train.columns,\n",
    "                                    columns=['importance']).sort_values('importance',ascending=False)\n",
    "feature_importances"
   ]
  },
  {
   "cell_type": "markdown",
   "metadata": {},
   "source": [
    "## XGBoost"
   ]
  },
  {
   "cell_type": "code",
   "execution_count": 52,
   "metadata": {},
   "outputs": [
    {
     "name": "stderr",
     "output_type": "stream",
     "text": [
      "C:\\Users\\Saurav\\Documents\\Anaconda\\lib\\site-packages\\sklearn\\preprocessing\\label.py:151: DeprecationWarning: The truth value of an empty array is ambiguous. Returning False, but in future this will result in an error. Use `array.size > 0` to check that an array is not empty.\n",
      "  if diff:\n"
     ]
    },
    {
     "data": {
      "text/plain": [
       "0.1559633027522936"
      ]
     },
     "execution_count": 52,
     "metadata": {},
     "output_type": "execute_result"
    }
   ],
   "source": [
    "xgb = xgboost.XGBClassifier()\n",
    "\n",
    "xgb.fit(X_train, y_train)\n",
    "\n",
    "y_pred = xgb.predict(X_test)\n",
    "\n",
    "# xgb.score(X_test, y_pred)\n",
    "accuracy_score(y_test, y_pred)"
   ]
  },
  {
   "cell_type": "code",
   "execution_count": 53,
   "metadata": {},
   "outputs": [
    {
     "data": {
      "text/plain": [
       "<matplotlib.axes._subplots.AxesSubplot at 0x27f26d78c88>"
      ]
     },
     "execution_count": 53,
     "metadata": {},
     "output_type": "execute_result"
    },
    {
     "data": {
      "image/png": "[encoded data removed]",
      "text/plain": [
       "<Figure size 432x288 with 1 Axes>"
      ]
     },
     "metadata": {
      "needs_background": "light"
     },
     "output_type": "display_data"
    }
   ],
   "source": [
    "feature_importances = pd.DataFrame(xgb.feature_importances_,\n",
    "                                   index = X_train.columns,\n",
    "                                    columns=['importance']).sort_values('importance',ascending=False)\n",
    "feature_importances.plot(kind='bar')"
   ]
  },
  {
   "cell_type": "markdown",
   "metadata": {},
   "source": [
    "## MLP Classifier"
   ]
  },
  {
   "cell_type": "code",
   "execution_count": 45,
   "metadata": {},
   "outputs": [
    {
     "data": {
      "text/plain": [
       "0.44036697247706424"
      ]
     },
     "execution_count": 45,
     "metadata": {},
     "output_type": "execute_result"
    }
   ],
   "source": [
    "mlp = MLPClassifier(max_iter=10000)\n",
    "\n",
    "mlp.fit(X_train, y_train)\n",
    "\n",
    "y_pred = mlp.predict(X_test)\n",
    "\n",
    "accuracy_score(y_test, y_pred)"
   ]
  }
 ],
 "metadata": {
  "kernelspec": {
   "display_name": "Python 3",
   "language": "python",
   "name": "python3"
  },
  "language_info": {
   "codemirror_mode": {
    "name": "ipython",
    "version": 3
   },
   "file_extension": ".py",
   "mimetype": "text/x-python",
   "name": "python",
   "nbconvert_exporter": "python",
   "pygments_lexer": "ipython3",
   "version": "3.6.6"
  }
 },
 "nbformat": 4,
 "nbformat_minor": 2
}

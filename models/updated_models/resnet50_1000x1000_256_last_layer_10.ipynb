{
 "cells": [
  {
   "cell_type": "code",
   "execution_count": 1,
   "metadata": {},
   "outputs": [],
   "source": [
    "# Put these at the top of every notebook, to get automatic reloading and inline plotting\n",
    "%reload_ext autoreload\n",
    "%autoreload 2\n",
    "%matplotlib inline"
   ]
  },
  {
   "cell_type": "code",
   "execution_count": 65,
   "metadata": {},
   "outputs": [],
   "source": [
    "from fastai.vision import *\n",
    "from fastai.metrics import accuracy\n",
    "\n",
    "\n",
    "from torch.autograd import Variable\n",
    "from torchvision import models\n",
    "import numpy as np\n",
    "import matplotlib.pyplot as plt\n",
    "import skimage.transform"
   ]
  },
  {
   "cell_type": "code",
   "execution_count": 3,
   "metadata": {},
   "outputs": [],
   "source": [
    "PATH = \"/scratch/as3ek/chrc_data_case_preserved_1000_normal/\"\n",
    "sz=512\n",
    "tfms = get_transforms(do_flip=True, flip_vert=True, max_zoom=1.1)"
   ]
  },
  {
   "cell_type": "code",
   "execution_count": 4,
   "metadata": {},
   "outputs": [],
   "source": [
    "data = (ImageItemList.from_folder(PATH)\n",
    "        .split_by_folder()          \n",
    "        .label_from_folder()\n",
    "        .transform(tfms, size=sz)\n",
    "        .databunch(bs=16)\n",
    "        .normalize(imagenet_stats))"
   ]
  },
  {
   "cell_type": "code",
   "execution_count": 5,
   "metadata": {},
   "outputs": [],
   "source": [
    "class AdaptiveConcatPool2d(nn.Module):\n",
    "    def __init__(self, sz=None):\n",
    "        super().__init__()\n",
    "        sz = sz or (1,1)\n",
    "        self.ap = nn.AdaptiveAvgPool2d(sz)\n",
    "        self.mp = nn.AdaptiveMaxPool2d(sz)\n",
    "    \n",
    "    def forward(self, x): \n",
    "        return torch.cat([self.mp(x), self.ap(x)], 1)\n",
    "    \n",
    "    \n",
    "custom_head = nn.Sequential(\n",
    "                            AdaptiveConcatPool2d(),\n",
    "                            Flatten(), \n",
    "                            nn.BatchNorm1d(4096, eps=1e-05, momentum=0.1, affine=True, track_running_stats=True),\n",
    "                            nn.Dropout(p=0.25),\n",
    "                            nn.Linear(in_features=4096, out_features=512, bias=True),\n",
    "                            nn.ReLU(),\n",
    "                            nn.BatchNorm1d(512, eps=1e-05, momentum=0.1, affine=True, track_running_stats=True),\n",
    "                            nn.Dropout(p=0.5),\n",
    "                            nn.Linear(in_features=512, out_features=10, bias=True),\n",
    "                            nn.ReLU(),\n",
    "                            nn.Linear(in_features=10, out_features=3, bias=True),\n",
    "                            nn.LogSoftmax()\n",
    "                           )"
   ]
  },
  {
   "cell_type": "code",
   "execution_count": 6,
   "metadata": {},
   "outputs": [],
   "source": [
    "learn = create_cnn(data, models.resnet50, metrics=accuracy, custom_head=custom_head)"
   ]
  },
  {
   "cell_type": "code",
   "execution_count": 9,
   "metadata": {},
   "outputs": [],
   "source": [
    "learn.unfreeze()"
   ]
  },
  {
   "cell_type": "code",
   "execution_count": 10,
   "metadata": {},
   "outputs": [
    {
     "data": {
      "text/html": [
       "Total time: 51:36 <p><table style='width:300px; margin-bottom:10px'>\n",
       "  <tr>\n",
       "    <th>epoch</th>\n",
       "    <th>train_loss</th>\n",
       "    <th>valid_loss</th>\n",
       "    <th>accuracy</th>\n",
       "  </tr>\n",
       "  <tr>\n",
       "    <th>1</th>\n",
       "    <th>0.216016</th>\n",
       "    <th>0.467687</th>\n",
       "    <th>0.817645</th>\n",
       "  </tr>\n",
       "</table>\n"
      ],
      "text/plain": [
       "<IPython.core.display.HTML object>"
      ]
     },
     "metadata": {},
     "output_type": "display_data"
    },
    {
     "name": "stderr",
     "output_type": "stream",
     "text": [
      "/home/as3ek/.local/lib/python3.6/site-packages/torch/nn/modules/container.py:92: UserWarning: Implicit dimension choice for log_softmax has been deprecated. Change the call to include dim=X as an argument.\n",
      "  input = module(input)\n"
     ]
    }
   ],
   "source": [
    "learn.fit_one_cycle(1, max_lr=slice(1e-6,1e-3))"
   ]
  },
  {
   "cell_type": "code",
   "execution_count": 11,
   "metadata": {},
   "outputs": [],
   "source": [
    "learn.save('resnet_10_output_1_epoch')"
   ]
  },
  {
   "cell_type": "code",
   "execution_count": 32,
   "metadata": {},
   "outputs": [],
   "source": [
    "class ResNet50Bottom(nn.Module):\n",
    "    def __init__(self, original_model):\n",
    "        super(ResNet50Bottom, self).__init__()\n",
    "        self.features = nn.Sequential(*(list(learn.model.children())[:-1] + list(list(learn.model.children())[1])[:-3]))\n",
    "        \n",
    "    def forward(self, x):\n",
    "        x = self.features(x)\n",
    "        return x\n",
    "\n",
    "model_10_features = ResNet50Bottom(learn.model)"
   ]
  },
  {
   "cell_type": "code",
   "execution_count": 82,
   "metadata": {},
   "outputs": [],
   "source": [
    "train_df = data.train_ds.to_df()"
   ]
  },
  {
   "cell_type": "code",
   "execution_count": null,
   "metadata": {},
   "outputs": [
    {
     "name": "stdout",
     "output_type": "stream",
     "text": [
      "0\n",
      "100\n",
      "200\n",
      "300\n",
      "400\n",
      "500\n"
     ]
    }
   ],
   "source": [
    "bs = 16\n",
    "data_model_trn = pd.DataFrame(columns = list(range(10)).append('fname'))\n",
    "\n",
    "dl_iter = iter(learn.data.train_dl)\n",
    "dl = next(dl_iter)\n",
    "for index, name in enumerate(train_df['x']):\n",
    "    if ((index % bs == 0) and (index != 0)):\n",
    "        dl = next(dl_iter)\n",
    "    image_batch, label_batch = dl\n",
    "    i = index % bs\n",
    "    image = image_batch[i].reshape(1, 3, 512, 512)\n",
    "    label = label_batch[i].reshape(-1)\n",
    "    \n",
    "    output = model_10_features(image)\n",
    "    \n",
    "    if (index % 100 == 0):\n",
    "        print (index)\n",
    "    \n",
    "    a = output[0].cpu().detach().numpy()\n",
    "    tmp = pd.DataFrame(data=a).T\n",
    "    tmp['fname'] = [name]\n",
    "    data_model_trn = pd.concat([data_model_trn, tmp], ignore_index=True)"
   ]
  },
  {
   "cell_type": "code",
   "execution_count": 73,
   "metadata": {},
   "outputs": [],
   "source": [
    "# we start by extracting a batch then choosing one image and label from that batch\n",
    "# i is the index of the chosen image\n",
    "i = 13\n",
    "\n",
    "image_batch, label_batch = next(iter(learn.data.train_dl))\n",
    "image = image_batch[i].reshape(1, 3, 512, 512)\n",
    "label = label_batch[i].reshape(-1)\n",
    "\n",
    "# running the forward pass\n",
    "out = model_10_features(image)"
   ]
  },
  {
   "cell_type": "code",
   "execution_count": 77,
   "metadata": {},
   "outputs": [],
   "source": []
  },
  {
   "cell_type": "code",
   "execution_count": 81,
   "metadata": {},
   "outputs": [
    {
     "name": "stdout",
     "output_type": "stream",
     "text": [
      "train/Celiac/C13-65_04___2000_4432___0_0.jpg\n"
     ]
    }
   ],
   "source": [
    "for i, j in enumerate(train_df['x']):\n",
    "    print(j)\n",
    "    break"
   ]
  },
  {
   "cell_type": "code",
   "execution_count": null,
   "metadata": {},
   "outputs": [],
   "source": []
  }
 ],
 "metadata": {
  "kernelspec": {
   "display_name": "Python 3",
   "language": "python",
   "name": "python3"
  },
  "language_info": {
   "codemirror_mode": {
    "name": "ipython",
    "version": 3
   },
   "file_extension": ".py",
   "mimetype": "text/x-python",
   "name": "python",
   "nbconvert_exporter": "python",
   "pygments_lexer": "ipython3",
   "version": "3.6.6"
  }
 },
 "nbformat": 4,
 "nbformat_minor": 2
}

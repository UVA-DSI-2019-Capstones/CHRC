{
 "cells": [
  {
   "cell_type": "code",
   "execution_count": 1,
   "metadata": {},
   "outputs": [],
   "source": [
    "# This file should be used to test the environment of your sytem before you run the scripts. \n",
    "# Put the file next to the notebook you are creating and if you recieve error, go back and \n",
    "# update the sytem and install required packages.\n",
    "import fastai\n",
    "from fastai.imports import *"
   ]
  },
  {
   "cell_type": "code",
   "execution_count": 2,
   "metadata": {},
   "outputs": [],
   "source": [
    "from fastai.transforms import *\n",
    "from fastai.conv_learner import *\n",
    "from fastai.model import *\n",
    "from fastai.dataset import *\n",
    "from fastai.sgdr import *\n",
    "from fastai.plots import *"
   ]
  },
  {
   "cell_type": "code",
   "execution_count": 3,
   "metadata": {},
   "outputs": [
    {
     "data": {
      "text/plain": [
       "True"
      ]
     },
     "execution_count": 3,
     "metadata": {},
     "output_type": "execute_result"
    }
   ],
   "source": [
    "torch.cuda.is_available()"
   ]
  },
  {
   "cell_type": "code",
   "execution_count": 4,
   "metadata": {},
   "outputs": [
    {
     "data": {
      "text/plain": [
       "True"
      ]
     },
     "execution_count": 4,
     "metadata": {},
     "output_type": "execute_result"
    }
   ],
   "source": [
    "torch.backends.cudnn.enabled"
   ]
  },
  {
   "cell_type": "code",
   "execution_count": 5,
   "metadata": {},
   "outputs": [
    {
     "data": {
      "text/plain": [
       "1"
      ]
     },
     "execution_count": 5,
     "metadata": {},
     "output_type": "execute_result"
    }
   ],
   "source": [
    "torch.cuda.device_count()"
   ]
  },
  {
   "cell_type": "code",
   "execution_count": 6,
   "metadata": {},
   "outputs": [
    {
     "data": {
      "text/plain": [
       "'Tesla P100-PCIE-12GB'"
      ]
     },
     "execution_count": 6,
     "metadata": {},
     "output_type": "execute_result"
    }
   ],
   "source": [
    "torch.cuda.get_device_name(0)"
   ]
  },
  {
   "cell_type": "code",
   "execution_count": 8,
   "metadata": {},
   "outputs": [],
   "source": [
    "import torch"
   ]
  },
  {
   "cell_type": "code",
   "execution_count": 13,
   "metadata": {},
   "outputs": [
    {
     "name": "stdout",
     "output_type": "stream",
     "text": [
      "Looking in indexes: https://pypi.org/simple, https://packagecloud.io/github/git-lfs/pypi/simple\n",
      "Collecting fastai\n",
      "  Using cached https://files.pythonhosted.org/packages/e9/47/80c46d2b2346cdb2e1bbf95e855ce49ecf8adeee945bd1ce44ad279a6f83/fastai-1.0.43.post1-py3-none-any.whl\n",
      "Requirement already satisfied: scipy in /sfs/qumulo/dev_apps/software/standard/core/anaconda/5.2.0-py3.6/lib/python3.6/site-packages (from fastai) (1.1.0)\n",
      "Collecting nvidia-ml-py3 (from fastai)\n",
      "Requirement already satisfied: pyyaml in /sfs/qumulo/dev_apps/software/standard/core/anaconda/5.2.0-py3.6/lib/python3.6/site-packages (from fastai) (3.12)\n",
      "Requirement already satisfied: typing in /sfs/qumulo/dev_apps/software/standard/core/anaconda/5.2.0-py3.6/lib/python3.6/site-packages (from fastai) (3.6.4)\n",
      "Requirement already satisfied: numexpr in /sfs/qumulo/dev_apps/software/standard/core/anaconda/5.2.0-py3.6/lib/python3.6/site-packages (from fastai) (2.6.5)\n",
      "Requirement already satisfied: packaging in /sfs/qumulo/dev_apps/software/standard/core/anaconda/5.2.0-py3.6/lib/python3.6/site-packages (from fastai) (17.1)\n",
      "Requirement already satisfied: spacy>=2.0.18 in /sfs/qumulo/qhome/as3ek/.local/lib/python3.6/site-packages (from fastai) (2.0.18)\n",
      "Requirement already satisfied: beautifulsoup4 in /sfs/qumulo/dev_apps/software/standard/core/anaconda/5.2.0-py3.6/lib/python3.6/site-packages (from fastai) (4.6.0)\n",
      "Requirement already satisfied: dataclasses; python_version < \"3.7\" in /sfs/qumulo/qhome/as3ek/.local/lib/python3.6/site-packages (from fastai) (0.6)\n",
      "Requirement already satisfied: bottleneck in /sfs/qumulo/dev_apps/software/standard/core/anaconda/5.2.0-py3.6/lib/python3.6/site-packages (from fastai) (1.2.1)\n",
      "Requirement already satisfied: requests in /sfs/qumulo/dev_apps/software/standard/core/anaconda/5.2.0-py3.6/lib/python3.6/site-packages (from fastai) (2.18.4)\n",
      "Requirement already satisfied: matplotlib in /sfs/qumulo/dev_apps/software/standard/core/anaconda/5.2.0-py3.6/lib/python3.6/site-packages (from fastai) (2.2.2)\n",
      "Requirement already satisfied: Pillow in /sfs/qumulo/dev_apps/software/standard/core/anaconda/5.2.0-py3.6/lib/python3.6/site-packages (from fastai) (5.3.0)\n",
      "Requirement already satisfied: pandas in /sfs/qumulo/dev_apps/software/standard/core/anaconda/5.2.0-py3.6/lib/python3.6/site-packages (from fastai) (0.23.4)\n",
      "Requirement already satisfied: torch>=1.0.0 in /sfs/qumulo/qhome/as3ek/.local/lib/python3.6/site-packages (from fastai) (1.0.1.post2)\n",
      "Requirement already satisfied: torchvision in /sfs/qumulo/qhome/as3ek/.local/lib/python3.6/site-packages (from fastai) (0.2.1)\n",
      "Requirement already satisfied: fastprogress>=0.1.19 in /sfs/qumulo/qhome/as3ek/.local/lib/python3.6/site-packages (from fastai) (0.1.19)\n",
      "Requirement already satisfied: numpy>=1.12 in /sfs/qumulo/dev_apps/software/standard/core/anaconda/5.2.0-py3.6/lib/python3.6/site-packages (from fastai) (1.14.3)\n",
      "Requirement already satisfied: pyparsing>=2.0.2 in /sfs/qumulo/dev_apps/software/standard/core/anaconda/5.2.0-py3.6/lib/python3.6/site-packages (from packaging->fastai) (2.2.0)\n",
      "Requirement already satisfied: six in /sfs/qumulo/dev_apps/software/standard/core/anaconda/5.2.0-py3.6/lib/python3.6/site-packages (from packaging->fastai) (1.11.0)\n",
      "Requirement already satisfied: dill<0.3,>=0.2 in /sfs/qumulo/qhome/as3ek/.local/lib/python3.6/site-packages (from spacy>=2.0.18->fastai) (0.2.9)\n",
      "Requirement already satisfied: regex==2018.01.10 in /sfs/qumulo/qhome/as3ek/.local/lib/python3.6/site-packages (from spacy>=2.0.18->fastai) (2018.1.10)\n",
      "Requirement already satisfied: cymem<2.1.0,>=2.0.2 in /sfs/qumulo/qhome/as3ek/.local/lib/python3.6/site-packages (from spacy>=2.0.18->fastai) (2.0.2)\n",
      "Requirement already satisfied: preshed<2.1.0,>=2.0.1 in /sfs/qumulo/qhome/as3ek/.local/lib/python3.6/site-packages (from spacy>=2.0.18->fastai) (2.0.1)\n",
      "Requirement already satisfied: murmurhash<1.1.0,>=0.28.0 in /sfs/qumulo/qhome/as3ek/.local/lib/python3.6/site-packages (from spacy>=2.0.18->fastai) (1.0.1)\n",
      "Requirement already satisfied: ujson>=1.35 in /sfs/qumulo/qhome/as3ek/.local/lib/python3.6/site-packages (from spacy>=2.0.18->fastai) (1.35)\n",
      "Requirement already satisfied: plac<1.0.0,>=0.9.6 in /sfs/qumulo/qhome/as3ek/.local/lib/python3.6/site-packages (from spacy>=2.0.18->fastai) (0.9.6)\n",
      "Requirement already satisfied: thinc<6.13.0,>=6.12.1 in /sfs/qumulo/qhome/as3ek/.local/lib/python3.6/site-packages (from spacy>=2.0.18->fastai) (6.12.1)\n",
      "Requirement already satisfied: chardet<3.1.0,>=3.0.2 in /sfs/qumulo/dev_apps/software/standard/core/anaconda/5.2.0-py3.6/lib/python3.6/site-packages (from requests->fastai) (3.0.4)\n",
      "Requirement already satisfied: idna<2.7,>=2.5 in /sfs/qumulo/dev_apps/software/standard/core/anaconda/5.2.0-py3.6/lib/python3.6/site-packages (from requests->fastai) (2.6)\n",
      "Requirement already satisfied: urllib3<1.23,>=1.21.1 in /sfs/qumulo/dev_apps/software/standard/core/anaconda/5.2.0-py3.6/lib/python3.6/site-packages (from requests->fastai) (1.22)\n",
      "Requirement already satisfied: certifi>=2017.4.17 in /sfs/qumulo/dev_apps/software/standard/core/anaconda/5.2.0-py3.6/lib/python3.6/site-packages (from requests->fastai) (2018.11.29)\n",
      "Requirement already satisfied: cycler>=0.10 in /sfs/qumulo/dev_apps/software/standard/core/anaconda/5.2.0-py3.6/lib/python3.6/site-packages (from matplotlib->fastai) (0.10.0)\n",
      "Requirement already satisfied: python-dateutil>=2.1 in /sfs/qumulo/dev_apps/software/standard/core/anaconda/5.2.0-py3.6/lib/python3.6/site-packages (from matplotlib->fastai) (2.7.3)\n",
      "Requirement already satisfied: pytz in /sfs/qumulo/dev_apps/software/standard/core/anaconda/5.2.0-py3.6/lib/python3.6/site-packages (from matplotlib->fastai) (2018.4)\n",
      "Requirement already satisfied: kiwisolver>=1.0.1 in /sfs/qumulo/dev_apps/software/standard/core/anaconda/5.2.0-py3.6/lib/python3.6/site-packages (from matplotlib->fastai) (1.0.1)\n",
      "Requirement already satisfied: wrapt<1.11.0,>=1.10.0 in /sfs/qumulo/dev_apps/software/standard/core/anaconda/5.2.0-py3.6/lib/python3.6/site-packages (from thinc<6.13.0,>=6.12.1->spacy>=2.0.18->fastai) (1.10.11)\n",
      "Requirement already satisfied: msgpack<0.6.0,>=0.5.6 in /sfs/qumulo/qhome/as3ek/.local/lib/python3.6/site-packages (from thinc<6.13.0,>=6.12.1->spacy>=2.0.18->fastai) (0.5.6)\n",
      "Requirement already satisfied: cytoolz<0.10,>=0.9.0 in /sfs/qumulo/dev_apps/software/standard/core/anaconda/5.2.0-py3.6/lib/python3.6/site-packages (from thinc<6.13.0,>=6.12.1->spacy>=2.0.18->fastai) (0.9.0.1)\n",
      "Requirement already satisfied: msgpack-numpy<0.4.4 in /sfs/qumulo/qhome/as3ek/.local/lib/python3.6/site-packages (from thinc<6.13.0,>=6.12.1->spacy>=2.0.18->fastai) (0.4.3.2)\n",
      "Requirement already satisfied: tqdm<5.0.0,>=4.10.0 in /sfs/qumulo/qhome/as3ek/.local/lib/python3.6/site-packages (from thinc<6.13.0,>=6.12.1->spacy>=2.0.18->fastai) (4.26.0)\n",
      "Requirement already satisfied: setuptools in /sfs/qumulo/dev_apps/software/standard/core/anaconda/5.2.0-py3.6/lib/python3.6/site-packages (from kiwisolver>=1.0.1->matplotlib->fastai) (39.1.0)\n",
      "Requirement already satisfied: toolz>=0.8.0 in /sfs/qumulo/dev_apps/software/standard/core/anaconda/5.2.0-py3.6/lib/python3.6/site-packages (from cytoolz<0.10,>=0.9.0->thinc<6.13.0,>=6.12.1->spacy>=2.0.18->fastai) (0.9.0)\n",
      "Installing collected packages: nvidia-ml-py3, fastai\n",
      "Successfully installed fastai-1.0.43.post1 nvidia-ml-py3-7.352.0\n"
     ]
    }
   ],
   "source": [
    "!pip install --user fastai"
   ]
  },
  {
   "cell_type": "code",
   "execution_count": null,
   "metadata": {},
   "outputs": [],
   "source": []
  }
 ],
 "metadata": {
  "kernelspec": {
   "display_name": "Python 3",
   "language": "python",
   "name": "python3"
  },
  "language_info": {
   "codemirror_mode": {
    "name": "ipython",
    "version": 3
   },
   "file_extension": ".py",
   "mimetype": "text/x-python",
   "name": "python",
   "nbconvert_exporter": "python",
   "pygments_lexer": "ipython3",
   "version": "3.6.6"
  }
 },
 "nbformat": 4,
 "nbformat_minor": 2
}

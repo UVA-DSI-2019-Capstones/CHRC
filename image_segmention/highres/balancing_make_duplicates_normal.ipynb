{
 "cells": [
  {
   "cell_type": "code",
   "execution_count": 1,
   "metadata": {},
   "outputs": [],
   "source": [
    "import csv\n",
    "import os\n",
    "import glob\n",
    "import re\n",
    "from pandas import DataFrame, Series\n",
    "from PIL import Image\n",
    "import timeit\n",
    "import time"
   ]
  },
  {
   "cell_type": "code",
   "execution_count": 2,
   "metadata": {},
   "outputs": [],
   "source": [
    "## CHANGE THESE TO POINT TO VALID AND TRAIN FOR ALL CATEGORIES\n",
    "## PRESERVE THE ORDER\n",
    "train_paths = [\"/scratch/as3ek/chrc_data_case_preserved_1000_normal/valid/Celiac\", \"/scratch/as3ek/chrc_data_case_preserved_1000_normal/valid/EE\", \n",
    "               \"/scratch/as3ek/chrc_data_case_preserved_1000_normal/valid/Normal\", \"/scratch/as3ek/chrc_data_case_preserved_1000_normal/train/Celiac\", \n",
    "               \"/scratch/as3ek/chrc_data_case_preserved_1000_normal/train/EE\", \"/scratch/as3ek/chrc_data_case_preserved_1000_normal/train/Normal\"]\n",
    "\n",
    "images = {}\n",
    "images_by_folder = {}\n",
    "for train_path in train_paths:\n",
    "    images_by_folder[str(train_path)] = []\n",
    "    files = glob.glob(os.path.join(train_path, '*.jpg'))\n",
    "    for fl in files:\n",
    "        flbase = os.path.basename(fl)\n",
    "        flbase_noext = os.path.splitext(flbase)[0]\n",
    "        images[flbase_noext]=fl\n",
    "        images_by_folder[str(train_path)].append(flbase_noext)"
   ]
  },
  {
   "cell_type": "code",
   "execution_count": 3,
   "metadata": {},
   "outputs": [
    {
     "name": "stdout",
     "output_type": "stream",
     "text": [
      "/scratch/as3ek/chrc_data_case_preserved_1000_normal/train/Normal Multiply index: 2 Original SIze:  32812\n",
      "10000\n",
      "20000\n",
      "30000\n",
      "Doing Valid now!\n",
      "/scratch/as3ek/chrc_data_case_preserved_1000_normal/valid/Normal Multiply index: 2 Original SIze:  8450\n"
     ]
    }
   ],
   "source": [
    "from shutil import copyfile\n",
    "\n",
    "# CHANGE THESE PATHS TO POINT TO TRAIN AND VALID FOLDER FOR Normal RESPECTIVELY \n",
    "train_paths = [\"/scratch/as3ek/chrc_data_case_preserved_1000_normal/train/Normal\"]\n",
    "valid_paths = [\"/scratch/as3ek/chrc_data_case_preserved_1000_normal/valid/Normal\"]\n",
    "\n",
    "## CHANGE THESE TO POINT TO TRAIN AND VALID FOLDER WITH THE MAXIMUM NUMBER OF FILES IN BOTH\n",
    "## EXAMPLE CHANGE max_train PATH TO POINT TO train/EE or train/Celiac or train/Normal. WHICHEVER HAS MAXIMUM NUMBER OF FILES\n",
    "## SIMILARLY FOR max_valid. BOTH COULD POINT TO DIFFERENT CATEGORIES!\n",
    "### MAKE SURE THESE ARE THE SAME IN ALL THREE SCRIPTS\n",
    "max_train = len(images_by_folder[\"/scratch/as3ek/chrc_data_case_preserved_1000_normal/train/Celiac\"])\n",
    "max_valid = len(images_by_folder[\"/scratch/as3ek/chrc_data_case_preserved_1000_normal/valid/Celiac\"])\n",
    "\n",
    "for path in train_paths:\n",
    "    mult = int(round(max_train / len(images_by_folder[str(path)])))\n",
    "    print (str(path) + \" Multiply index: \" + str(mult) + \" Original SIze:  \" + str(len(images_by_folder[str(path)])))\n",
    "    counter = 0\n",
    "    for img in images_by_folder[str(path)]:\n",
    "        counter = counter + 1\n",
    "        if (counter % 10000 == 0):\n",
    "            print(counter)\n",
    "        src = str(path) + \"/\" + str(img)  + '.jpg'\n",
    "#         dst = '../data_segments/' + 'data_balanced_duplicate_sample/' + str(path.split('/')[-2].strip()) + '/' + str(path.split('/')[-1].strip()) + '/' + str(img)\n",
    "        for i in range(mult):\n",
    "            dst = '/scratch/as3ek/chrc_data_case_preserved_1000_normal_balanced/' + str(path.split('/')[-2].strip()) + '/' + str(path.split('/')[-1].strip()) + '/' + str(img) + '_' + str(i) + '.jpg'\n",
    "            copyfile(src, dst)\n",
    "            \n",
    "print ('Doing Valid now!')\n",
    "for path in valid_paths:\n",
    "    mult = int(round(max_valid / len(images_by_folder[str(path)])))\n",
    "    print (str(path) + \" Multiply index: \" + str(mult) + \" Original SIze:  \" + str(len(images_by_folder[str(path)])))\n",
    "    counter = 0\n",
    "    for img in images_by_folder[str(path)]:\n",
    "        counter = counter + 1\n",
    "        if (counter % 10000 == 0):\n",
    "            print(counter)\n",
    "        src = str(path) + \"/\" + str(img) + '.jpg'\n",
    "#         dst = '../data_segments/' + 'data_balanced_duplicate_sample/' + str(path.split('/')[-2].strip()) + '/' + str(path.split('/')[-1].strip()) + '/' + str(img) \n",
    "        for i in range(mult):\n",
    "            dst = '/scratch/as3ek/chrc_data_case_preserved_1000_normal_balanced/' + str(path.split('/')[-2].strip()) + '/' + str(path.split('/')[-1].strip()) + '/' + str(img) + '_' + str(i) + '.jpg'\n",
    "            copyfile(src, dst)"
   ]
  },
  {
   "cell_type": "code",
   "execution_count": null,
   "metadata": {},
   "outputs": [],
   "source": []
  }
 ],
 "metadata": {
  "kernelspec": {
   "display_name": "Python 3",
   "language": "python",
   "name": "python3"
  },
  "language_info": {
   "codemirror_mode": {
    "name": "ipython",
    "version": 3
   },
   "file_extension": ".py",
   "mimetype": "text/x-python",
   "name": "python",
   "nbconvert_exporter": "python",
   "pygments_lexer": "ipython3",
   "version": "3.6.6"
  }
 },
 "nbformat": 4,
 "nbformat_minor": 2
}

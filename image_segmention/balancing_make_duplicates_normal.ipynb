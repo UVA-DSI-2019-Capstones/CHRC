{
 "cells": [
  {
   "cell_type": "code",
   "execution_count": 1,
   "metadata": {},
   "outputs": [],
   "source": [
    "import csv\n",
    "import os\n",
    "import glob\n",
    "import re\n",
    "from pandas import DataFrame, Series\n",
    "from PIL import Image\n",
    "import timeit\n",
    "import time"
   ]
  },
  {
   "cell_type": "code",
   "execution_count": 2,
   "metadata": {},
   "outputs": [],
   "source": [
    "## Copy all files from source to destination creating folder structure on the go\n",
    "train_paths = [\"../data_segments/chrc_data_segments/valid/Celiac\", \"../data_segments/chrc_data_segments/valid/EE\", \n",
    "               \"../data_segments/chrc_data_segments/valid/Normal\", \"../data_segments/chrc_data_segments/train/Celiac\", \n",
    "               \"../data_segments/chrc_data_segments/train/EE\", \"../data_segments/chrc_data_segments/train/Normal\"]\n",
    "\n",
    "images = {}\n",
    "images_by_folder = {}\n",
    "for train_path in train_paths:\n",
    "    images_by_folder[str(train_path)] = []\n",
    "    files = glob.glob(os.path.join(train_path, '*.jpg'))\n",
    "    for fl in files:\n",
    "        flbase = os.path.basename(fl)\n",
    "        flbase_noext = os.path.splitext(flbase)[0]\n",
    "        images[flbase_noext]=fl\n",
    "        images_by_folder[str(train_path)].append(flbase_noext)"
   ]
  },
  {
   "cell_type": "code",
   "execution_count": 3,
   "metadata": {},
   "outputs": [
    {
     "name": "stdout",
     "output_type": "stream",
     "text": [
      "../data_segments/chrc_data_segments/train/Normal Multiply index: 3 Original SIze:  53239\n",
      "10000\n",
      "20000\n",
      "30000\n",
      "40000\n",
      "50000\n",
      "Doing Valid now!\n",
      "../data_segments/chrc_data_segments/valid/Normal Multiply index: 3 Original SIze:  15888\n",
      "10000\n"
     ]
    }
   ],
   "source": [
    "from shutil import copyfile\n",
    "\n",
    "train_paths = [\"../data_segments/chrc_data_segments/train/Normal\"]\n",
    "valid_paths = [\"../data_segments/chrc_data_segments/valid/Normal\"]\n",
    "\n",
    "max_train = len(images_by_folder[\"../data_segments/chrc_data_segments/train/EE\"])\n",
    "max_valid = len(images_by_folder[\"../data_segments/chrc_data_segments/valid/EE\"])\n",
    "\n",
    "for path in train_paths:\n",
    "    mult = int(round(max_train / len(images_by_folder[str(path)])))\n",
    "    print (str(path) + \" Multiply index: \" + str(mult) + \" Original SIze:  \" + str(len(images_by_folder[str(path)])))\n",
    "    counter = 0\n",
    "    for img in images_by_folder[str(path)]:\n",
    "        counter = counter + 1\n",
    "        if (counter % 10000 == 0):\n",
    "            print(counter)\n",
    "        src = str(path) + \"/\" + str(img)  + '.jpg'\n",
    "#         dst = '../data_segments/' + 'data_balanced_duplicate_sample/' + str(path.split('/')[-2].strip()) + '/' + str(path.split('/')[-1].strip()) + '/' + str(img)\n",
    "        for i in range(mult):\n",
    "            dst = '../data_segments/' + 'data_balanced_duplicate_sample/' + str(path.split('/')[-2].strip()) + '/' + str(path.split('/')[-1].strip()) + '/' + str(img) + '_' + str(i) + '.jpg'\n",
    "            copyfile(src, dst)\n",
    "            \n",
    "print ('Doing Valid now!')\n",
    "for path in valid_paths:\n",
    "    mult = int(round(max_valid / len(images_by_folder[str(path)])))\n",
    "    print (str(path) + \" Multiply index: \" + str(mult) + \" Original SIze:  \" + str(len(images_by_folder[str(path)])))\n",
    "    counter = 0\n",
    "    for img in images_by_folder[str(path)]:\n",
    "        counter = counter + 1\n",
    "        if (counter % 10000 == 0):\n",
    "            print(counter)\n",
    "        src = str(path) + \"/\" + str(img) + '.jpg'\n",
    "#         dst = '../data_segments/' + 'data_balanced_duplicate_sample/' + str(path.split('/')[-2].strip()) + '/' + str(path.split('/')[-1].strip()) + '/' + str(img) \n",
    "        for i in range(mult):\n",
    "            dst = '../data_segments/' + 'data_balanced_duplicate_sample/' + str(path.split('/')[-2].strip()) + '/' + str(path.split('/')[-1].strip()) + '/' + str(img) + '_' + str(i) + '.jpg'\n",
    "            copyfile(src, dst)"
   ]
  },
  {
   "cell_type": "code",
   "execution_count": null,
   "metadata": {},
   "outputs": [],
   "source": []
  }
 ],
 "metadata": {
  "kernelspec": {
   "display_name": "Python 3",
   "language": "python",
   "name": "python3"
  },
  "language_info": {
   "codemirror_mode": {
    "name": "ipython",
    "version": 3
   },
   "file_extension": ".py",
   "mimetype": "text/x-python",
   "name": "python",
   "nbconvert_exporter": "python",
   "pygments_lexer": "ipython3",
   "version": "3.6.5"
  }
 },
 "nbformat": 4,
 "nbformat_minor": 2
}

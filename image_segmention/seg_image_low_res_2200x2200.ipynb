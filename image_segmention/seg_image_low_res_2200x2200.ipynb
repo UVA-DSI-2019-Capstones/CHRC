{
 "cells": [
  {
   "cell_type": "code",
   "execution_count": 16,
   "metadata": {},
   "outputs": [],
   "source": [
    "import csv\n",
    "import os\n",
    "import glob\n",
    "import re\n",
    "from pandas import DataFrame, Series\n",
    "from openslide import open_slide\n",
    "from PIL import Image\n",
    "import timeit\n",
    "import time\n",
    "import math"
   ]
  },
  {
   "cell_type": "code",
   "execution_count": 17,
   "metadata": {},
   "outputs": [],
   "source": [
    "train_paths = [\"/scratch/kk4ze/data_svs/valid/Celiac\", \"/scratch/kk4ze/data_svs/valid/EE\", \"/scratch/kk4ze/data_svs/valid/Normal\", \n",
    "              \"/scratch/kk4ze/data_svs/train/Celiac\", \"/scratch/kk4ze/data_svs/train/EE\", \"/scratch/kk4ze/data_svs/train/Normal\"]\n",
    "images = {}\n",
    "images_by_folder = {}\n",
    "for train_path in train_paths:\n",
    "    images_by_folder[str(train_path)] = []\n",
    "    files = glob.glob(os.path.join(train_path, '*.svs'))\n",
    "    for fl in files:\n",
    "        flbase = os.path.basename(fl)\n",
    "        flbase_noext = os.path.splitext(flbase)[0]\n",
    "        images[flbase_noext]=fl\n",
    "        images_by_folder[str(train_path)].append(flbase)"
   ]
  },
  {
   "cell_type": "code",
   "execution_count": 18,
   "metadata": {},
   "outputs": [],
   "source": [
    "path_change_map = {}\n",
    "\n",
    "for key in list(images_by_folder.keys()):\n",
    "    temp = key.replace('data_svs', 'data_lowres')\n",
    "    path_change_map[key] = temp"
   ]
  },
  {
   "cell_type": "code",
   "execution_count": 20,
   "metadata": {},
   "outputs": [],
   "source": [
    "#image_by_folder.keys()\n",
    "#image_by_folder.values()\n",
    "#path_change_map\n",
    "#op_slide_img = open_slide('/scratch/kk4ze/data_svs/valid/Celiac/C06-30_03.svs')"
   ]
  },
  {
   "cell_type": "code",
   "execution_count": null,
   "metadata": {},
   "outputs": [],
   "source": [
    "#op_slide_img.dimensions"
   ]
  },
  {
   "cell_type": "code",
   "execution_count": null,
   "metadata": {},
   "outputs": [],
   "source": [
    "# y_break=math.ceil(op_slide_img.dimensions[1]/op_slide_img.dimensions[0])\n",
    "# y_break"
   ]
  },
  {
   "cell_type": "code",
   "execution_count": 56,
   "metadata": {},
   "outputs": [],
   "source": [
    "# for count in range(0,y_break):\n",
    "#     x=op_slide_img.dimensions[0]\n",
    "#     if count==0:\n",
    "#         y=0\n",
    "#     else:    \n",
    "#         y=0+op_slide_img.dimensions[1]-(count*x)\n",
    "#     img = op_slide_img.read_region((0,y), 0, (x,x))\n",
    "#     jpg_img = img.convert('RGB')\n",
    "#     jpg_img.save('test_'+str(count)+'.jpg')"
   ]
  },
  {
   "cell_type": "code",
   "execution_count": null,
   "metadata": {},
   "outputs": [],
   "source": [
    "width_height = (2200,2200)\n",
    "for key in images_by_folder.keys():\n",
    "    for value in images_by_folder[key]:\n",
    "        img_path = str(key) +'/'+ str(value)\n",
    "        op_slide_img = open_slide(img_path)\n",
    "        value_strip=value[:-4]\n",
    "        if op_slide_img.dimensions[1]>op_slide_img.dimensions[0]:\n",
    "            y_break=math.ceil(op_slide_img.dimensions[1]/op_slide_img.dimensions[0])\n",
    "            for count in range(0,y_break):\n",
    "                x=op_slide_img.dimensions[0]\n",
    "                if count==0:\n",
    "                    y=0\n",
    "                else:\n",
    "                    y=0+op_slide_img.dimensions[1]-(count*x)\n",
    "                img = op_slide_img.read_region((0,y), 0, (x,x))\n",
    "                img = img.resize(width_height, Image.ANTIALIAS)\n",
    "                jpg_img = img.convert('RGB')\n",
    "                jpg_img.save(path_change_map[key] + '/' + str(value_strip) + '_' + str(op_slide_img.dimensions[0])+'_'+str(op_slide_img.dimensions[1])+'_vert_'+'_'+str(count)+'.jpg')\n",
    "        elif op_slide_img.dimensions[0]>op_slide_img.dimensions[1]:\n",
    "            x_break=math.ceil(op_slide_img.dimensions[0]/op_slide_img.dimensions[1])\n",
    "            for count in range(0,x_break):\n",
    "                y=op_slide_img.dimensions[1]\n",
    "                if count==0:\n",
    "                    x=0\n",
    "                else:\n",
    "                    x=0+op_slide_img.dimensions[0]-(count*y)\n",
    "                img = op_slide_img.read_region((x,0), 0, (y,y))\n",
    "                img = img.resize(width_height, Image.ANTIALIAS)\n",
    "                jpg_img = img.convert('RGB')\n",
    "                jpg_img.save(path_change_map[key] + '/' + str(value_strip) + '_'+ str(op_slide_img.dimensions[0])+'_'+str(op_slide_img.dimensions[1])+'_horiz_'+'_'+str(count)+'.jpg')\n",
    "        \n",
    "        "
   ]
  }
 ],
 "metadata": {
  "kernelspec": {
   "display_name": "Python 3",
   "language": "python",
   "name": "python3"
  },
  "language_info": {
   "codemirror_mode": {
    "name": "ipython",
    "version": 3
   },
   "file_extension": ".py",
   "mimetype": "text/x-python",
   "name": "python",
   "nbconvert_exporter": "python",
   "pygments_lexer": "ipython3",
   "version": "3.6.5"
  }
 },
 "nbformat": 4,
 "nbformat_minor": 2
}

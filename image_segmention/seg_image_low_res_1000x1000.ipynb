{
 "cells": [
  {
   "cell_type": "code",
   "execution_count": 2,
   "metadata": {},
   "outputs": [],
   "source": [
    "import csv\n",
    "import os\n",
    "import glob\n",
    "import re\n",
    "from pandas import DataFrame, Series\n",
    "from openslide import open_slide\n",
    "from PIL import Image\n",
    "import timeit\n",
    "import time\n",
    "import math"
   ]
  },
  {
   "cell_type": "code",
   "execution_count": 57,
   "metadata": {},
   "outputs": [],
   "source": [
    "train_paths = [\"/scratch/kk4ze/data_svs/valid/Celiac\", \"/scratch/kk4ze/data_svs/valid/EE\", \"/scratch/kk4ze/data_svs/valid/Normal\", \n",
    "              \"/scratch/kk4ze/data_svs/train/Celiac\", \"/scratch/kk4ze/data_svs/train/EE\", \"/scratch/kk4ze/data_svs/train/Normal\"]\n",
    "images = {}\n",
    "images_by_folder = {}\n",
    "for train_path in train_paths:\n",
    "    images_by_folder[str(train_path)] = []\n",
    "    files = glob.glob(os.path.join(train_path, '*.svs'))\n",
    "    for fl in files:\n",
    "        flbase = os.path.basename(fl)\n",
    "        flbase_noext = os.path.splitext(flbase)[0]\n",
    "        images[flbase_noext]=fl\n",
    "        images_by_folder[str(train_path)].append(flbase)"
   ]
  },
  {
   "cell_type": "code",
   "execution_count": 67,
   "metadata": {},
   "outputs": [
    {
     "data": {
      "text/plain": [
       "dict_items([('C06-30_04', '/scratch/kk4ze/data_svs/valid/Celiac/C06-30_04.svs'), ('C06-30_03', '/scratch/kk4ze/data_svs/valid/Celiac/C06-30_03.svs'), ('C03-12_01', '/scratch/kk4ze/data_svs/valid/Celiac/C03-12_01.svs'), ('C10-48_03', '/scratch/kk4ze/data_svs/valid/Celiac/C10-48_03.svs'), ('C06-33_03', '/scratch/kk4ze/data_svs/valid/Celiac/C06-33_03.svs'), ('C06-33_02', '/scratch/kk4ze/data_svs/valid/Celiac/C06-33_02.svs'), ('C12-63_02', '/scratch/kk4ze/data_svs/valid/Celiac/C12-63_02.svs'), ('C03-05_04', '/scratch/kk4ze/data_svs/valid/Celiac/C03-05_04.svs'), ('C04-19_03', '/scratch/kk4ze/data_svs/valid/Celiac/C04-19_03.svs'), ('C17-81_04', '/scratch/kk4ze/data_svs/valid/Celiac/C17-81_04.svs'), ('C13-65_02', '/scratch/kk4ze/data_svs/valid/Celiac/C13-65_02.svs'), ('C04-17_05', '/scratch/kk4ze/data_svs/valid/Celiac/C04-17_05.svs'), ('C10-47_01', '/scratch/kk4ze/data_svs/valid/Celiac/C10-47_01.svs'), ('C06-31_01', '/scratch/kk4ze/data_svs/valid/Celiac/C06-31_01.svs'), ('C07-37_05', '/scratch/kk4ze/data_svs/valid/Celiac/C07-37_05.svs'), ('C14-71_06', '/scratch/kk4ze/data_svs/valid/Celiac/C14-71_06.svs'), ('C03-10_04', '/scratch/kk4ze/data_svs/valid/Celiac/C03-10_04.svs'), ('C12-58_02', '/scratch/kk4ze/data_svs/valid/Celiac/C12-58_02.svs'), ('C13-68_04', '/scratch/kk4ze/data_svs/valid/Celiac/C13-68_04.svs'), ('C04-17_04', '/scratch/kk4ze/data_svs/valid/Celiac/C04-17_04.svs'), ('C07-34_02', '/scratch/kk4ze/data_svs/valid/Celiac/C07-34_02.svs'), ('C12-58_01', '/scratch/kk4ze/data_svs/valid/Celiac/C12-58_01.svs'), ('C17-80_01', '/scratch/kk4ze/data_svs/valid/Celiac/C17-80_01.svs'), ('C07-34_04', '/scratch/kk4ze/data_svs/valid/Celiac/C07-34_04.svs'), ('C16-79_01', '/scratch/kk4ze/data_svs/valid/Celiac/C16-79_01.svs'), ('C04-21_01', '/scratch/kk4ze/data_svs/valid/Celiac/C04-21_01.svs'), ('C03-08_01', '/scratch/kk4ze/data_svs/valid/Celiac/C03-08_01.svs'), ('C12-63_03', '/scratch/kk4ze/data_svs/valid/Celiac/C12-63_03.svs'), ('C14-70_06', '/scratch/kk4ze/data_svs/valid/Celiac/C14-70_06.svs'), ('C10-49_02', '/scratch/kk4ze/data_svs/valid/Celiac/C10-49_02.svs'), ('C03-05_02', '/scratch/kk4ze/data_svs/valid/Celiac/C03-05_02.svs'), ('C03-13_02', '/scratch/kk4ze/data_svs/valid/Celiac/C03-13_02.svs'), ('C03-07_01', '/scratch/kk4ze/data_svs/valid/Celiac/C03-07_01.svs'), ('C03-10_05', '/scratch/kk4ze/data_svs/valid/Celiac/C03-10_05.svs'), ('C03-09_01', '/scratch/kk4ze/data_svs/valid/Celiac/C03-09_01.svs'), ('C06-28_01', '/scratch/kk4ze/data_svs/valid/Celiac/C06-28_01.svs'), ('C07-37_06', '/scratch/kk4ze/data_svs/valid/Celiac/C07-37_06.svs'), ('C06-32_03', '/scratch/kk4ze/data_svs/valid/Celiac/C06-32_03.svs'), ('C10-47_02', '/scratch/kk4ze/data_svs/valid/Celiac/C10-47_02.svs'), ('C10-48_04', '/scratch/kk4ze/data_svs/valid/Celiac/C10-48_04.svs'), ('C11-56_03', '/scratch/kk4ze/data_svs/valid/Celiac/C11-56_03.svs'), ('C11-55_01', '/scratch/kk4ze/data_svs/valid/Celiac/C11-55_01.svs'), ('C17-80_02', '/scratch/kk4ze/data_svs/valid/Celiac/C17-80_02.svs'), ('34', '/scratch/kk4ze/data_svs/valid/EE/34.svs'), ('130382_6718_001', '/scratch/kk4ze/data_svs/valid/EE/130382_6718_001.svs'), ('87', '/scratch/kk4ze/data_svs/valid/EE/87.svs'), ('130365_6716_001', '/scratch/kk4ze/data_svs/valid/EE/130365_6716_001.svs'), ('130369_6721_001', '/scratch/kk4ze/data_svs/valid/EE/130369_6721_001.svs'), ('72', '/scratch/kk4ze/data_svs/valid/EE/72.svs'), ('111', '/scratch/kk4ze/data_svs/valid/EE/111.svs'), ('79', '/scratch/kk4ze/data_svs/valid/EE/79.svs'), ('N15-23_02', '/scratch/kk4ze/data_svs/valid/Normal/N15-23_02.svs'), ('N14-13_02', '/scratch/kk4ze/data_svs/valid/Normal/N14-13_02.svs'), ('N16-41_03', '/scratch/kk4ze/data_svs/valid/Normal/N16-41_03.svs'), ('N15-23_01', '/scratch/kk4ze/data_svs/valid/Normal/N15-23_01.svs'), ('N15-30_02', '/scratch/kk4ze/data_svs/valid/Normal/N15-30_02.svs'), ('N14-06_03', '/scratch/kk4ze/data_svs/valid/Normal/N14-06_03.svs'), ('N14-03_02', '/scratch/kk4ze/data_svs/valid/Normal/N14-03_02.svs'), ('N14-01_01', '/scratch/kk4ze/data_svs/valid/Normal/N14-01_01.svs'), ('N14-17_03', '/scratch/kk4ze/data_svs/valid/Normal/N14-17_03.svs'), ('N15-21_01', '/scratch/kk4ze/data_svs/valid/Normal/N15-21_01.svs'), ('N17-56_00', '/scratch/kk4ze/data_svs/valid/Normal/N17-56_00.svs'), ('N16-45_00', '/scratch/kk4ze/data_svs/valid/Normal/N16-45_00.svs'), ('N17-62_01', '/scratch/kk4ze/data_svs/valid/Normal/N17-62_01.svs'), ('N14-05_02', '/scratch/kk4ze/data_svs/valid/Normal/N14-05_02.svs'), ('N14-10_01', '/scratch/kk4ze/data_svs/valid/Normal/N14-10_01.svs'), ('N16-42_01', '/scratch/kk4ze/data_svs/valid/Normal/N16-42_01.svs'), ('N14-18_05', '/scratch/kk4ze/data_svs/valid/Normal/N14-18_05.svs'), ('N17-62_02', '/scratch/kk4ze/data_svs/valid/Normal/N17-62_02.svs'), ('N17-65_00', '/scratch/kk4ze/data_svs/valid/Normal/N17-65_00.svs'), ('N16-42_05', '/scratch/kk4ze/data_svs/valid/Normal/N16-42_05.svs'), ('N14-12_03', '/scratch/kk4ze/data_svs/valid/Normal/N14-12_03.svs'), ('N14-19_02', '/scratch/kk4ze/data_svs/valid/Normal/N14-19_02.svs'), ('N15-22_03', '/scratch/kk4ze/data_svs/valid/Normal/N15-22_03.svs'), ('N14-18_02', '/scratch/kk4ze/data_svs/valid/Normal/N14-18_02.svs'), ('N14-09_03', '/scratch/kk4ze/data_svs/valid/Normal/N14-09_03.svs'), ('N14-06_01', '/scratch/kk4ze/data_svs/valid/Normal/N14-06_01.svs'), ('N17-61_02', '/scratch/kk4ze/data_svs/valid/Normal/N17-61_02.svs'), ('N14-08_05', '/scratch/kk4ze/data_svs/valid/Normal/N14-08_05.svs'), ('N16-37_05', '/scratch/kk4ze/data_svs/valid/Normal/N16-37_05.svs'), ('N16-42_06', '/scratch/kk4ze/data_svs/valid/Normal/N16-42_06.svs'), ('N14-15_06', '/scratch/kk4ze/data_svs/valid/Normal/N14-15_06.svs'), ('N14-02_01', '/scratch/kk4ze/data_svs/valid/Normal/N14-02_01.svs'), ('N14-01_02', '/scratch/kk4ze/data_svs/valid/Normal/N14-01_02.svs'), ('N15-32_01', '/scratch/kk4ze/data_svs/valid/Normal/N15-32_01.svs'), ('N16-43_02', '/scratch/kk4ze/data_svs/valid/Normal/N16-43_02.svs'), ('N16-42_04', '/scratch/kk4ze/data_svs/valid/Normal/N16-42_04.svs'), ('N14-02_02', '/scratch/kk4ze/data_svs/valid/Normal/N14-02_02.svs'), ('C15-73_04', '/scratch/kk4ze/data_svs/train/Celiac/C15-73_04.svs'), ('C06-29_02', '/scratch/kk4ze/data_svs/train/Celiac/C06-29_02.svs'), ('C03-07_03', '/scratch/kk4ze/data_svs/train/Celiac/C03-07_03.svs'), ('C14-70_02', '/scratch/kk4ze/data_svs/train/Celiac/C14-70_02.svs'), ('C12-61_02', '/scratch/kk4ze/data_svs/train/Celiac/C12-61_02.svs'), ('C14-70_05', '/scratch/kk4ze/data_svs/train/Celiac/C14-70_05.svs'), ('C15-74_02', '/scratch/kk4ze/data_svs/train/Celiac/C15-74_02.svs'), ('C03-07_02', '/scratch/kk4ze/data_svs/train/Celiac/C03-07_02.svs'), ('C03-10_06', '/scratch/kk4ze/data_svs/train/Celiac/C03-10_06.svs'), ('C16-77_05', '/scratch/kk4ze/data_svs/train/Celiac/C16-77_05.svs'), ('C16-77_01', '/scratch/kk4ze/data_svs/train/Celiac/C16-77_01.svs'), ('C11-57_01', '/scratch/kk4ze/data_svs/train/Celiac/C11-57_01.svs'), ('C13-67_04', '/scratch/kk4ze/data_svs/train/Celiac/C13-67_04.svs'), ('C11-56_01', '/scratch/kk4ze/data_svs/train/Celiac/C11-56_01.svs'), ('C16-77_04', '/scratch/kk4ze/data_svs/train/Celiac/C16-77_04.svs'), ('C12-62_00', '/scratch/kk4ze/data_svs/train/Celiac/C12-62_00.svs'), ('C06-32_02', '/scratch/kk4ze/data_svs/train/Celiac/C06-32_02.svs'), ('C07-37_04', '/scratch/kk4ze/data_svs/train/Celiac/C07-37_04.svs'), ('C17-81_05', '/scratch/kk4ze/data_svs/train/Celiac/C17-81_05.svs'), ('C08-41_02', '/scratch/kk4ze/data_svs/train/Celiac/C08-41_02.svs'), ('C11-55_02', '/scratch/kk4ze/data_svs/train/Celiac/C11-55_02.svs'), ('C17-81_02', '/scratch/kk4ze/data_svs/train/Celiac/C17-81_02.svs'), ('C03-10_02', '/scratch/kk4ze/data_svs/train/Celiac/C03-10_02.svs'), ('C17-81_01', '/scratch/kk4ze/data_svs/train/Celiac/C17-81_01.svs'), ('C09-46_02', '/scratch/kk4ze/data_svs/train/Celiac/C09-46_02.svs'), ('C11-57_03', '/scratch/kk4ze/data_svs/train/Celiac/C11-57_03.svs'), ('C10-49_03', '/scratch/kk4ze/data_svs/train/Celiac/C10-49_03.svs'), ('C08-41_01', '/scratch/kk4ze/data_svs/train/Celiac/C08-41_01.svs'), ('C07-35_07', '/scratch/kk4ze/data_svs/train/Celiac/C07-35_07.svs'), ('C10-51_01', '/scratch/kk4ze/data_svs/train/Celiac/C10-51_01.svs'), ('C07-40_03', '/scratch/kk4ze/data_svs/train/Celiac/C07-40_03.svs'), ('C10-50_01', '/scratch/kk4ze/data_svs/train/Celiac/C10-50_01.svs'), ('C06-33_01', '/scratch/kk4ze/data_svs/train/Celiac/C06-33_01.svs'), ('C11-54_04', '/scratch/kk4ze/data_svs/train/Celiac/C11-54_04.svs'), ('C04-19_01', '/scratch/kk4ze/data_svs/train/Celiac/C04-19_01.svs'), ('C07-35_04', '/scratch/kk4ze/data_svs/train/Celiac/C07-35_04.svs'), ('C10-48_05', '/scratch/kk4ze/data_svs/train/Celiac/C10-48_05.svs'), ('C12-64_01b', '/scratch/kk4ze/data_svs/train/Celiac/C12-64_01b.svs'), ('C11-57_04', '/scratch/kk4ze/data_svs/train/Celiac/C11-57_04.svs'), ('C15-75_02', '/scratch/kk4ze/data_svs/train/Celiac/C15-75_02.svs'), ('C07-37_07', '/scratch/kk4ze/data_svs/train/Celiac/C07-37_07.svs'), ('C06-28_03', '/scratch/kk4ze/data_svs/train/Celiac/C06-28_03.svs'), ('C04-21_02', '/scratch/kk4ze/data_svs/train/Celiac/C04-21_02.svs'), ('C07-34_03', '/scratch/kk4ze/data_svs/train/Celiac/C07-34_03.svs'), ('C04-23_02', '/scratch/kk4ze/data_svs/train/Celiac/C04-23_02.svs'), ('C03-12_04', '/scratch/kk4ze/data_svs/train/Celiac/C03-12_04.svs'), ('C04-21_03', '/scratch/kk4ze/data_svs/train/Celiac/C04-21_03.svs'), ('C14-70_01', '/scratch/kk4ze/data_svs/train/Celiac/C14-70_01.svs'), ('C06-33_04', '/scratch/kk4ze/data_svs/train/Celiac/C06-33_04.svs'), ('C05-26_02', '/scratch/kk4ze/data_svs/train/Celiac/C05-26_02.svs'), ('C07-35_08', '/scratch/kk4ze/data_svs/train/Celiac/C07-35_08.svs'), ('C15-75_01', '/scratch/kk4ze/data_svs/train/Celiac/C15-75_01.svs'), ('C07-35_02', '/scratch/kk4ze/data_svs/train/Celiac/C07-35_02.svs'), ('C10-51_02', '/scratch/kk4ze/data_svs/train/Celiac/C10-51_02.svs'), ('C11-57_02', '/scratch/kk4ze/data_svs/train/Celiac/C11-57_02.svs'), ('C13-68_06', '/scratch/kk4ze/data_svs/train/Celiac/C13-68_06.svs'), ('C04-19_02', '/scratch/kk4ze/data_svs/train/Celiac/C04-19_02.svs'), ('C03-06_02', '/scratch/kk4ze/data_svs/train/Celiac/C03-06_02.svs'), ('C04-17_03', '/scratch/kk4ze/data_svs/train/Celiac/C04-17_03.svs'), ('C03-05_05', '/scratch/kk4ze/data_svs/train/Celiac/C03-05_05.svs'), ('C04-18_03', '/scratch/kk4ze/data_svs/train/Celiac/C04-18_03.svs'), ('C06-33_07', '/scratch/kk4ze/data_svs/train/Celiac/C06-33_07.svs'), ('C15-73_01', '/scratch/kk4ze/data_svs/train/Celiac/C15-73_01.svs'), ('C10-49_01', '/scratch/kk4ze/data_svs/train/Celiac/C10-49_01.svs'), ('C06-32_04', '/scratch/kk4ze/data_svs/train/Celiac/C06-32_04.svs'), ('C07-37_02', '/scratch/kk4ze/data_svs/train/Celiac/C07-37_02.svs'), ('C15-73_03', '/scratch/kk4ze/data_svs/train/Celiac/C15-73_03.svs'), ('C10-52_05', '/scratch/kk4ze/data_svs/train/Celiac/C10-52_05.svs'), ('C03-05_03', '/scratch/kk4ze/data_svs/train/Celiac/C03-05_03.svs'), ('C06-28_06', '/scratch/kk4ze/data_svs/train/Celiac/C06-28_06.svs'), ('C04-15_04', '/scratch/kk4ze/data_svs/train/Celiac/C04-15_04.svs'), ('C03-12_03', '/scratch/kk4ze/data_svs/train/Celiac/C03-12_03.svs'), ('C12-59_00', '/scratch/kk4ze/data_svs/train/Celiac/C12-59_00.svs'), ('C17-83_05', '/scratch/kk4ze/data_svs/train/Celiac/C17-83_05.svs'), ('C12-60_04', '/scratch/kk4ze/data_svs/train/Celiac/C12-60_04.svs'), ('C06-29_03', '/scratch/kk4ze/data_svs/train/Celiac/C06-29_03.svs'), ('C07-35_01', '/scratch/kk4ze/data_svs/train/Celiac/C07-35_01.svs'), ('C13-66_02', '/scratch/kk4ze/data_svs/train/Celiac/C13-66_02.svs'), ('C13-67_01', '/scratch/kk4ze/data_svs/train/Celiac/C13-67_01.svs'), ('C13-67_03', '/scratch/kk4ze/data_svs/train/Celiac/C13-67_03.svs'), ('C15-74_05', '/scratch/kk4ze/data_svs/train/Celiac/C15-74_05.svs'), ('C14-71_05', '/scratch/kk4ze/data_svs/train/Celiac/C14-71_05.svs'), ('C12-60_03', '/scratch/kk4ze/data_svs/train/Celiac/C12-60_03.svs'), ('C04-17_02', '/scratch/kk4ze/data_svs/train/Celiac/C04-17_02.svs'), ('C04-24_00', '/scratch/kk4ze/data_svs/train/Celiac/C04-24_00.svs'), ('C15-74_01', '/scratch/kk4ze/data_svs/train/Celiac/C15-74_01.svs'), ('C13-65_03', '/scratch/kk4ze/data_svs/train/Celiac/C13-65_03.svs'), ('C16-79_02', '/scratch/kk4ze/data_svs/train/Celiac/C16-79_02.svs'), ('C07-35_03', '/scratch/kk4ze/data_svs/train/Celiac/C07-35_03.svs'), ('C16-79_03', '/scratch/kk4ze/data_svs/train/Celiac/C16-79_03.svs'), ('C06-28_02', '/scratch/kk4ze/data_svs/train/Celiac/C06-28_02.svs'), ('C04-15_01', '/scratch/kk4ze/data_svs/train/Celiac/C04-15_01.svs'), ('C13-68_01', '/scratch/kk4ze/data_svs/train/Celiac/C13-68_01.svs'), ('C12-61_01', '/scratch/kk4ze/data_svs/train/Celiac/C12-61_01.svs'), ('C12-63_01', '/scratch/kk4ze/data_svs/train/Celiac/C12-63_01.svs'), ('C04-23_04', '/scratch/kk4ze/data_svs/train/Celiac/C04-23_04.svs'), ('C08-43_02', '/scratch/kk4ze/data_svs/train/Celiac/C08-43_02.svs'), ('C16-77_03', '/scratch/kk4ze/data_svs/train/Celiac/C16-77_03.svs'), ('C07-37_03', '/scratch/kk4ze/data_svs/train/Celiac/C07-37_03.svs'), ('C06-30_01', '/scratch/kk4ze/data_svs/train/Celiac/C06-30_01.svs'), ('C14-69_00', '/scratch/kk4ze/data_svs/train/Celiac/C14-69_00.svs'), ('C15-74_04', '/scratch/kk4ze/data_svs/train/Celiac/C15-74_04.svs'), ('C13-66_01', '/scratch/kk4ze/data_svs/train/Celiac/C13-66_01.svs'), ('C06-32_05', '/scratch/kk4ze/data_svs/train/Celiac/C06-32_05.svs'), ('C06-29_01', '/scratch/kk4ze/data_svs/train/Celiac/C06-29_01.svs'), ('C03-13_01', '/scratch/kk4ze/data_svs/train/Celiac/C03-13_01.svs'), ('C12-58_03', '/scratch/kk4ze/data_svs/train/Celiac/C12-58_03.svs'), ('C03-10_07', '/scratch/kk4ze/data_svs/train/Celiac/C03-10_07.svs'), ('C06-31_02', '/scratch/kk4ze/data_svs/train/Celiac/C06-31_02.svs'), ('C17-83_01', '/scratch/kk4ze/data_svs/train/Celiac/C17-83_01.svs'), ('C16-79_04', '/scratch/kk4ze/data_svs/train/Celiac/C16-79_04.svs'), ('C10-50_02', '/scratch/kk4ze/data_svs/train/Celiac/C10-50_02.svs'), ('C14-71_07', '/scratch/kk4ze/data_svs/train/Celiac/C14-71_07.svs'), ('C06-30_02', '/scratch/kk4ze/data_svs/train/Celiac/C06-30_02.svs'), ('C06-28_05', '/scratch/kk4ze/data_svs/train/Celiac/C06-28_05.svs'), ('C03-09_02', '/scratch/kk4ze/data_svs/train/Celiac/C03-09_02.svs'), ('C14-71_04', '/scratch/kk4ze/data_svs/train/Celiac/C14-71_04.svs'), ('C15-74_03', '/scratch/kk4ze/data_svs/train/Celiac/C15-74_03.svs'), ('C14-71_02', '/scratch/kk4ze/data_svs/train/Celiac/C14-71_02.svs'), ('C11-54_03', '/scratch/kk4ze/data_svs/train/Celiac/C11-54_03.svs'), ('C03-05_06', '/scratch/kk4ze/data_svs/train/Celiac/C03-05_06.svs'), ('C10-52_02', '/scratch/kk4ze/data_svs/train/Celiac/C10-52_02.svs'), ('C03-10_01', '/scratch/kk4ze/data_svs/train/Celiac/C03-10_01.svs'), ('C11-54_05', '/scratch/kk4ze/data_svs/train/Celiac/C11-54_05.svs'), ('C08-43_01', '/scratch/kk4ze/data_svs/train/Celiac/C08-43_01.svs'), ('C13-68_02', '/scratch/kk4ze/data_svs/train/Celiac/C13-68_02.svs'), ('C15-75_04', '/scratch/kk4ze/data_svs/train/Celiac/C15-75_04.svs'), ('C12-64_02', '/scratch/kk4ze/data_svs/train/Celiac/C12-64_02.svs'), ('C10-52_01', '/scratch/kk4ze/data_svs/train/Celiac/C10-52_01.svs'), ('C12-60_01', '/scratch/kk4ze/data_svs/train/Celiac/C12-60_01.svs'), ('C10-49_04', '/scratch/kk4ze/data_svs/train/Celiac/C10-49_04.svs'), ('C11-56_02', '/scratch/kk4ze/data_svs/train/Celiac/C11-56_02.svs'), ('C10-51_03', '/scratch/kk4ze/data_svs/train/Celiac/C10-51_03.svs'), ('C11-54_02', '/scratch/kk4ze/data_svs/train/Celiac/C11-54_02.svs'), ('C04-18_02', '/scratch/kk4ze/data_svs/train/Celiac/C04-18_02.svs'), ('C04-15_03', '/scratch/kk4ze/data_svs/train/Celiac/C04-15_03.svs'), ('C13-65_01', '/scratch/kk4ze/data_svs/train/Celiac/C13-65_01.svs'), ('C16-76_03', '/scratch/kk4ze/data_svs/train/Celiac/C16-76_03.svs'), ('C04-15_02', '/scratch/kk4ze/data_svs/train/Celiac/C04-15_02.svs'), ('C07-40_04', '/scratch/kk4ze/data_svs/train/Celiac/C07-40_04.svs'), ('C10-52_04', '/scratch/kk4ze/data_svs/train/Celiac/C10-52_04.svs'), ('C12-60_02', '/scratch/kk4ze/data_svs/train/Celiac/C12-60_02.svs'), ('C05-26_03', '/scratch/kk4ze/data_svs/train/Celiac/C05-26_03.svs'), ('C07-34_05', '/scratch/kk4ze/data_svs/train/Celiac/C07-34_05.svs'), ('C06-32_01', '/scratch/kk4ze/data_svs/train/Celiac/C06-32_01.svs'), ('C06-27_04', '/scratch/kk4ze/data_svs/train/Celiac/C06-27_04.svs'), ('C17-83_03', '/scratch/kk4ze/data_svs/train/Celiac/C17-83_03.svs'), ('C07-37_01', '/scratch/kk4ze/data_svs/train/Celiac/C07-37_01.svs'), ('C17-81_03', '/scratch/kk4ze/data_svs/train/Celiac/C17-81_03.svs'), ('C03-12_02', '/scratch/kk4ze/data_svs/train/Celiac/C03-12_02.svs'), ('C13-66_03', '/scratch/kk4ze/data_svs/train/Celiac/C13-66_03.svs'), ('C05-26_01', '/scratch/kk4ze/data_svs/train/Celiac/C05-26_01.svs'), ('C07-34_01', '/scratch/kk4ze/data_svs/train/Celiac/C07-34_01.svs'), ('C03-06_01', '/scratch/kk4ze/data_svs/train/Celiac/C03-06_01.svs'), ('C12-63_04', '/scratch/kk4ze/data_svs/train/Celiac/C12-63_04.svs'), ('C07-40_02', '/scratch/kk4ze/data_svs/train/Celiac/C07-40_02.svs'), ('C10-52_03', '/scratch/kk4ze/data_svs/train/Celiac/C10-52_03.svs'), ('C15-73_02', '/scratch/kk4ze/data_svs/train/Celiac/C15-73_02.svs'), ('C06-27_03', '/scratch/kk4ze/data_svs/train/Celiac/C06-27_03.svs'), ('C16-76_01', '/scratch/kk4ze/data_svs/train/Celiac/C16-76_01.svs'), ('C14-70_04', '/scratch/kk4ze/data_svs/train/Celiac/C14-70_04.svs'), ('C06-27_02', '/scratch/kk4ze/data_svs/train/Celiac/C06-27_02.svs'), ('C11-54_01', '/scratch/kk4ze/data_svs/train/Celiac/C11-54_01.svs'), ('C14-70_03', '/scratch/kk4ze/data_svs/train/Celiac/C14-70_03.svs'), ('C06-28_04', '/scratch/kk4ze/data_svs/train/Celiac/C06-28_04.svs'), ('C16-76_02', '/scratch/kk4ze/data_svs/train/Celiac/C16-76_02.svs'), ('C04-18_01', '/scratch/kk4ze/data_svs/train/Celiac/C04-18_01.svs'), ('C14-71_01', '/scratch/kk4ze/data_svs/train/Celiac/C14-71_01.svs'), ('C04-17_01', '/scratch/kk4ze/data_svs/train/Celiac/C04-17_01.svs'), ('C07-40_01', '/scratch/kk4ze/data_svs/train/Celiac/C07-40_01.svs'), ('C12-61_03', '/scratch/kk4ze/data_svs/train/Celiac/C12-61_03.svs'), ('C13-68_05', '/scratch/kk4ze/data_svs/train/Celiac/C13-68_05.svs'), ('C03-08_02', '/scratch/kk4ze/data_svs/train/Celiac/C03-08_02.svs'), ('C17-83_02', '/scratch/kk4ze/data_svs/train/Celiac/C17-83_02.svs'), ('C03-10_03', '/scratch/kk4ze/data_svs/train/Celiac/C03-10_03.svs'), ('C04-18_04', '/scratch/kk4ze/data_svs/train/Celiac/C04-18_04.svs'), ('C12-64_01a', '/scratch/kk4ze/data_svs/train/Celiac/C12-64_01a.svs'), ('C10-48_02', '/scratch/kk4ze/data_svs/train/Celiac/C10-48_02.svs'), ('C03-05_01', '/scratch/kk4ze/data_svs/train/Celiac/C03-05_01.svs'), ('C06-27_01', '/scratch/kk4ze/data_svs/train/Celiac/C06-27_01.svs'), ('C15-75_03', '/scratch/kk4ze/data_svs/train/Celiac/C15-75_03.svs'), ('C13-68_03', '/scratch/kk4ze/data_svs/train/Celiac/C13-68_03.svs'), ('C06-33_05', '/scratch/kk4ze/data_svs/train/Celiac/C06-33_05.svs'), ('C09-46_01', '/scratch/kk4ze/data_svs/train/Celiac/C09-46_01.svs'), ('C17-83_04', '/scratch/kk4ze/data_svs/train/Celiac/C17-83_04.svs'), ('C12-61_04', '/scratch/kk4ze/data_svs/train/Celiac/C12-61_04.svs'), ('C13-65_04', '/scratch/kk4ze/data_svs/train/Celiac/C13-65_04.svs'), ('C13-67_02', '/scratch/kk4ze/data_svs/train/Celiac/C13-67_02.svs'), ('C04-23_03', '/scratch/kk4ze/data_svs/train/Celiac/C04-23_03.svs'), ('C07-35_06', '/scratch/kk4ze/data_svs/train/Celiac/C07-35_06.svs'), ('C04-23_01', '/scratch/kk4ze/data_svs/train/Celiac/C04-23_01.svs'), ('C06-33_06', '/scratch/kk4ze/data_svs/train/Celiac/C06-33_06.svs'), ('C16-77_02', '/scratch/kk4ze/data_svs/train/Celiac/C16-77_02.svs'), ('C10-48_01', '/scratch/kk4ze/data_svs/train/Celiac/C10-48_01.svs'), ('C14-71_03', '/scratch/kk4ze/data_svs/train/Celiac/C14-71_03.svs'), ('C07-35_05', '/scratch/kk4ze/data_svs/train/Celiac/C07-35_05.svs'), ('77', '/scratch/kk4ze/data_svs/train/EE/77.svs'), ('130375_6727_001', '/scratch/kk4ze/data_svs/train/EE/130375_6727_001.svs'), ('130366_6717_001', '/scratch/kk4ze/data_svs/train/EE/130366_6717_001.svs'), ('51', '/scratch/kk4ze/data_svs/train/EE/51.svs'), ('22', '/scratch/kk4ze/data_svs/train/EE/22.svs'), ('130379_6731_001', '/scratch/kk4ze/data_svs/train/EE/130379_6731_001.svs'), ('130378_6730_001', '/scratch/kk4ze/data_svs/train/EE/130378_6730_001.svs'), ('130373_6725_001', '/scratch/kk4ze/data_svs/train/EE/130373_6725_001.svs'), ('108', '/scratch/kk4ze/data_svs/train/EE/108.svs'), ('17', '/scratch/kk4ze/data_svs/train/EE/17.svs'), ('130380_6726_001', '/scratch/kk4ze/data_svs/train/EE/130380_6726_001.svs'), ('42', '/scratch/kk4ze/data_svs/train/EE/42.svs'), ('50', '/scratch/kk4ze/data_svs/train/EE/50.svs'), ('85', '/scratch/kk4ze/data_svs/train/EE/85.svs'), ('53', '/scratch/kk4ze/data_svs/train/EE/53.svs'), ('16_001', '/scratch/kk4ze/data_svs/train/EE/16_001.svs'), ('130372_6724_001', '/scratch/kk4ze/data_svs/train/EE/130372_6724_001.svs'), ('14_001', '/scratch/kk4ze/data_svs/train/EE/14_001.svs'), ('8', '/scratch/kk4ze/data_svs/train/EE/8.svs'), ('130377_6729_001', '/scratch/kk4ze/data_svs/train/EE/130377_6729_001.svs'), ('84', '/scratch/kk4ze/data_svs/train/EE/84.svs'), ('130368_6720_001', '/scratch/kk4ze/data_svs/train/EE/130368_6720_001.svs'), ('11', '/scratch/kk4ze/data_svs/train/EE/11.svs'), ('14_002', '/scratch/kk4ze/data_svs/train/EE/14_002.svs'), ('35', '/scratch/kk4ze/data_svs/train/EE/35.svs'), ('116', '/scratch/kk4ze/data_svs/train/EE/116.svs'), ('130381_6723_001', '/scratch/kk4ze/data_svs/train/EE/130381_6723_001.svs'), ('130364_6715_001', '/scratch/kk4ze/data_svs/train/EE/130364_6715_001.svs'), ('81', '/scratch/kk4ze/data_svs/train/EE/81.svs'), ('58', '/scratch/kk4ze/data_svs/train/EE/58.svs'), ('97', '/scratch/kk4ze/data_svs/train/EE/97.svs'), ('20', '/scratch/kk4ze/data_svs/train/EE/20.svs'), ('130370_6722_001', '/scratch/kk4ze/data_svs/train/EE/130370_6722_001.svs'), ('130376_6728_001', '/scratch/kk4ze/data_svs/train/EE/130376_6728_001.svs'), ('1', '/scratch/kk4ze/data_svs/train/EE/1.svs'), ('130373_6725_002', '/scratch/kk4ze/data_svs/train/EE/130373_6725_002.svs'), ('59', '/scratch/kk4ze/data_svs/train/EE/59.svs'), ('45', '/scratch/kk4ze/data_svs/train/EE/45.svs'), ('130378_6730_002', '/scratch/kk4ze/data_svs/train/EE/130378_6730_002.svs'), ('29', '/scratch/kk4ze/data_svs/train/EE/29.svs'), ('130379_6731_002', '/scratch/kk4ze/data_svs/train/EE/130379_6731_002.svs'), ('23', '/scratch/kk4ze/data_svs/train/EE/23.svs'), ('16_002', '/scratch/kk4ze/data_svs/train/EE/16_002.svs'), ('120', '/scratch/kk4ze/data_svs/train/EE/120.svs'), ('73', '/scratch/kk4ze/data_svs/train/EE/73.svs'), ('N15-21_03', '/scratch/kk4ze/data_svs/train/Normal/N15-21_03.svs'), ('N14-17_01', '/scratch/kk4ze/data_svs/train/Normal/N14-17_01.svs'), ('N17-58_02', '/scratch/kk4ze/data_svs/train/Normal/N17-58_02.svs'), ('N14-15_05', '/scratch/kk4ze/data_svs/train/Normal/N14-15_05.svs'), ('N17-50_01', '/scratch/kk4ze/data_svs/train/Normal/N17-50_01.svs'), ('N14-12_02', '/scratch/kk4ze/data_svs/train/Normal/N14-12_02.svs'), ('N15-33_04', '/scratch/kk4ze/data_svs/train/Normal/N15-33_04.svs'), ('N15-33_01', '/scratch/kk4ze/data_svs/train/Normal/N15-33_01.svs'), ('N14-08_01', '/scratch/kk4ze/data_svs/train/Normal/N14-08_01.svs'), ('N15-30_01', '/scratch/kk4ze/data_svs/train/Normal/N15-30_01.svs'), ('N14-07_05', '/scratch/kk4ze/data_svs/train/Normal/N14-07_05.svs'), ('N17-58_01', '/scratch/kk4ze/data_svs/train/Normal/N17-58_01.svs'), ('N14-02_03', '/scratch/kk4ze/data_svs/train/Normal/N14-02_03.svs'), ('N14-16_00', '/scratch/kk4ze/data_svs/train/Normal/N14-16_00.svs'), ('N16-44_01', '/scratch/kk4ze/data_svs/train/Normal/N16-44_01.svs'), ('N16-48_04', '/scratch/kk4ze/data_svs/train/Normal/N16-48_04.svs'), ('N15-22_01', '/scratch/kk4ze/data_svs/train/Normal/N15-22_01.svs'), ('N17-62_03', '/scratch/kk4ze/data_svs/train/Normal/N17-62_03.svs'), ('N15-28_01', '/scratch/kk4ze/data_svs/train/Normal/N15-28_01.svs'), ('N14-13_01', '/scratch/kk4ze/data_svs/train/Normal/N14-13_01.svs'), ('N15-29_00', '/scratch/kk4ze/data_svs/train/Normal/N15-29_00.svs'), ('N17-61_03', '/scratch/kk4ze/data_svs/train/Normal/N17-61_03.svs'), ('N15-25_01', '/scratch/kk4ze/data_svs/train/Normal/N15-25_01.svs'), ('N16-37_03', '/scratch/kk4ze/data_svs/train/Normal/N16-37_03.svs'), ('N14-07_01', '/scratch/kk4ze/data_svs/train/Normal/N14-07_01.svs'), ('N16-40_02', '/scratch/kk4ze/data_svs/train/Normal/N16-40_02.svs'), ('N14-10_02', '/scratch/kk4ze/data_svs/train/Normal/N14-10_02.svs'), ('N17-52_03', '/scratch/kk4ze/data_svs/train/Normal/N17-52_03.svs'), ('N16-49_01', '/scratch/kk4ze/data_svs/train/Normal/N16-49_01.svs'), ('N15-27_03', '/scratch/kk4ze/data_svs/train/Normal/N15-27_03.svs'), ('N17-50_02', '/scratch/kk4ze/data_svs/train/Normal/N17-50_02.svs'), ('N17-64_01', '/scratch/kk4ze/data_svs/train/Normal/N17-64_01.svs'), ('N14-19_01', '/scratch/kk4ze/data_svs/train/Normal/N14-19_01.svs'), ('N16-42_03', '/scratch/kk4ze/data_svs/train/Normal/N16-42_03.svs'), ('N16-37_01', '/scratch/kk4ze/data_svs/train/Normal/N16-37_01.svs'), ('N15-33_03', '/scratch/kk4ze/data_svs/train/Normal/N15-33_03.svs'), ('N14-14_01', '/scratch/kk4ze/data_svs/train/Normal/N14-14_01.svs'), ('N16-48_01', '/scratch/kk4ze/data_svs/train/Normal/N16-48_01.svs'), ('N15-34_02', '/scratch/kk4ze/data_svs/train/Normal/N15-34_02.svs'), ('N16-48_05', '/scratch/kk4ze/data_svs/train/Normal/N16-48_05.svs'), ('N17-52_02', '/scratch/kk4ze/data_svs/train/Normal/N17-52_02.svs'), ('N16-47_01', '/scratch/kk4ze/data_svs/train/Normal/N16-47_01.svs'), ('N16-47_02', '/scratch/kk4ze/data_svs/train/Normal/N16-47_02.svs'), ('N16-37_04', '/scratch/kk4ze/data_svs/train/Normal/N16-37_04.svs'), ('N15-32_02', '/scratch/kk4ze/data_svs/train/Normal/N15-32_02.svs'), ('N14-15_01', '/scratch/kk4ze/data_svs/train/Normal/N14-15_01.svs'), ('N14-02_06', '/scratch/kk4ze/data_svs/train/Normal/N14-02_06.svs'), ('N16-48_03', '/scratch/kk4ze/data_svs/train/Normal/N16-48_03.svs'), ('N14-03_03', '/scratch/kk4ze/data_svs/train/Normal/N14-03_03.svs'), ('N14-07_02', '/scratch/kk4ze/data_svs/train/Normal/N14-07_02.svs'), ('N14-03_01', '/scratch/kk4ze/data_svs/train/Normal/N14-03_01.svs'), ('N14-07_04', '/scratch/kk4ze/data_svs/train/Normal/N14-07_04.svs'), ('N15-22_02', '/scratch/kk4ze/data_svs/train/Normal/N15-22_02.svs'), ('N17-60_01', '/scratch/kk4ze/data_svs/train/Normal/N17-60_01.svs'), ('N15-28_02', '/scratch/kk4ze/data_svs/train/Normal/N15-28_02.svs'), ('N17-63_02', '/scratch/kk4ze/data_svs/train/Normal/N17-63_02.svs'), ('N14-04_01', '/scratch/kk4ze/data_svs/train/Normal/N14-04_01.svs'), ('N16-46_03', '/scratch/kk4ze/data_svs/train/Normal/N16-46_03.svs'), ('N15-26_01', '/scratch/kk4ze/data_svs/train/Normal/N15-26_01.svs'), ('N14-17_04', '/scratch/kk4ze/data_svs/train/Normal/N14-17_04.svs'), ('N17-58_04', '/scratch/kk4ze/data_svs/train/Normal/N17-58_04.svs'), ('N17-64_02', '/scratch/kk4ze/data_svs/train/Normal/N17-64_02.svs'), ('N14-02_05', '/scratch/kk4ze/data_svs/train/Normal/N14-02_05.svs'), ('N15-21_05', '/scratch/kk4ze/data_svs/train/Normal/N15-21_05.svs'), ('N14-15_04', '/scratch/kk4ze/data_svs/train/Normal/N14-15_04.svs'), ('N14-15_03', '/scratch/kk4ze/data_svs/train/Normal/N14-15_03.svs'), ('N16-39_00', '/scratch/kk4ze/data_svs/train/Normal/N16-39_00.svs'), ('N15-25_02', '/scratch/kk4ze/data_svs/train/Normal/N15-25_02.svs'), ('N17-52_01', '/scratch/kk4ze/data_svs/train/Normal/N17-52_01.svs'), ('N17-55_00', '/scratch/kk4ze/data_svs/train/Normal/N17-55_00.svs'), ('N16-49_03', '/scratch/kk4ze/data_svs/train/Normal/N16-49_03.svs'), ('N14-04_04', '/scratch/kk4ze/data_svs/train/Normal/N14-04_04.svs'), ('N14-09_01', '/scratch/kk4ze/data_svs/train/Normal/N14-09_01.svs'), ('N16-38_01', '/scratch/kk4ze/data_svs/train/Normal/N16-38_01.svs'), ('N16-41_02', '/scratch/kk4ze/data_svs/train/Normal/N16-41_02.svs'), ('N14-12_05', '/scratch/kk4ze/data_svs/train/Normal/N14-12_05.svs'), ('N14-18_01', '/scratch/kk4ze/data_svs/train/Normal/N14-18_01.svs'), ('N14-01_03', '/scratch/kk4ze/data_svs/train/Normal/N14-01_03.svs'), ('N16-37_02', '/scratch/kk4ze/data_svs/train/Normal/N16-37_02.svs'), ('N14-08_04', '/scratch/kk4ze/data_svs/train/Normal/N14-08_04.svs'), ('N14-08_02', '/scratch/kk4ze/data_svs/train/Normal/N14-08_02.svs'), ('N17-58_03', '/scratch/kk4ze/data_svs/train/Normal/N17-58_03.svs'), ('N15-23_03', '/scratch/kk4ze/data_svs/train/Normal/N15-23_03.svs'), ('N16-40_01', '/scratch/kk4ze/data_svs/train/Normal/N16-40_01.svs'), ('N16-46_01', '/scratch/kk4ze/data_svs/train/Normal/N16-46_01.svs'), ('N15-26_02', '/scratch/kk4ze/data_svs/train/Normal/N15-26_02.svs'), ('N14-08_03', '/scratch/kk4ze/data_svs/train/Normal/N14-08_03.svs'), ('N14-09_02', '/scratch/kk4ze/data_svs/train/Normal/N14-09_02.svs'), ('N16-48_02', '/scratch/kk4ze/data_svs/train/Normal/N16-48_02.svs'), ('N15-27_04', '/scratch/kk4ze/data_svs/train/Normal/N15-27_04.svs'), ('N16-38_02', '/scratch/kk4ze/data_svs/train/Normal/N16-38_02.svs'), ('N16-42_02', '/scratch/kk4ze/data_svs/train/Normal/N16-42_02.svs'), ('N14-18_04', '/scratch/kk4ze/data_svs/train/Normal/N14-18_04.svs'), ('N15-30_03', '/scratch/kk4ze/data_svs/train/Normal/N15-30_03.svs'), ('N14-18_03', '/scratch/kk4ze/data_svs/train/Normal/N14-18_03.svs'), ('N17-63_01', '/scratch/kk4ze/data_svs/train/Normal/N17-63_01.svs'), ('N15-35_02', '/scratch/kk4ze/data_svs/train/Normal/N15-35_02.svs'), ('N16-48_06', '/scratch/kk4ze/data_svs/train/Normal/N16-48_06.svs'), ('N17-53_00', '/scratch/kk4ze/data_svs/train/Normal/N17-53_00.svs'), ('N17-61_01', '/scratch/kk4ze/data_svs/train/Normal/N17-61_01.svs'), ('N15-27_01', '/scratch/kk4ze/data_svs/train/Normal/N15-27_01.svs'), ('N14-06_02', '/scratch/kk4ze/data_svs/train/Normal/N14-06_02.svs'), ('N14-11_00', '/scratch/kk4ze/data_svs/train/Normal/N14-11_00.svs'), ('N14-02_04', '/scratch/kk4ze/data_svs/train/Normal/N14-02_04.svs'), ('N16-36_02', '/scratch/kk4ze/data_svs/train/Normal/N16-36_02.svs'), ('N16-36_01', '/scratch/kk4ze/data_svs/train/Normal/N16-36_01.svs'), ('N16-46_02', '/scratch/kk4ze/data_svs/train/Normal/N16-46_02.svs'), ('N14-14_02', '/scratch/kk4ze/data_svs/train/Normal/N14-14_02.svs'), ('N15-35_03', '/scratch/kk4ze/data_svs/train/Normal/N15-35_03.svs'), ('N14-12_01', '/scratch/kk4ze/data_svs/train/Normal/N14-12_01.svs'), ('N15-27_02', '/scratch/kk4ze/data_svs/train/Normal/N15-27_02.svs'), ('N14-04_03', '/scratch/kk4ze/data_svs/train/Normal/N14-04_03.svs'), ('N15-21_04', '/scratch/kk4ze/data_svs/train/Normal/N15-21_04.svs'), ('N14-12_06', '/scratch/kk4ze/data_svs/train/Normal/N14-12_06.svs'), ('N17-60_02', '/scratch/kk4ze/data_svs/train/Normal/N17-60_02.svs'), ('N14-15_02', '/scratch/kk4ze/data_svs/train/Normal/N14-15_02.svs'), ('N14-17_02', '/scratch/kk4ze/data_svs/train/Normal/N14-17_02.svs'), ('N15-33_02', '/scratch/kk4ze/data_svs/train/Normal/N15-33_02.svs'), ('N14-07_03', '/scratch/kk4ze/data_svs/train/Normal/N14-07_03.svs'), ('N16-44_02', '/scratch/kk4ze/data_svs/train/Normal/N16-44_02.svs'), ('N15-21_02', '/scratch/kk4ze/data_svs/train/Normal/N15-21_02.svs'), ('N16-43_01', '/scratch/kk4ze/data_svs/train/Normal/N16-43_01.svs'), ('N17-52_04', '/scratch/kk4ze/data_svs/train/Normal/N17-52_04.svs'), ('N15-34_01', '/scratch/kk4ze/data_svs/train/Normal/N15-34_01.svs'), ('N17-59_00', '/scratch/kk4ze/data_svs/train/Normal/N17-59_00.svs'), ('N14-05_03', '/scratch/kk4ze/data_svs/train/Normal/N14-05_03.svs'), ('N17-51_00', '/scratch/kk4ze/data_svs/train/Normal/N17-51_00.svs'), ('N14-04_02', '/scratch/kk4ze/data_svs/train/Normal/N14-04_02.svs'), ('N15-31_02', '/scratch/kk4ze/data_svs/train/Normal/N15-31_02.svs'), ('N16-49_02', '/scratch/kk4ze/data_svs/train/Normal/N16-49_02.svs'), ('N14-12_04', '/scratch/kk4ze/data_svs/train/Normal/N14-12_04.svs'), ('N15-35_01', '/scratch/kk4ze/data_svs/train/Normal/N15-35_01.svs'), ('N14-14_03', '/scratch/kk4ze/data_svs/train/Normal/N14-14_03.svs'), ('N14-05_01', '/scratch/kk4ze/data_svs/train/Normal/N14-05_01.svs'), ('N15-31_01', '/scratch/kk4ze/data_svs/train/Normal/N15-31_01.svs'), ('N16-41_01', '/scratch/kk4ze/data_svs/train/Normal/N16-41_01.svs'), ('N17-52_05', '/scratch/kk4ze/data_svs/train/Normal/N17-52_05.svs')])"
      ]
     },
     "execution_count": 67,
     "metadata": {},
     "output_type": "execute_result"
    }
   ],
   "source": [
    "images.items()"
   ]
  },
  {
   "cell_type": "code",
   "execution_count": 59,
   "metadata": {
    "scrolled": true
   },
   "outputs": [
    {
     "data": {
      "text/plain": [
       "dict_keys(['/scratch/kk4ze/data_svs/valid/Celiac', '/scratch/kk4ze/data_svs/valid/EE', '/scratch/kk4ze/data_svs/valid/Normal', '/scratch/kk4ze/data_svs/train/Celiac', '/scratch/kk4ze/data_svs/train/EE', '/scratch/kk4ze/data_svs/train/Normal'])"
      ]
     },
     "execution_count": 59,
     "metadata": {},
     "output_type": "execute_result"
    }
   ],
   "source": [
    "images_by_folder.keys()"
   ]
  },
  {
   "cell_type": "code",
   "execution_count": 41,
   "metadata": {},
   "outputs": [],
   "source": [
    "path_change_map = {}\n",
    "\n",
    "for key in list(images_by_folder.keys()):\n",
    "    temp = key.replace('data_svs', 'data_lowres')\n",
    "    path_change_map[key] = temp"
   ]
  },
  {
   "cell_type": "code",
   "execution_count": 42,
   "metadata": {},
   "outputs": [
    {
     "data": {
      "text/plain": [
       "{'/scratch/kk4ze/data_svs/valid/Celiac': '/scratch/kk4ze/data_lowres/valid/Celiac',\n",
       " '/scratch/kk4ze/data_svs/valid/EE': '/scratch/kk4ze/data_lowres/valid/EE',\n",
       " '/scratch/kk4ze/data_svs/valid/Normal': '/scratch/kk4ze/data_lowres/valid/Normal',\n",
       " '/scratch/kk4ze/data_svs/train/Celiac': '/scratch/kk4ze/data_lowres/train/Celiac',\n",
       " '/scratch/kk4ze/data_svs/train/EE': '/scratch/kk4ze/data_lowres/train/EE',\n",
       " '/scratch/kk4ze/data_svs/train/Normal': '/scratch/kk4ze/data_lowres/train/Normal'}"
      ]
     },
     "execution_count": 42,
     "metadata": {},
     "output_type": "execute_result"
    }
   ],
   "source": [
    "path_change_map"
   ]
  },
  {
   "cell_type": "code",
   "execution_count": 73,
   "metadata": {},
   "outputs": [
    {
     "name": "stdout",
     "output_type": "stream",
     "text": [
      "/scratch/kk4ze/data_svs/valid/Celiac/['C06-30_04.svs', 'C06-30_03.svs', 'C03-12_01.svs', 'C10-48_03.svs', 'C06-33_03.svs', 'C06-33_02.svs', 'C12-63_02.svs', 'C03-05_04.svs', 'C04-19_03.svs', 'C17-81_04.svs', 'C13-65_02.svs', 'C04-17_05.svs', 'C10-47_01.svs', 'C06-31_01.svs', 'C07-37_05.svs', 'C14-71_06.svs', 'C03-10_04.svs', 'C12-58_02.svs', 'C13-68_04.svs', 'C04-17_04.svs', 'C07-34_02.svs', 'C12-58_01.svs', 'C17-80_01.svs', 'C07-34_04.svs', 'C16-79_01.svs', 'C04-21_01.svs', 'C03-08_01.svs', 'C12-63_03.svs', 'C14-70_06.svs', 'C10-49_02.svs', 'C03-05_02.svs', 'C03-13_02.svs', 'C03-07_01.svs', 'C03-10_05.svs', 'C03-09_01.svs', 'C06-28_01.svs', 'C07-37_06.svs', 'C06-32_03.svs', 'C10-47_02.svs', 'C10-48_04.svs', 'C11-56_03.svs', 'C11-55_01.svs', 'C17-80_02.svs']\n",
      "/scratch/kk4ze/data_svs/valid/EE/['34.svs', '130382_6718_001.svs', '87.svs', '130365_6716_001.svs', '130369_6721_001.svs', '72.svs', '111.svs', '79.svs']\n",
      "/scratch/kk4ze/data_svs/valid/Normal/['N15-23_02.svs', 'N14-13_02.svs', 'N16-41_03.svs', 'N15-23_01.svs', 'N15-30_02.svs', 'N14-06_03.svs', 'N14-03_02.svs', 'N14-01_01.svs', 'N14-17_03.svs', 'N15-21_01.svs', 'N17-56_00.svs', 'N16-45_00.svs', 'N17-62_01.svs', 'N14-05_02.svs', 'N14-10_01.svs', 'N16-42_01.svs', 'N14-18_05.svs', 'N17-62_02.svs', 'N17-65_00.svs', 'N16-42_05.svs', 'N14-12_03.svs', 'N14-19_02.svs', 'N15-22_03.svs', 'N14-18_02.svs', 'N14-09_03.svs', 'N14-06_01.svs', 'N17-61_02.svs', 'N14-08_05.svs', 'N16-37_05.svs', 'N16-42_06.svs', 'N14-15_06.svs', 'N14-02_01.svs', 'N14-01_02.svs', 'N15-32_01.svs', 'N16-43_02.svs', 'N16-42_04.svs', 'N14-02_02.svs']\n",
      "/scratch/kk4ze/data_svs/train/Celiac/['C15-73_04.svs', 'C06-29_02.svs', 'C03-07_03.svs', 'C14-70_02.svs', 'C12-61_02.svs', 'C14-70_05.svs', 'C15-74_02.svs', 'C03-07_02.svs', 'C03-10_06.svs', 'C16-77_05.svs', 'C16-77_01.svs', 'C11-57_01.svs', 'C13-67_04.svs', 'C11-56_01.svs', 'C16-77_04.svs', 'C12-62_00.svs', 'C06-32_02.svs', 'C07-37_04.svs', 'C17-81_05.svs', 'C08-41_02.svs', 'C11-55_02.svs', 'C17-81_02.svs', 'C03-10_02.svs', 'C17-81_01.svs', 'C09-46_02.svs', 'C11-57_03.svs', 'C10-49_03.svs', 'C08-41_01.svs', 'C07-35_07.svs', 'C10-51_01.svs', 'C07-40_03.svs', 'C10-50_01.svs', 'C06-33_01.svs', 'C11-54_04.svs', 'C04-19_01.svs', 'C07-35_04.svs', 'C10-48_05.svs', 'C12-64_01b.svs', 'C11-57_04.svs', 'C15-75_02.svs', 'C07-37_07.svs', 'C06-28_03.svs', 'C04-21_02.svs', 'C07-34_03.svs', 'C04-23_02.svs', 'C03-12_04.svs', 'C04-21_03.svs', 'C14-70_01.svs', 'C06-33_04.svs', 'C05-26_02.svs', 'C07-35_08.svs', 'C15-75_01.svs', 'C07-35_02.svs', 'C10-51_02.svs', 'C11-57_02.svs', 'C13-68_06.svs', 'C04-19_02.svs', 'C03-06_02.svs', 'C04-17_03.svs', 'C03-05_05.svs', 'C04-18_03.svs', 'C06-33_07.svs', 'C15-73_01.svs', 'C10-49_01.svs', 'C06-32_04.svs', 'C07-37_02.svs', 'C15-73_03.svs', 'C10-52_05.svs', 'C03-05_03.svs', 'C06-28_06.svs', 'C04-15_04.svs', 'C03-12_03.svs', 'C12-59_00.svs', 'C17-83_05.svs', 'C12-60_04.svs', 'C06-29_03.svs', 'C07-35_01.svs', 'C13-66_02.svs', 'C13-67_01.svs', 'C13-67_03.svs', 'C15-74_05.svs', 'C14-71_05.svs', 'C12-60_03.svs', 'C04-17_02.svs', 'C04-24_00.svs', 'C15-74_01.svs', 'C13-65_03.svs', 'C16-79_02.svs', 'C07-35_03.svs', 'C16-79_03.svs', 'C06-28_02.svs', 'C04-15_01.svs', 'C13-68_01.svs', 'C12-61_01.svs', 'C12-63_01.svs', 'C04-23_04.svs', 'C08-43_02.svs', 'C16-77_03.svs', 'C07-37_03.svs', 'C06-30_01.svs', 'C14-69_00.svs', 'C15-74_04.svs', 'C13-66_01.svs', 'C06-32_05.svs', 'C06-29_01.svs', 'C03-13_01.svs', 'C12-58_03.svs', 'C03-10_07.svs', 'C06-31_02.svs', 'C17-83_01.svs', 'C16-79_04.svs', 'C10-50_02.svs', 'C14-71_07.svs', 'C06-30_02.svs', 'C06-28_05.svs', 'C03-09_02.svs', 'C14-71_04.svs', 'C15-74_03.svs', 'C14-71_02.svs', 'C11-54_03.svs', 'C03-05_06.svs', 'C10-52_02.svs', 'C03-10_01.svs', 'C11-54_05.svs', 'C08-43_01.svs', 'C13-68_02.svs', 'C15-75_04.svs', 'C12-64_02.svs', 'C10-52_01.svs', 'C12-60_01.svs', 'C10-49_04.svs', 'C11-56_02.svs', 'C10-51_03.svs', 'C11-54_02.svs', 'C04-18_02.svs', 'C04-15_03.svs', 'C13-65_01.svs', 'C16-76_03.svs', 'C04-15_02.svs', 'C07-40_04.svs', 'C10-52_04.svs', 'C12-60_02.svs', 'C05-26_03.svs', 'C07-34_05.svs', 'C06-32_01.svs', 'C06-27_04.svs', 'C17-83_03.svs', 'C07-37_01.svs', 'C17-81_03.svs', 'C03-12_02.svs', 'C13-66_03.svs', 'C05-26_01.svs', 'C07-34_01.svs', 'C03-06_01.svs', 'C12-63_04.svs', 'C07-40_02.svs', 'C10-52_03.svs', 'C15-73_02.svs', 'C06-27_03.svs', 'C16-76_01.svs', 'C14-70_04.svs', 'C06-27_02.svs', 'C11-54_01.svs', 'C14-70_03.svs', 'C06-28_04.svs', 'C16-76_02.svs', 'C04-18_01.svs', 'C14-71_01.svs', 'C04-17_01.svs', 'C07-40_01.svs', 'C12-61_03.svs', 'C13-68_05.svs', 'C03-08_02.svs', 'C17-83_02.svs', 'C03-10_03.svs', 'C04-18_04.svs', 'C12-64_01a.svs', 'C10-48_02.svs', 'C03-05_01.svs', 'C06-27_01.svs', 'C15-75_03.svs', 'C13-68_03.svs', 'C06-33_05.svs', 'C09-46_01.svs', 'C17-83_04.svs', 'C12-61_04.svs', 'C13-65_04.svs', 'C13-67_02.svs', 'C04-23_03.svs', 'C07-35_06.svs', 'C04-23_01.svs', 'C06-33_06.svs', 'C16-77_02.svs', 'C10-48_01.svs', 'C14-71_03.svs', 'C07-35_05.svs']\n",
      "/scratch/kk4ze/data_svs/train/EE/['77.svs', '130375_6727_001.svs', '130366_6717_001.svs', '51.svs', '22.svs', '130379_6731_001.svs', '130378_6730_001.svs', '130373_6725_001.svs', '108.svs', '17.svs', '130380_6726_001.svs', '42.svs', '50.svs', '85.svs', '53.svs', '16_001.svs', '130372_6724_001.svs', '14_001.svs', '8.svs', '130377_6729_001.svs', '84.svs', '130368_6720_001.svs', '11.svs', '14_002.svs', '35.svs', '116.svs', '130381_6723_001.svs', '130364_6715_001.svs', '81.svs', '58.svs', '97.svs', '20.svs', '130370_6722_001.svs', '130376_6728_001.svs', '1.svs', '130373_6725_002.svs', '59.svs', '45.svs', '130378_6730_002.svs', '29.svs', '130379_6731_002.svs', '23.svs', '16_002.svs', '120.svs', '73.svs']\n",
      "/scratch/kk4ze/data_svs/train/Normal/['N15-21_03.svs', 'N14-17_01.svs', 'N17-58_02.svs', 'N14-15_05.svs', 'N17-50_01.svs', 'N14-12_02.svs', 'N15-33_04.svs', 'N15-33_01.svs', 'N14-08_01.svs', 'N15-30_01.svs', 'N14-07_05.svs', 'N17-58_01.svs', 'N14-02_03.svs', 'N14-16_00.svs', 'N16-44_01.svs', 'N16-48_04.svs', 'N15-22_01.svs', 'N17-62_03.svs', 'N15-28_01.svs', 'N14-13_01.svs', 'N15-29_00.svs', 'N17-61_03.svs', 'N15-25_01.svs', 'N16-37_03.svs', 'N14-07_01.svs', 'N16-40_02.svs', 'N14-10_02.svs', 'N17-52_03.svs', 'N16-49_01.svs', 'N15-27_03.svs', 'N17-50_02.svs', 'N17-64_01.svs', 'N14-19_01.svs', 'N16-42_03.svs', 'N16-37_01.svs', 'N15-33_03.svs', 'N14-14_01.svs', 'N16-48_01.svs', 'N15-34_02.svs', 'N16-48_05.svs', 'N17-52_02.svs', 'N16-47_01.svs', 'N16-47_02.svs', 'N16-37_04.svs', 'N15-32_02.svs', 'N14-15_01.svs', 'N14-02_06.svs', 'N16-48_03.svs', 'N14-03_03.svs', 'N14-07_02.svs', 'N14-03_01.svs', 'N14-07_04.svs', 'N15-22_02.svs', 'N17-60_01.svs', 'N15-28_02.svs', 'N17-63_02.svs', 'N14-04_01.svs', 'N16-46_03.svs', 'N15-26_01.svs', 'N14-17_04.svs', 'N17-58_04.svs', 'N17-64_02.svs', 'N14-02_05.svs', 'N15-21_05.svs', 'N14-15_04.svs', 'N14-15_03.svs', 'N16-39_00.svs', 'N15-25_02.svs', 'N17-52_01.svs', 'N17-55_00.svs', 'N16-49_03.svs', 'N14-04_04.svs', 'N14-09_01.svs', 'N16-38_01.svs', 'N16-41_02.svs', 'N14-12_05.svs', 'N14-18_01.svs', 'N14-01_03.svs', 'N16-37_02.svs', 'N14-08_04.svs', 'N14-08_02.svs', 'N17-58_03.svs', 'N15-23_03.svs', 'N16-40_01.svs', 'N16-46_01.svs', 'N15-26_02.svs', 'N14-08_03.svs', 'N14-09_02.svs', 'N16-48_02.svs', 'N15-27_04.svs', 'N16-38_02.svs', 'N16-42_02.svs', 'N14-18_04.svs', 'N15-30_03.svs', 'N14-18_03.svs', 'N17-63_01.svs', 'N15-35_02.svs', 'N16-48_06.svs', 'N17-53_00.svs', 'N17-61_01.svs', 'N15-27_01.svs', 'N14-06_02.svs', 'N14-11_00.svs', 'N14-02_04.svs', 'N16-36_02.svs', 'N16-36_01.svs', 'N16-46_02.svs', 'N14-14_02.svs', 'N15-35_03.svs', 'N14-12_01.svs', 'N15-27_02.svs', 'N14-04_03.svs', 'N15-21_04.svs', 'N14-12_06.svs', 'N17-60_02.svs', 'N14-15_02.svs', 'N14-17_02.svs', 'N15-33_02.svs', 'N14-07_03.svs', 'N16-44_02.svs', 'N15-21_02.svs', 'N16-43_01.svs', 'N17-52_04.svs', 'N15-34_01.svs', 'N17-59_00.svs', 'N14-05_03.svs', 'N17-51_00.svs', 'N14-04_02.svs', 'N15-31_02.svs', 'N16-49_02.svs', 'N14-12_04.svs', 'N15-35_01.svs', 'N14-14_03.svs', 'N14-05_01.svs', 'N15-31_01.svs', 'N16-41_01.svs', 'N17-52_05.svs']\n"
     ]
    }
   ],
   "source": [
    "for key,value in images_by_folder.items():\n",
    "        dir=str(key)+'/'+str(value)\n",
    "        print(dir)"
   ]
  },
  {
   "cell_type": "code",
   "execution_count": 30,
   "metadata": {},
   "outputs": [],
   "source": [
    "op_slide_img = open_slide('/scratch/kk4ze/Final/Celiac/C13-68_06.svs')"
   ]
  },
  {
   "cell_type": "code",
   "execution_count": 31,
   "metadata": {},
   "outputs": [
    {
     "data": {
      "text/plain": [
       "(3309, 7245)"
      ]
     },
     "execution_count": 31,
     "metadata": {},
     "output_type": "execute_result"
    }
   ],
   "source": [
    "op_slide_img.dimensions"
   ]
  },
  {
   "cell_type": "code",
   "execution_count": 29,
   "metadata": {},
   "outputs": [
    {
     "data": {
      "text/plain": [
       "3"
      ]
     },
     "execution_count": 29,
     "metadata": {},
     "output_type": "execute_result"
    }
   ],
   "source": [
    "y_break=math.ceil(op_slide_img.dimensions[1]/op_slide_img.dimensions[0])\n",
    "y_break"
   ]
  },
  {
   "cell_type": "code",
   "execution_count": 56,
   "metadata": {},
   "outputs": [],
   "source": [
    "for count in range(0,y_break):\n",
    "    x=op_slide_img.dimensions[0]\n",
    "    if count==0:\n",
    "        y=0\n",
    "    else:    \n",
    "        y=0+op_slide_img.dimensions[1]-(count*x)\n",
    "    img = op_slide_img.read_region((0,y), 0, (x,x))\n",
    "    jpg_img = img.convert('RGB')\n",
    "    jpg_img.save('test_'+str(count)+'.jpg')"
   ]
  },
  {
   "cell_type": "code",
   "execution_count": null,
   "metadata": {},
   "outputs": [],
   "source": [
    "image_path_coord_map = dict((k, []) for k in list(image_patch_data['image_path'].unique()))\\n"
   ]
  },
  {
   "cell_type": "code",
   "execution_count": 150,
   "metadata": {},
   "outputs": [
    {
     "name": "stdout",
     "output_type": "stream",
     "text": [
      "../data/valid/Celiac/C07-37_06.svs Saved!\n",
      "0.0022172949002217295\n",
      "205.2351496219635\n"
     ]
    },
    {
     "ename": "KeyboardInterrupt",
     "evalue": "",
     "output_type": "error",
     "traceback": [
      "\u001b[0;31m--------------------------------------------------------------------------\u001b[0m",
      "\u001b[0;31mKeyboardInterrupt\u001b[0m                        Traceback (most recent call last)",
      "\u001b[0;32m<ipython-input-150-57bbe556304f>\u001b[0m in \u001b[0;36m<module>\u001b[0;34m()\u001b[0m\n\u001b[1;32m     12\u001b[0m         \u001b[0mx\u001b[0m \u001b[0;34m=\u001b[0m \u001b[0mint\u001b[0m\u001b[0;34m(\u001b[0m\u001b[0mval\u001b[0m\u001b[0;34m[\u001b[0m\u001b[0;36m0\u001b[0m\u001b[0;34m]\u001b[0m\u001b[0;34m)\u001b[0m\u001b[0;34m\u001b[0m\u001b[0m\n\u001b[1;32m     13\u001b[0m         \u001b[0my\u001b[0m \u001b[0;34m=\u001b[0m \u001b[0mint\u001b[0m\u001b[0;34m(\u001b[0m\u001b[0mval\u001b[0m\u001b[0;34m[\u001b[0m\u001b[0;36m1\u001b[0m\u001b[0;34m]\u001b[0m\u001b[0;34m)\u001b[0m\u001b[0;34m\u001b[0m\u001b[0m\n\u001b[0;32m---> 14\u001b[0;31m         \u001b[0mimg\u001b[0m \u001b[0;34m=\u001b[0m \u001b[0mop_slide_img\u001b[0m\u001b[0;34m.\u001b[0m\u001b[0mread_region\u001b[0m\u001b[0;34m(\u001b[0m\u001b[0;34m(\u001b[0m\u001b[0mx\u001b[0m\u001b[0;34m,\u001b[0m\u001b[0my\u001b[0m\u001b[0;34m)\u001b[0m\u001b[0;34m,\u001b[0m \u001b[0;36m0\u001b[0m\u001b[0;34m,\u001b[0m \u001b[0;34m(\u001b[0m\u001b[0;36m1000\u001b[0m\u001b[0;34m,\u001b[0m\u001b[0;36m1000\u001b[0m\u001b[0;34m)\u001b[0m\u001b[0;34m)\u001b[0m\u001b[0;34m\u001b[0m\u001b[0m\n\u001b[0m\u001b[1;32m     15\u001b[0m         \u001b[0mimg\u001b[0m \u001b[0;34m=\u001b[0m \u001b[0mimg\u001b[0m\u001b[0;34m.\u001b[0m\u001b[0mresize\u001b[0m\u001b[0;34m(\u001b[0m\u001b[0mwidth_height\u001b[0m\u001b[0;34m,\u001b[0m \u001b[0mImage\u001b[0m\u001b[0;34m.\u001b[0m\u001b[0mANTIALIAS\u001b[0m\u001b[0;34m)\u001b[0m\u001b[0;34m\u001b[0m\u001b[0m\n\u001b[1;32m     16\u001b[0m         \u001b[0mjpg_img\u001b[0m \u001b[0;34m=\u001b[0m \u001b[0mimg\u001b[0m\u001b[0;34m.\u001b[0m\u001b[0mconvert\u001b[0m\u001b[0;34m(\u001b[0m\u001b[0;34m'RGB'\u001b[0m\u001b[0;34m)\u001b[0m\u001b[0;34m\u001b[0m\u001b[0m\n",
      "\u001b[0;32m~/anaconda3/envs/fastai/lib/python3.6/site-packages/openslide/__init__.py\u001b[0m in \u001b[0;36mread_region\u001b[0;34m(self, location, level, size)\u001b[0m\n\u001b[1;32m    221\u001b[0m         function is not premultiplied.\"\"\"\n\u001b[1;32m    222\u001b[0m         return lowlevel.read_region(self._osr, location[0], location[1],\n\u001b[0;32m--> 223\u001b[0;31m                 level, size[0], size[1])\n\u001b[0m\u001b[1;32m    224\u001b[0m \u001b[0;34m\u001b[0m\u001b[0m\n\u001b[1;32m    225\u001b[0m \u001b[0;34m\u001b[0m\u001b[0m\n",
      "\u001b[0;32m~/anaconda3/envs/fastai/lib/python3.6/site-packages/openslide/lowlevel.py\u001b[0m in \u001b[0;36mread_region\u001b[0;34m(slide, x, y, level, w, h)\u001b[0m\n\u001b[1;32m    257\u001b[0m         \u001b[0;32mreturn\u001b[0m \u001b[0mPIL\u001b[0m\u001b[0;34m.\u001b[0m\u001b[0mImage\u001b[0m\u001b[0;34m.\u001b[0m\u001b[0mnew\u001b[0m\u001b[0;34m(\u001b[0m\u001b[0;34m'RGBA'\u001b[0m\u001b[0;34m,\u001b[0m \u001b[0;34m(\u001b[0m\u001b[0mw\u001b[0m\u001b[0;34m,\u001b[0m \u001b[0mh\u001b[0m\u001b[0;34m)\u001b[0m\u001b[0;34m)\u001b[0m\u001b[0;34m\u001b[0m\u001b[0m\n\u001b[1;32m    258\u001b[0m     \u001b[0mbuf\u001b[0m \u001b[0;34m=\u001b[0m \u001b[0;34m(\u001b[0m\u001b[0mw\u001b[0m \u001b[0;34m*\u001b[0m \u001b[0mh\u001b[0m \u001b[0;34m*\u001b[0m \u001b[0mc_uint32\u001b[0m\u001b[0;34m)\u001b[0m\u001b[0;34m(\u001b[0m\u001b[0;34m)\u001b[0m\u001b[0;34m\u001b[0m\u001b[0m\n\u001b[0;32m--> 259\u001b[0;31m     \u001b[0m_read_region\u001b[0m\u001b[0;34m(\u001b[0m\u001b[0mslide\u001b[0m\u001b[0;34m,\u001b[0m \u001b[0mbuf\u001b[0m\u001b[0;34m,\u001b[0m \u001b[0mx\u001b[0m\u001b[0;34m,\u001b[0m \u001b[0my\u001b[0m\u001b[0;34m,\u001b[0m \u001b[0mlevel\u001b[0m\u001b[0;34m,\u001b[0m \u001b[0mw\u001b[0m\u001b[0;34m,\u001b[0m \u001b[0mh\u001b[0m\u001b[0;34m)\u001b[0m\u001b[0;34m\u001b[0m\u001b[0m\n\u001b[0m\u001b[1;32m    260\u001b[0m     \u001b[0;32mreturn\u001b[0m \u001b[0m_load_image\u001b[0m\u001b[0;34m(\u001b[0m\u001b[0mbuf\u001b[0m\u001b[0;34m,\u001b[0m \u001b[0;34m(\u001b[0m\u001b[0mw\u001b[0m\u001b[0;34m,\u001b[0m \u001b[0mh\u001b[0m\u001b[0;34m)\u001b[0m\u001b[0;34m)\u001b[0m\u001b[0;34m\u001b[0m\u001b[0m\n\u001b[1;32m    261\u001b[0m \u001b[0;34m\u001b[0m\u001b[0m\n",
      "\u001b[0;32m~/anaconda3/envs/fastai/lib/python3.6/site-packages/openslide/lowlevel.py\u001b[0m in \u001b[0;36m_check_error\u001b[0;34m(result, func, args)\u001b[0m\n\u001b[1;32m    191\u001b[0m \u001b[0;34m\u001b[0m\u001b[0m\n\u001b[1;32m    192\u001b[0m \u001b[0;31m# check if the library got into an error state after each library call\u001b[0m\u001b[0;34m\u001b[0m\u001b[0;34m\u001b[0m\u001b[0m\n\u001b[0;32m--> 193\u001b[0;31m \u001b[0;32mdef\u001b[0m \u001b[0m_check_error\u001b[0m\u001b[0;34m(\u001b[0m\u001b[0mresult\u001b[0m\u001b[0;34m,\u001b[0m \u001b[0mfunc\u001b[0m\u001b[0;34m,\u001b[0m \u001b[0margs\u001b[0m\u001b[0;34m)\u001b[0m\u001b[0;34m:\u001b[0m\u001b[0;34m\u001b[0m\u001b[0m\n\u001b[0m\u001b[1;32m    194\u001b[0m     \u001b[0merr\u001b[0m \u001b[0;34m=\u001b[0m \u001b[0mget_error\u001b[0m\u001b[0;34m(\u001b[0m\u001b[0margs\u001b[0m\u001b[0;34m[\u001b[0m\u001b[0;36m0\u001b[0m\u001b[0;34m]\u001b[0m\u001b[0;34m)\u001b[0m\u001b[0;34m\u001b[0m\u001b[0m\n\u001b[1;32m    195\u001b[0m     \u001b[0;32mif\u001b[0m \u001b[0merr\u001b[0m \u001b[0;32mis\u001b[0m \u001b[0;32mnot\u001b[0m \u001b[0;32mNone\u001b[0m\u001b[0;34m:\u001b[0m\u001b[0;34m\u001b[0m\u001b[0m\n",
      "\u001b[0;31mKeyboardInterrupt\u001b[0m: "
     ]
    }
   ],
   "source": [
    "start_time = time.time()\n",
    "count = 0\n",
    "for key,value in image_path_coord_map.items():\n",
    "    dir=key+'/'+value\n",
    "    op_slide_img = open_slide(key)\n",
    "    for val in value:\n",
    "        x = int(val[0])\n",
    "        y = int(val[1])\n",
    "        img = op_slide_img.read_region((x,y), 0, (1000,1000))\n",
    "        img = img.resize(width_height, Image.ANTIALIAS)\n",
    "        jpg_img = img.convert('RGB')\n",
    "        image_name = key.split('/')[-1]\n",
    "        image_name = image_name.split('.')[0]\n",
    "        jpg_img.save(path_change_map[key] + '/' + image_name + '_' + str(x) + '_' + str(y) + '.jpg')\n",
    "    print(key + ' Saved!')\n",
    "    count+=1\n",
    "    print(count/451)\n",
    "    stop = time.time()\n",
    "    print(stop-start_time)\n",
    "stop = time.time()\n",
    "print(stop-start_time)"
   ]
  },
  {
   "cell_type": "code",
   "execution_count": null,
   "metadata": {},
   "outputs": [],
   "source": []
  }
 ],
 "metadata": {
  "kernelspec": {
   "display_name": "Python 3",
   "language": "python",
   "name": "python3"
  },
  "language_info": {
   "codemirror_mode": {
    "name": "ipython",
    "version": 3
   },
   "file_extension": ".py",
   "mimetype": "text/x-python",
   "name": "python",
   "nbconvert_exporter": "python",
   "pygments_lexer": "ipython3",
   "version": "3.6.5"
  }
 },
 "nbformat": 4,
 "nbformat_minor": 2
}

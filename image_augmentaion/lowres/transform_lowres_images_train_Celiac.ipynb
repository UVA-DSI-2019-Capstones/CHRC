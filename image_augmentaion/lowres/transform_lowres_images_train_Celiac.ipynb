{
 "cells": [
  {
   "cell_type": "code",
   "execution_count": 4,
   "metadata": {},
   "outputs": [],
   "source": [
    "import staintools\n",
    "import csv\n",
    "import os\n",
    "import glob\n",
    "import re\n",
    "from pandas import DataFrame, Series\n",
    "from PIL import Image\n",
    "import timeit\n",
    "import time\n",
    "import cv2\n",
    "from matplotlib import pyplot as plt\n",
    "import numpy as np"
   ]
  },
  {
   "cell_type": "code",
   "execution_count": 5,
   "metadata": {},
   "outputs": [],
   "source": [
    "train_paths = [\"/scratch/kk4ze/data_lowres/train/Celiac/\"]"
   ]
  },
  {
   "cell_type": "code",
   "execution_count": 6,
   "metadata": {},
   "outputs": [],
   "source": [
    "# get images\n",
    "images = {}\n",
    "images_by_folder = {}\n",
    "for train_path in train_paths:\n",
    "    images_by_folder[str(train_path)] = []\n",
    "    files = glob.glob(os.path.join(train_path, '*.jpg'))\n",
    "    for fl in files:\n",
    "        flbase = os.path.basename(fl)\n",
    "        flbase_noext = os.path.splitext(flbase)[0]\n",
    "        images[flbase_noext]=fl\n",
    "        images_by_folder[str(train_path)].append(flbase_noext)"
   ]
  },
  {
   "cell_type": "code",
   "execution_count": 7,
   "metadata": {},
   "outputs": [],
   "source": [
    "# initialize stain and brightness normalizer\n",
    "stain_normalizer = staintools.StainNormalizer(method='vahadane')\n",
    "standardizer = staintools.BrightnessStandardizer()"
   ]
  },
  {
   "cell_type": "code",
   "execution_count": 8,
   "metadata": {},
   "outputs": [],
   "source": [
    "# choose target image\n",
    "target_image = staintools.read_image(\"/scratch/kk4ze/data_lowres/train/Celiac/C03-05_03_5901_4803_horiz__0.jpg\")\n",
    "standard_target_image = standardizer.transform(target_image)\n",
    "stain_normalizer.fit(standard_target_image)"
   ]
  },
  {
   "cell_type": "code",
   "execution_count": 9,
   "metadata": {},
   "outputs": [],
   "source": [
    "# get destination path\n",
    "path_change_map = {}\n",
    "\n",
    "for key in list(images_by_folder.keys()):\n",
    "    temp = key.replace('data_lowres', 'data_lowres_augmented')\n",
    "    path_change_map[key] = temp"
   ]
  },
  {
   "cell_type": "code",
   "execution_count": 10,
   "metadata": {},
   "outputs": [],
   "source": [
    "for key in images_by_folder.keys():\n",
    "    for value in list(images_by_folder[key]):\n",
    "#         print(key)\n",
    "#         print(value)\n",
    "#         print (str(count) + ' ' + str(value))\n",
    "        source_img_path = str(key) + str(value) + '.jpg'\n",
    "        dest_img_path = str(path_change_map[key]) + str(value) + '.jpg'\n",
    "#         print(source_img_path)\n",
    "        img = staintools.read_image(source_img_path)\n",
    "        if (np.mean(img) > 240) or (np.mean(img) < 10):\n",
    "            continue\n",
    "        # standardize brightness\n",
    "        img_standard = standardizer.transform(img)\n",
    "        # transform the images\n",
    "        img_normalized = stain_normalizer.transform(img_standard)\n",
    "        # write image to path\n",
    "\n",
    "#             plt.imshow(img)\n",
    "#             plt.title('my picture')\n",
    "#             plt.show()\n",
    "#             plt.imshow(img_normalized)\n",
    "#             plt.title('my picture')\n",
    "#             plt.show()\n",
    "\n",
    "      #  if (count % 1000 == 0):\n",
    "#             plt.imshow(img)\n",
    "#             plt.title('my picture')\n",
    "#             plt.show()\n",
    "#             plt.imshow(img_normalized)\n",
    "#             plt.title('my picture')\n",
    "#             plt.show()\n",
    "        cv2.imwrite(os.path.normpath(dest_img_path), img_normalized)"
   ]
  },
  {
   "cell_type": "code",
   "execution_count": null,
   "metadata": {},
   "outputs": [],
   "source": [
    "path_change_map"
   ]
  },
  {
   "cell_type": "code",
   "execution_count": null,
   "metadata": {},
   "outputs": [],
   "source": []
  }
 ],
 "metadata": {
  "kernelspec": {
   "display_name": "Python 3",
   "language": "python",
   "name": "python3"
  },
  "language_info": {
   "codemirror_mode": {
    "name": "ipython",
    "version": 3
   },
   "file_extension": ".py",
   "mimetype": "text/x-python",
   "name": "python",
   "nbconvert_exporter": "python",
   "pygments_lexer": "ipython3",
   "version": "3.6.5"
  }
 },
 "nbformat": 4,
 "nbformat_minor": 2
}

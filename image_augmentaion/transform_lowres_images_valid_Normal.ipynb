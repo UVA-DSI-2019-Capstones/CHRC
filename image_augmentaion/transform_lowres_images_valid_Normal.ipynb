{
 "cells": [
  {
   "cell_type": "code",
   "execution_count": 1,
   "metadata": {},
   "outputs": [],
   "source": [
    "import staintools\n",
    "import csv\n",
    "import os\n",
    "import glob\n",
    "import re\n",
    "from pandas import DataFrame, Series\n",
    "from PIL import Image\n",
    "import timeit\n",
    "import time\n",
    "import cv2\n",
    "from matplotlib import pyplot as plt\n",
    "import numpy as np"
   ]
  },
  {
   "cell_type": "code",
   "execution_count": 2,
   "metadata": {},
   "outputs": [],
   "source": [
    "train_paths = [\"/scratch/kk4ze/data_lowres/valid/Normal/\"]"
   ]
  },
  {
   "cell_type": "code",
   "execution_count": 3,
   "metadata": {},
   "outputs": [],
   "source": [
    "# get images\n",
    "images = {}\n",
    "images_by_folder = {}\n",
    "for train_path in train_paths:\n",
    "    images_by_folder[str(train_path)] = []\n",
    "    files = glob.glob(os.path.join(train_path, '*.jpg'))\n",
    "    for fl in files:\n",
    "        flbase = os.path.basename(fl)\n",
    "        flbase_noext = os.path.splitext(flbase)[0]\n",
    "        images[flbase_noext]=fl\n",
    "        images_by_folder[str(train_path)].append(flbase_noext)"
   ]
  },
  {
   "cell_type": "code",
   "execution_count": 4,
   "metadata": {},
   "outputs": [],
   "source": [
    "# initialize stain and brightness normalizer\n",
    "stain_normalizer = staintools.StainNormalizer(method='vahadane')\n",
    "standardizer = staintools.BrightnessStandardizer()"
   ]
  },
  {
   "cell_type": "code",
   "execution_count": 5,
   "metadata": {},
   "outputs": [],
   "source": [
    "# choose target image\n",
    "target_image = staintools.read_image(\"/scratch/kk4ze/data_lowres/train/Celiac/C03-05_03_5901_4803_horiz__0.jpg\")\n",
    "standard_target_image = standardizer.transform(target_image)\n",
    "stain_normalizer.fit(standard_target_image)"
   ]
  },
  {
   "cell_type": "code",
   "execution_count": 6,
   "metadata": {},
   "outputs": [],
   "source": [
    "# get destination path\n",
    "path_change_map = {}\n",
    "\n",
    "for key in list(images_by_folder.keys()):\n",
    "    temp = key.replace('data_lowres', 'data_lowres_augmented')\n",
    "    path_change_map[key] = temp"
   ]
  },
  {
   "cell_type": "code",
   "execution_count": null,
   "metadata": {},
   "outputs": [
    {
     "name": "stdout",
     "output_type": "stream",
     "text": [
      "N17-62_01_3330_10656_2 Saved! Count: 40000  \n",
      " /scratch/as3ek/data_segments/data_balanced_duplicate_sample/valid/Normal/N17-62_01_3330_10656_2.jpg\n",
      "N17-56_00_999_666_2 Saved! Count: 41000  \n",
      " /scratch/as3ek/data_segments/data_balanced_duplicate_sample/valid/Normal/N17-56_00_999_666_2.jpg\n",
      "N15-22_03_6993_3663_1 Saved! Count: 42000  \n",
      " /scratch/as3ek/data_segments/data_balanced_duplicate_sample/valid/Normal/N15-22_03_6993_3663_1.jpg\n",
      "N15-25_02_2664_999_0 Saved! Count: 43000  \n",
      " /scratch/as3ek/data_segments/data_balanced_duplicate_sample/valid/Normal/N15-25_02_2664_999_0.jpg\n",
      "N15-33_04_6993_1332_0 Saved! Count: 44000  \n",
      " /scratch/as3ek/data_segments/data_balanced_duplicate_sample/valid/Normal/N15-33_04_6993_1332_0.jpg\n",
      "N16-47_02_9000_5000_0 Saved! Count: 45000  \n",
      " /scratch/as3ek/data_segments/data_balanced_duplicate_sample/valid/Normal/N16-47_02_9000_5000_0.jpg\n",
      "N15-33_04_2331_9657_1 Saved! Count: 46000  \n",
      " /scratch/as3ek/data_segments/data_balanced_duplicate_sample/valid/Normal/N15-33_04_2331_9657_1.jpg\n",
      "N17-56_00_2000_1500_0 Saved! Count: 47000  \n",
      " /scratch/as3ek/data_segments/data_balanced_duplicate_sample/valid/Normal/N17-56_00_2000_1500_0.jpg\n"
     ]
    }
   ],
   "source": [
    "for key in images_by_folder.keys():\n",
    "    for value in list(images_by_folder[key]):\n",
    "#         print(key)\n",
    "#         print(value)\n",
    "#         print (str(count) + ' ' + str(value))\n",
    "        source_img_path = str(key) + str(value) + '.jpg'\n",
    "        dest_img_path = str(path_change_map[key]) + str(value) + '.jpg'\n",
    "#         print(source_img_path)\n",
    "        img = staintools.read_image(source_img_path)\n",
    "        if (np.mean(img) > 240) or (np.mean(img) < 10):\n",
    "            continue\n",
    "        # standardize brightness\n",
    "        img_standard = standardizer.transform(img)\n",
    "        # transform the images\n",
    "        img_normalized = stain_normalizer.transform(img_standard)\n",
    "        # write image to path\n",
    "\n",
    "#             plt.imshow(img)\n",
    "#             plt.title('my picture')\n",
    "#             plt.show()\n",
    "#             plt.imshow(img_normalized)\n",
    "#             plt.title('my picture')\n",
    "#             plt.show()\n",
    "        cv2.imwrite(os.path.normpath(dest_img_path), img_normalized)"
   ]
  },
  {
   "cell_type": "code",
   "execution_count": null,
   "metadata": {},
   "outputs": [],
   "source": [
    "path_change_map"
   ]
  },
  {
   "cell_type": "code",
   "execution_count": null,
   "metadata": {},
   "outputs": [],
   "source": []
  }
 ],
 "metadata": {
  "kernelspec": {
   "display_name": "Python 3",
   "language": "python",
   "name": "python3"
  },
  "language_info": {
   "codemirror_mode": {
    "name": "ipython",
    "version": 3
   },
   "file_extension": ".py",
   "mimetype": "text/x-python",
   "name": "python",
   "nbconvert_exporter": "python",
   "pygments_lexer": "ipython3",
   "version": "3.6.5"
  }
 },
 "nbformat": 4,
 "nbformat_minor": 2
}

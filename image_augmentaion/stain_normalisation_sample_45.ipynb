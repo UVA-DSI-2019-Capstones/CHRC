{
 "cells": [
  {
   "cell_type": "code",
   "execution_count": 1,
   "metadata": {},
   "outputs": [],
   "source": [
    "import staintools\n",
    "import csv\n",
    "import os\n",
    "import glob\n",
    "import re\n",
    "from pandas import DataFrame, Series\n",
    "from PIL import Image\n",
    "import timeit\n",
    "import time\n",
    "import cv2"
   ]
  },
  {
   "cell_type": "code",
   "execution_count": 5,
   "metadata": {},
   "outputs": [],
   "source": [
    "train_path_celiac = [\"/scratch/as3ek/chrc_data_case_preserved_1000_normal/train/Celiac/\"]\n",
    "train_path_ee = [\"/scratch/as3ek/chrc_data_case_preserved_1000_normal/train/EE/\"]\n",
    "train_path_normal = [\"/scratch/as3ek/chrc_data_case_preserved_1000_normal/train/Normal/\"]"
   ]
  },
  {
   "cell_type": "code",
   "execution_count": 6,
   "metadata": {},
   "outputs": [],
   "source": [
    "# initialize stain and brightness normalizer\n",
    "stain_normalizer = staintools.StainNormalizer(method='vahadane')\n",
    "standardizer = staintools.BrightnessStandardizer()"
   ]
  },
  {
   "cell_type": "code",
   "execution_count": null,
   "metadata": {},
   "outputs": [],
   "source": [
    "# choose target image\n",
    "target_image_celiac = staintools.read_image(train_path_celiac[0] + '900')\n",
    "standard_target_image_celiac = standardizer.transform(target_image_celiac)"
   ]
  }
 ],
 "metadata": {
  "kernelspec": {
   "display_name": "Python 3",
   "language": "python",
   "name": "python3"
  },
  "language_info": {
   "codemirror_mode": {
    "name": "ipython",
    "version": 3
   },
   "file_extension": ".py",
   "mimetype": "text/x-python",
   "name": "python",
   "nbconvert_exporter": "python",
   "pygments_lexer": "ipython3",
   "version": "3.6.6"
  }
 },
 "nbformat": 4,
 "nbformat_minor": 2
}

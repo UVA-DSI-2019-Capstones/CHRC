{
 "cells": [
  {
   "cell_type": "code",
   "execution_count": 14,
   "metadata": {},
   "outputs": [],
   "source": [
    "import staintools\n",
    "import csv\n",
    "import os\n",
    "import glob\n",
    "import re\n",
    "from pandas import DataFrame, Series\n",
    "from PIL import Image\n",
    "import timeit\n",
    "import time\n",
    "import cv2\n",
    "from matplotlib import pyplot as plt\n",
    "import numpy as np"
   ]
  },
  {
   "cell_type": "code",
   "execution_count": 2,
   "metadata": {},
   "outputs": [],
   "source": [
    "train_paths = [\"../data_segments/data_balanced_duplicate_sample/train/EE/\"]"
   ]
  },
  {
   "cell_type": "code",
   "execution_count": 3,
   "metadata": {},
   "outputs": [],
   "source": [
    "# get images\n",
    "images = {}\n",
    "images_by_folder = {}\n",
    "for train_path in train_paths:\n",
    "    images_by_folder[str(train_path)] = []\n",
    "    files = glob.glob(os.path.join(train_path, '*.jpg'))\n",
    "    for fl in files:\n",
    "        flbase = os.path.basename(fl)\n",
    "        flbase_noext = os.path.splitext(flbase)[0]\n",
    "        images[flbase_noext]=fl\n",
    "        images_by_folder[str(train_path)].append(flbase_noext)"
   ]
  },
  {
   "cell_type": "code",
   "execution_count": 4,
   "metadata": {},
   "outputs": [],
   "source": [
    "# initialize stain and brightness normalizer\n",
    "stain_normalizer = staintools.StainNormalizer(method='vahadane')\n",
    "standardizer = staintools.BrightnessStandardizer()"
   ]
  },
  {
   "cell_type": "code",
   "execution_count": 5,
   "metadata": {},
   "outputs": [],
   "source": [
    "# choose target image\n",
    "target_image = staintools.read_image(\"../data_segments/data_balanced_duplicate_sample/valid/Celiac/C06-27_01_1000_2000_0.jpg\")\n",
    "standard_target_image = standardizer.transform(target_image)\n",
    "stain_normalizer.fit(standard_target_image)"
   ]
  },
  {
   "cell_type": "code",
   "execution_count": 6,
   "metadata": {},
   "outputs": [],
   "source": [
    "# get destination path\n",
    "path_change_map = {}\n",
    "\n",
    "for key in list(images_by_folder.keys()):\n",
    "    temp = key.replace('..', '/scratch/as3ek')\n",
    "    path_change_map[key] = temp"
   ]
  },
  {
   "cell_type": "code",
   "execution_count": null,
   "metadata": {},
   "outputs": [
    {
     "name": "stdout",
     "output_type": "stream",
     "text": [
      "3637 130370_6722_001_6900_11700_0\n",
      "3638 130379_6731_002_4773_2442_0\n",
      "3639 130369_6721_001_8250_12625_0\n",
      "3640 22_3750_1500_0\n",
      "3641 130378_6730_002_1998_6327_0\n",
      "3642 50_5312_7304_0\n",
      "3643 130373_6725_001_3774_1554_0\n",
      "3644 87_600_5000_0\n",
      "3645 84_3652_5312_0\n",
      "3646 130365_6716_001_2775_4551_0\n",
      "3647 130373_6725_001_3500_1800_0\n",
      "3648 130373_6725_002_3976_1136_0\n",
      "3649 130369_6721_001_5500_11700_0\n",
      "3650 130369_6721_001_5112_11360_0\n",
      "3651 59_3200_4000_0\n",
      "3652 130373_6725_001_3375_2125_0\n",
      "3653 130379_6731_002_1200_3100_0\n",
      "3654 35_6806_3652_0\n",
      "3655 130369_6721_001_5106_12432_0\n",
      "3656 130369_6721_001_2500_2750_0\n",
      "3657 130379_6731_002_2490_6142_0\n",
      "3658 84_5312_1992_0\n",
      "3659 73_4648_4648_0\n",
      "3660 130369_6721_001_5625_12625_0\n",
      "3661 35_6000_5400_0\n",
      "3662 130378_6730_002_1400_3500_0\n",
      "3663 130376_6728_001_1500_500_0\n",
      "3664 130369_6721_001_8000_10100_0\n",
      "3665 130373_6725_001_2272_2982_0\n",
      "3666 130373_6725_001_1625_3750_0\n",
      "3667 130370_6722_001_300_11800_0\n",
      "3668 130382_6718_001_1625_3875_0\n",
      "3669 130379_6731_002_2220_4884_0\n"
     ]
    },
    {
     "name": "stderr",
     "output_type": "stream",
     "text": [
      "/home/as3ek/.local/lib/python3.6/site-packages/staintools/utils/misc_utils.py:56: RuntimeWarning: invalid value encountered in true_divide\n",
      "  return A / np.linalg.norm(A, axis=1)[:, None]\n",
      "/home/as3ek/.local/lib/python3.6/site-packages/staintools/stain_normalizer.py:42: RuntimeWarning: divide by zero encountered in true_divide\n",
      "  source_concentrations *= (self.maxC_target / maxC_source)\n",
      "/home/as3ek/.local/lib/python3.6/site-packages/staintools/stain_normalizer.py:42: RuntimeWarning: invalid value encountered in multiply\n",
      "  source_concentrations *= (self.maxC_target / maxC_source)\n"
     ]
    },
    {
     "name": "stdout",
     "output_type": "stream",
     "text": [
      "3670 130378_6730_002_1500_5100_0\n",
      "3671 84_1250_2500_0\n",
      "3672 50_1992_3984_0\n",
      "3673 130379_6731_001_1000_5625_0\n",
      "3674 130370_6722_001_3124_14058_0\n",
      "3675 59_3250_4000_0\n",
      "3676 29_1800_200_0\n",
      "3677 130365_6716_001_2300_3400_0\n",
      "3678 84_4482_1328_0\n",
      "3679 85_2988_2490_0\n",
      "3680 35_2158_5312_0\n",
      "3681 29_4316_2158_0\n",
      "3682 29_1494_1826_0\n",
      "3683 130380_6726_001_1992_498_0\n",
      "3684 130369_6721_001_1000_17700_0\n",
      "3685 130370_6722_001_7125_13000_0\n",
      "3686 59_8000_2000_0\n",
      "3687 58_7992_3330_0\n",
      "3688 130378_6730_002_750_7250_0\n",
      "3689 130380_6726_001_1800_400_0\n",
      "3690 130370_6722_001_3692_12922_0\n",
      "3691 130379_6731_001_2700_3900_0\n",
      "3692 111_5810_4980_0\n",
      "3693 130373_6725_002_400_3600_0\n",
      "3694 130373_6725_001_2331_3552_0\n",
      "3695 42_4200_4600_0\n",
      "3696 130369_6721_001_9750_10500_0\n",
      "3697 130369_6721_001_1500_2875_0\n",
      "3698 79_5800_5200_0\n",
      "3699 108_2400_3200_0\n",
      "3700 42_5328_3996_0\n",
      "3701 84_6660_1998_0\n",
      "3702 130373_6725_001_2822_1494_0\n",
      "3703 59_4400_200_0\n",
      "3704 130380_6726_001_1420_852_0\n",
      "3705 130378_6730_001_2158_3652_0\n",
      "3706 22_1400_1600_0\n",
      "3707 50_5750_2000_0\n",
      "3708 111_750_7250_0\n",
      "3709 29_5200_3600_0\n",
      "3710 130369_6721_001_9794_9960_0\n",
      "3711 11_1200_4600_0\n",
      "3712 23_12450_4814_0\n",
      "3713 130378_6730_001_999_6771_0\n",
      "3714 130372_6724_001_3266_3550_0\n",
      "3715 59_3984_2988_0\n",
      "3716 84_1992_2324_0\n",
      "3717 130379_6731_002_1776_5772_0\n",
      "3718 130373_6725_001_2982_3408_0\n",
      "3719 29_4000_3600_0\n",
      "3720 108_2200_4600_0\n",
      "3721 130370_6722_001_4750_13875_0\n",
      "3722 130372_6724_001_800_12400_0\n",
      "3723 23_1494_7470_0\n",
      "3724 77_3320_3984_0\n",
      "3725 130379_6731_002_1443_3330_0\n",
      "3726 73_2750_8500_0\n",
      "3727 130378_6730_001_444_2886_0\n",
      "3728 79_6750_5000_0\n",
      "3729 79_1992_4648_0\n",
      "3730 58_3486_498_0\n",
      "3731 130379_6731_002_5396_2982_0\n",
      "3732 130372_6724_001_2109_10656_0\n",
      "3733 111_3154_7304_0\n",
      "3734 59_6400_600_0\n",
      "3735 130365_6716_001_2900_3600_0\n",
      "3736 130369_6721_001_1443_16761_0\n",
      "3737 130369_6721_001_5250_15625_0\n",
      "3738 130365_6716_001_1400_800_0\n",
      "3739 130377_6729_001_498_6142_0\n",
      "3740 85_4000_2400_0\n",
      "3741 120_12450_2158_0\n",
      "3742 50_0_6500_0\n",
      "3743 130382_6718_001_2130_568_0\n",
      "3744 111_3984_7470_0\n",
      "3745 11_2664_4329_0\n",
      "3746 23_9657_3663_0\n",
      "3747 130372_6724_001_1100_9000_0\n",
      "3748 50_3486_4150_0\n",
      "3749 23_10250_9750_0\n",
      "3750 120_3600_8200_0\n",
      "3751 85_5328_6660_0\n",
      "3752 130380_6726_001_5375_1625_0\n",
      "3753 50_4500_3250_0\n",
      "3754 58_3800_1000_0\n",
      "3755 84_4200_2200_0\n",
      "3756 130369_6721_001_9000_10125_0\n",
      "3757 51_664_1992_0\n",
      "3758 120_1494_4980_0\n",
      "3759 130378_6730_002_1136_1136_0\n",
      "3760 85_2750_8750_0\n",
      "3761 73_3500_8000_0\n",
      "3762 130373_6725_001_1700_4300_0\n",
      "3763 120_13280_4482_0\n",
      "3764 79_6142_5312_0\n",
      "3765 79_1826_3154_0\n",
      "3766 130370_6722_001_2625_11750_0\n",
      "3767 120_7800_2200_0\n",
      "3768 130373_6725_002_2900_3300_0\n",
      "3769 59_1660_1660_0\n",
      "3770 130372_6724_001_3200_1400_0\n",
      "3771 29_2800_3800_0\n",
      "3772 130369_6721_001_4773_12654_0\n",
      "3773 130379_6731_002_5106_3219_0\n",
      "3774 108_7326_5328_0\n",
      "3775 59_4250_0_0\n",
      "3776 130379_6731_002_1100_5900_0\n",
      "3777 73_800_7800_0\n",
      "3778 130373_6725_001_4686_994_0\n",
      "3779 120_4000_4750_0\n",
      "3780 130369_6721_001_11360_10082_0\n",
      "3781 29_4250_2500_0\n",
      "3782 130370_6722_001_13000_2800_0\n",
      "3783 23_12782_4482_0\n",
      "3784 130365_6716_001_2200_3900_0\n",
      "3785 58_4000_4250_0\n",
      "3786 29_1826_3818_0\n",
      "3787 23_10989_5994_0\n",
      "3788 73_7968_3984_0\n",
      "3789 130369_6721_001_5976_11620_0\n",
      "3790 130379_6731_001_4884_3330_0\n",
      "3791 84_4800_2000_0\n",
      "3792 23_3663_2997_0\n",
      "3793 73_5750_7500_0\n",
      "3794 79_6308_3320_0\n",
      "3795 130370_6722_001_6674_12354_0\n",
      "3796 22_4316_2988_0\n",
      "3797 130369_6721_001_2997_777_0\n",
      "3798 130376_6728_001_1332_1221_0\n",
      "3799 130379_6731_001_1125_6750_0\n",
      "3800 11_3663_5994_0\n",
      "3801 130376_6728_001_4500_800_0\n",
      "3802 85_7800_3200_0\n",
      "3803 130370_6722_001_8946_2414_0\n",
      "3804 73_3200_6200_0\n",
      "3805 22_6142_2490_0\n",
      "3806 108_6500_3500_0\n",
      "3807 120_11400_1600_0\n",
      "3808 35_1328_4980_0\n",
      "3809 130376_6728_001_5994_777_0\n",
      "3810 73_6308_332_0\n",
      "3811 130370_6722_001_13209_2775_0\n",
      "3812 73_4500_7000_0\n",
      "3813 130370_6722_001_11644_2130_0\n",
      "3814 130372_6724_001_1900_11100_0\n",
      "3815 79_5312_3818_0\n",
      "3816 130379_6731_002_6375_2375_0\n",
      "3817 84_1000_4800_0\n",
      "3818 130372_6724_001_1704_10650_0\n",
      "3819 50_3486_4980_0\n",
      "3820 87_3652_2324_0\n",
      "3821 130365_6716_001_1660_1992_0\n",
      "3822 130377_6729_001_3774_4551_0\n",
      "3823 85_2997_999_0\n",
      "3824 35_6600_4200_0\n",
      "3825 130378_6730_001_2500_7300_0\n",
      "3826 130369_6721_001_1332_16872_0\n",
      "3827 42_5750_3250_0\n",
      "3828 58_5250_3750_0\n",
      "3829 130370_6722_001_900_11700_0\n",
      "3830 111_3000_4250_0\n",
      "3831 111_1332_8658_0\n",
      "3832 130382_6718_001_1400_1500_0\n",
      "3833 130370_6722_001_8214_12432_0\n",
      "3834 130373_6725_001_777_4218_0\n",
      "3835 11_2500_1750_0\n",
      "3836 130372_6724_001_3552_4662_0\n",
      "3837 130379_6731_002_2324_6142_0\n",
      "3838 22_3652_4648_0\n",
      "3839 130379_6731_002_2700_4300_0\n",
      "3840 130376_6728_001_1500_125_0\n",
      "3841 79_5000_7500_0\n",
      "3842 77_8300_8632_0\n",
      "3843 23_7400_9000_0\n",
      "3844 130377_6729_001_900_6100_0\n",
      "3845 120_5312_8300_0\n",
      "3846 130378_6730_001_1500_5300_0\n",
      "3847 130365_6716_001_1998_2664_0\n",
      "3848 59_5478_3984_0\n",
      "3849 73_2997_3996_0\n",
      "3850 130380_6726_001_1328_498_0\n",
      "3851 130372_6724_001_1332_11100_0\n",
      "3852 130378_6730_002_2698_7100_0\n",
      "3853 130377_6729_001_2664_4218_0\n",
      "3854 22_2250_1750_0\n",
      "3855 130370_6722_001_3266_12780_0\n",
      "3856 85_5976_5976_0\n",
      "3857 130369_6721_001_1332_2997_0\n",
      "3858 85_6000_3000_0\n",
      "3859 130379_6731_002_6549_1443_0\n",
      "3860 130369_6721_001_10545_9768_0\n",
      "3861 79_6308_6142_0\n",
      "3862 23_12654_3996_0\n",
      "3863 50_3154_4316_0\n",
      "3864 130369_6721_001_10545_10545_0\n",
      "3865 130372_6724_001_1625_10250_0\n",
      "3866 130370_6722_001_5810_11952_0\n",
      "3867 130373_6725_001_3996_1665_0\n",
      "3868 130377_6729_001_3500_4300_0\n",
      "3869 130379_6731_002_777_6660_0\n",
      "3870 130376_6728_001_1900_1600_0\n",
      "3871 130369_6721_001_9940_8520_0\n",
      "3872 130373_6725_001_1988_3550_0\n",
      "3873 108_830_5644_0\n",
      "3874 130369_6721_001_4828_11786_0\n",
      "3875 130365_6716_001_3834_5254_0\n",
      "3876 50_5600_7400_0\n",
      "3877 111_4482_1494_0\n",
      "3878 130373_6725_001_3300_3100_0\n",
      "3879 29_4500_4500_0\n",
      "3880 130373_6725_001_3154_2490_0\n",
      "3881 130378_6730_001_2556_2556_0\n",
      "3882 130379_6731_001_999_7437_0\n",
      "3883 35_5810_1826_0\n",
      "3884 73_6200_400_0\n",
      "3885 130378_6730_002_1328_5312_0\n",
      "3886 130369_6721_001_8500_14000_0\n",
      "3887 111_1328_8300_0\n",
      "3888 130380_6726_001_2600_1000_0\n",
      "3889 85_2331_4662_0\n",
      "3890 130369_6721_001_8250_9250_0\n",
      "3891 85_5000_3600_0\n",
      "3892 130365_6716_001_1992_1328_0\n",
      "3893 130380_6726_001_750_1000_0\n",
      "3894 130379_6731_001_3375_3875_0\n",
      "3895 35_4250_750_0\n",
      "3896 130369_6721_001_2656_15438_0\n",
      "3897 108_3996_5328_0\n",
      "3898 130377_6729_001_4648_4150_0\n",
      "3899 23_6000_10200_0\n",
      "3900 73_1500_9000_0\n",
      "3901 130382_6718_001_1250_2000_0\n",
      "3902 130370_6722_001_6000_11800_0\n",
      "3903 35_4995_4662_0\n",
      "3904 59_5000_3750_0\n",
      "3905 130369_6721_001_6900_10500_0\n",
      "3906 130379_6731_001_1136_5112_0\n",
      "3907 130372_6724_001_1110_9546_0\n",
      "3908 77_6200_9400_0\n",
      "3909 130370_6722_001_13000_3200_0\n",
      "3910 130382_6718_001_2553_111_0\n",
      "3911 130369_6721_001_2158_2490_0\n",
      "3912 111_4000_7600_0\n",
      "3913 130365_6716_001_830_2490_0\n",
      "3914 73_6600_3600_0\n",
      "3915 130372_6724_001_5600_3400_0\n",
      "3916 120_4814_9462_0\n",
      "3917 51_4250_1250_0\n",
      "3918 130378_6730_001_900_4400_0\n",
      "3919 23_14750_5250_0\n",
      "3920 130369_6721_001_5772_12321_0\n",
      "3921 35_2822_6308_0\n",
      "3922 58_6308_3818_0\n",
      "3923 77_4800_8800_0\n",
      "3924 130382_6718_001_750_3125_0\n",
      "3925 50_3984_8964_0\n",
      "3926 130373_6725_001_3375_875_0\n",
      "3927 130369_6721_001_8200_9100_0\n",
      "3928 50_3663_2664_0\n",
      "3929 120_4200_8600_0\n",
      "3930 73_4150_5810_0\n",
      "3931 108_9960_6972_0\n",
      "3932 58_4662_3330_0\n",
      "3933 87_5146_3652_0\n",
      "3934 130369_6721_001_9462_8964_0\n",
      "3935 85_5328_2331_0\n",
      "3936 130373_6725_002_2331_2331_0\n",
      "3937 130369_6721_001_2200_3100_0\n",
      "3938 51_6400_2000_0\n",
      "3939 130370_6722_001_1600_11600_0\n",
      "3940 77_6500_2750_0\n",
      "3941 111_2600_1400_0\n",
      "3942 130365_6716_001_2331_4440_0\n",
      "3943 130378_6730_001_2331_2109_0\n",
      "3944 130382_6718_001_1600_2400_0\n",
      "3945 130373_6725_002_3441_555_0\n",
      "3946 130372_6724_001_2750_1750_0\n",
      "3947 108_2600_3400_0\n",
      "3948 87_1250_3500_0\n",
      "3949 130378_6730_001_1200_1900_0\n",
      "3950 130379_6731_001_0_7400_0\n",
      "3951 130370_6722_001_9500_3200_0\n",
      "3952 130372_6724_001_2982_5538_0\n",
      "3953 79_1992_2324_0\n",
      "3954 50_5146_8300_0\n",
      "3955 23_15750_4000_0\n",
      "3956 130376_6728_001_4400_1000_0\n",
      "3957 120_2600_3800_0\n",
      "3958 77_3800_6200_0\n",
      "3959 22_5644_4980_0\n",
      "3960 111_1750_1500_0\n",
      "3961 77_332_996_0\n",
      "3962 130372_6724_001_2490_4150_0\n",
      "3963 130379_6731_002_1704_4544_0\n",
      "3964 111_2600_9200_0\n",
      "3965 23_14652_2664_0\n",
      "3966 130370_6722_001_5600_12200_0\n",
      "3967 130373_6725_001_1887_4107_0\n",
      "3968 130370_6722_001_1998_12321_0\n",
      "3969 130379_6731_001_1278_3124_0\n",
      "3970 11_1600_3800_0\n",
      "3971 130378_6730_001_2414_6674_0\n",
      "3972 73_2200_5400_0\n",
      "3973 77_1328_5312_0\n",
      "3974 130378_6730_001_2220_2109_0\n",
      "3975 130372_6724_001_2100_6400_0\n",
      "3976 130379_6731_001_1300_5400_0\n",
      "3977 84_4400_3800_0\n",
      "3978 130372_6724_001_3408_1846_0\n",
      "3979 79_5146_6640_0\n"
     ]
    },
    {
     "name": "stdout",
     "output_type": "stream",
     "text": [
      "3980 130379_6731_002_2300_5000_0\n",
      "3981 130372_6724_001_3625_1500_0\n",
      "3982 130372_6724_001_2900_1400_0\n",
      "3983 58_4400_1600_0\n",
      "3984 130370_6722_001_7000_11700_0\n",
      "3985 59_6660_3996_0\n",
      "3986 130376_6728_001_2982_710_0\n",
      "3987 111_1500_4000_0\n",
      "3988 85_4648_6308_0\n",
      "3989 29_5328_4995_0\n",
      "3990 77_2158_4482_0\n",
      "3991 130379_6731_002_2200_5100_0\n",
      "3992 87_2988_6308_0\n",
      "3993 130372_6724_001_3124_6390_0\n",
      "3994 77_3663_5661_0\n",
      "3995 130379_6731_002_3500_3200_0\n",
      "3996 130370_6722_001_4875_13250_0\n",
      "3997 58_6308_4316_0\n",
      "3998 85_4482_6806_0\n",
      "3999 130378_6730_001_994_5822_0\n",
      "4000 59_1000_1800_0\n",
      "4001 59_4980_2158_0\n"
     ]
    }
   ],
   "source": [
    "count = 0\n",
    "for key in images_by_folder.keys():\n",
    "    for value in list(images_by_folder[key]):\n",
    "        count += 1\n",
    "        if count < 3637:\n",
    "            continue\n",
    "#         print(key)\n",
    "#         print(value)\n",
    "        print (str(count) + ' ' + str(value))\n",
    "        source_img_path = str(key) + str(value) + '.jpg'\n",
    "        dest_img_path = str(path_change_map[key]) + str(value) + '.jpg'\n",
    "#         print(source_img_path)\n",
    "        img = staintools.read_image(source_img_path)\n",
    "        if (np.mean(img) > 240) or (np.mean(img) < 10):\n",
    "            continue\n",
    "        # standardize brightness\n",
    "        img_standard = standardizer.transform(img)\n",
    "        # transform the images\n",
    "        img_normalized = stain_normalizer.transform(img_standard)\n",
    "        # write image to path\n",
    "\n",
    "#             plt.imshow(img)\n",
    "#             plt.title('my picture')\n",
    "#             plt.show()\n",
    "#             plt.imshow(img_normalized)\n",
    "#             plt.title('my picture')\n",
    "#             plt.show()\n",
    "\n",
    "        if (count % 10000 == 0):\n",
    "            plt.imshow(img)\n",
    "            plt.title('my picture')\n",
    "            plt.show()\n",
    "            plt.imshow(img_normalized)\n",
    "            plt.title('my picture')\n",
    "            plt.show()\n",
    "            print(value + ' Saved! Count: ' + str(count) + '  \\n ' + str(dest_img_path))\n",
    "        cv2.imwrite(os.path.normpath(dest_img_path), img_normalized)"
   ]
  },
  {
   "cell_type": "code",
   "execution_count": null,
   "metadata": {},
   "outputs": [],
   "source": [
    "path_change_map"
   ]
  },
  {
   "cell_type": "code",
   "execution_count": null,
   "metadata": {},
   "outputs": [],
   "source": [
    "list(images_by_folder.keys())[0]"
   ]
  },
  {
   "cell_type": "code",
   "execution_count": 21,
   "metadata": {},
   "outputs": [
    {
     "data": {
      "text/plain": [
       "'130379_6731_002_4773_2442_0'"
      ]
     },
     "execution_count": 21,
     "metadata": {},
     "output_type": "execute_result"
    }
   ],
   "source": [
    "images_by_folder[list(images_by_folder.keys())[0]][3637]"
   ]
  },
  {
   "cell_type": "code",
   "execution_count": 28,
   "metadata": {},
   "outputs": [],
   "source": [
    "value = list(images_by_folder[list(images_by_folder.keys())[0]])[3637]"
   ]
  },
  {
   "cell_type": "code",
   "execution_count": 29,
   "metadata": {},
   "outputs": [
    {
     "data": {
      "text/plain": [
       "131184"
      ]
     },
     "execution_count": 29,
     "metadata": {},
     "output_type": "execute_result"
    }
   ],
   "source": [
    "len(list(images_by_folder[list(images_by_folder.keys())[0]])[3637:])"
   ]
  },
  {
   "cell_type": "code",
   "execution_count": 30,
   "metadata": {},
   "outputs": [],
   "source": [
    "source_img_path = str(key) + str(value) + '.jpg'"
   ]
  },
  {
   "cell_type": "code",
   "execution_count": 31,
   "metadata": {},
   "outputs": [
    {
     "data": {
      "text/plain": [
       "'../data_segments/data_balanced_duplicate_sample/train/EE/130379_6731_002_4773_2442_0.jpg'"
      ]
     },
     "execution_count": 31,
     "metadata": {},
     "output_type": "execute_result"
    }
   ],
   "source": [
    "source_img_path"
   ]
  },
  {
   "cell_type": "code",
   "execution_count": 32,
   "metadata": {},
   "outputs": [],
   "source": [
    "img = staintools.read_image(source_img_path)"
   ]
  },
  {
   "cell_type": "code",
   "execution_count": 33,
   "metadata": {},
   "outputs": [
    {
     "data": {
      "text/plain": [
       "242.99700927734375"
      ]
     },
     "execution_count": 33,
     "metadata": {},
     "output_type": "execute_result"
    }
   ],
   "source": [
    "np.mean(img)"
   ]
  },
  {
   "cell_type": "code",
   "execution_count": 34,
   "metadata": {},
   "outputs": [
    {
     "data": {
      "text/plain": [
       "<matplotlib.image.AxesImage at 0x7f3a700597f0>"
      ]
     },
     "execution_count": 34,
     "metadata": {},
     "output_type": "execute_result"
    },
    {
     "data": {
      "image/png": "[encoded data removed]",
      "text/plain": [
       "<Figure size 432x288 with 1 Axes>"
      ]
     },
     "metadata": {},
     "output_type": "display_data"
    }
   ],
   "source": [
    "plt.imshow(img)"
   ]
  },
  {
   "cell_type": "code",
   "execution_count": null,
   "metadata": {},
   "outputs": [],
   "source": []
  }
 ],
 "metadata": {
  "kernelspec": {
   "display_name": "Python 3",
   "language": "python",
   "name": "python3"
  },
  "language_info": {
   "codemirror_mode": {
    "name": "ipython",
    "version": 3
   },
   "file_extension": ".py",
   "mimetype": "text/x-python",
   "name": "python",
   "nbconvert_exporter": "python",
   "pygments_lexer": "ipython3",
   "version": "3.6.5"
  }
 },
 "nbformat": 4,
 "nbformat_minor": 2
}

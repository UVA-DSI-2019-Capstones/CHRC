{
 "cells": [
  {
   "cell_type": "code",
   "execution_count": 1,
   "metadata": {},
   "outputs": [],
   "source": [
    "import os, random\n",
    "import os\n",
    "from random import randint\n",
    "import shutil\n",
    "import random"
   ]
  },
  {
   "cell_type": "code",
   "execution_count": 2,
   "metadata": {},
   "outputs": [],
   "source": [
    "mypath = \"/scratch/as3ek/chrc_data/train/\"\n",
    "mypath_v = \"/scratch/as3ek/chrc_data_case_preserved/valid/\"\n",
    "mypath_t = \"/scratch/as3ek/chrc_data_case_preserved/train/\""
   ]
  },
  {
   "cell_type": "code",
   "execution_count": 3,
   "metadata": {},
   "outputs": [],
   "source": [
    "count_v = 0\n",
    "count_t = 0\n",
    "\n",
    "celiac_patients = {}\n",
    "for file in os.listdir(mypath + 'Celiac'):\n",
    "    if file.split('_')[0] in celiac_patients:\n",
    "        celiac_patients[file.split('_')[0]] += 1\n",
    "    else:\n",
    "        celiac_patients[file.split('_')[0]] = 1"
   ]
  },
  {
   "cell_type": "code",
   "execution_count": 4,
   "metadata": {},
   "outputs": [],
   "source": [
    "celiac_pat = list(celiac_patients.keys())\n",
    "random.shuffle(celiac_pat)\n",
    "\n",
    "num_celiac = 0\n",
    "for v in celiac_patients.values():\n",
    "    num_celiac = num_celiac + v\n",
    "\n",
    "celiac_train_patnames = []\n",
    "celiac_valid_patnames = []\n",
    "cum_celiac = 0\n",
    "\n",
    "for patname in celiac_pat:\n",
    "    cum_celiac = cum_celiac + celiac_patients[patname]\n",
    "    if cum_celiac <= 0.8*num_celiac:\n",
    "        celiac_train_patnames.append(patname)\n",
    "    else:\n",
    "        celiac_valid_patnames.append(patname)"
   ]
  },
  {
   "cell_type": "code",
   "execution_count": 6,
   "metadata": {},
   "outputs": [
    {
     "name": "stdout",
     "output_type": "stream",
     "text": [
      "Celiac train: 188\n",
      "Celiac valid: 51\n"
     ]
    }
   ],
   "source": [
    "tr = 0\n",
    "val = 0\n",
    "for file in os.listdir(mypath + 'Celiac'):\n",
    "    frm = mypath + 'Celiac/' + str(file)    \n",
    "    if file.split('_')[0] in celiac_train_patnames:\n",
    "        to = mypath_t + 'Celiac/' + str(file)\n",
    "        tr += 1\n",
    "    if file.split('_')[0] in celiac_valid_patnames:\n",
    "        to = mypath_v + 'Celiac/' + str(file)\n",
    "        val += 1\n",
    "    \n",
    "    shutil.move(frm, to)\n",
    "    \n",
    "print('Celiac train: ' + str(tr))\n",
    "print('Celiac valid: ' + str(val))"
   ]
  },
  {
   "cell_type": "code",
   "execution_count": 7,
   "metadata": {},
   "outputs": [],
   "source": [
    "count_v = 0\n",
    "count_t = 0\n",
    "\n",
    "ee_patients = {}\n",
    "for file in os.listdir(mypath + 'EE'):\n",
    "    if file.split('_')[0] in ee_patients:\n",
    "        ee_patients[file.split('_')[0]] += 1\n",
    "    else:\n",
    "        ee_patients[file.split('_')[0]] = 1"
   ]
  },
  {
   "cell_type": "code",
   "execution_count": 8,
   "metadata": {},
   "outputs": [],
   "source": [
    "ee_pat = list(ee_patients.keys())\n",
    "random.shuffle(ee_pat)\n",
    "\n",
    "num_ee = 0\n",
    "for v in ee_patients.values():\n",
    "    num_ee = num_ee + v\n",
    "\n",
    "ee_train_patnames = []\n",
    "ee_valid_patnames = []\n",
    "cum_ee = 0\n",
    "\n",
    "for patname in ee_pat:\n",
    "    cum_ee = cum_ee + ee_patients[patname]\n",
    "    if cum_ee <= 0.8*num_ee:\n",
    "        ee_train_patnames.append(patname)\n",
    "    else:\n",
    "        ee_valid_patnames.append(patname)"
   ]
  },
  {
   "cell_type": "code",
   "execution_count": 11,
   "metadata": {},
   "outputs": [
    {
     "name": "stdout",
     "output_type": "stream",
     "text": [
      "EE train: 42\n",
      "EE valid: 11\n"
     ]
    }
   ],
   "source": [
    "tr = 0\n",
    "val = 0\n",
    "for file in os.listdir(mypath + 'EE'):\n",
    "    frm = mypath + 'EE/' + str(file)    \n",
    "    if file.split('_')[0] in ee_train_patnames:\n",
    "        to = mypath_t + 'EE/' + str(file)\n",
    "        tr += 1\n",
    "    if file.split('_')[0] in ee_valid_patnames:\n",
    "        to = mypath_v + 'EE/' + str(file)\n",
    "        val += 1\n",
    "    \n",
    "    shutil.move(frm, to)\n",
    "    \n",
    "print('EE train: ' + str(tr))\n",
    "print('EE valid: ' + str(val))"
   ]
  },
  {
   "cell_type": "code",
   "execution_count": 10,
   "metadata": {},
   "outputs": [
    {
     "data": {
      "text/plain": [
       "['81.svs',\n",
       " '14',\n",
       " '130378',\n",
       " '34.svs',\n",
       " '11.svs',\n",
       " '130364',\n",
       " '130377',\n",
       " '20.svs',\n",
       " '58.svs']"
      ]
     },
     "execution_count": 10,
     "metadata": {},
     "output_type": "execute_result"
    }
   ],
   "source": [
    "ee_valid_patnames"
   ]
  },
  {
   "cell_type": "code",
   "execution_count": null,
   "metadata": {},
   "outputs": [],
   "source": [
    "count_v = 0\n",
    "count_t = 0\n",
    "\n",
    "n_patients = {}\n",
    "for file in os.listdir(mypath + 'Normal'):\n",
    "    if file.split('_')[0] in n_patients:\n",
    "        n_patients[file.split('_')[0]] += 1\n",
    "    else:\n",
    "        n_patients[file.split('_')[0]] = 1"
   ]
  },
  {
   "cell_type": "code",
   "execution_count": null,
   "metadata": {},
   "outputs": [],
   "source": [
    "n_pat = list(n_patients.keys())\n",
    "random.shuffle(n_pat)\n",
    "\n",
    "num_n = 0\n",
    "for v in n_patients.values():\n",
    "    num_n = num_n + v\n",
    "\n",
    "n_train_patnames = []\n",
    "n_valid_patnames = []\n",
    "cum_n = 0\n",
    "\n",
    "for patname in n_pat:\n",
    "    cum_n = cum_n + n_patients[patname]\n",
    "    if cum_n <= 0.8*num_n:\n",
    "        n_train_patnames.append(patname)\n",
    "    else:\n",
    "        n_valid_patnames.append(patname)"
   ]
  },
  {
   "cell_type": "code",
   "execution_count": null,
   "metadata": {},
   "outputs": [],
   "source": [
    "tr = 0\n",
    "val = 0\n",
    "for file in os.listdir(mypath + 'Normal'):\n",
    "    frm = mypath + 'Normal/' + str(file)    \n",
    "    if file.split('_')[0] in ee_train_patnames:\n",
    "        to = mypath_t + 'Normal/' + str(file)\n",
    "        tr += 1\n",
    "    if file.split('_')[0] in ee_valid_patnames:\n",
    "        to = mypath_v + 'Normal/' + str(file)\n",
    "        val += 1\n",
    "    \n",
    "    shutil.move(frm, to)\n",
    "    \n",
    "print('EE train: ' + str(tr))\n",
    "print('EE valid: ' + str(val))"
   ]
  }
 ],
 "metadata": {
  "kernelspec": {
   "display_name": "Python 3",
   "language": "python",
   "name": "python3"
  },
  "language_info": {
   "codemirror_mode": {
    "name": "ipython",
    "version": 3
   },
   "file_extension": ".py",
   "mimetype": "text/x-python",
   "name": "python",
   "nbconvert_exporter": "python",
   "pygments_lexer": "ipython3",
   "version": "3.6.6"
  }
 },
 "nbformat": 4,
 "nbformat_minor": 2
}

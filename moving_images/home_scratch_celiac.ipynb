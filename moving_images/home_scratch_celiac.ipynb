{
 "cells": [
  {
   "cell_type": "code",
   "execution_count": 1,
   "metadata": {},
   "outputs": [],
   "source": [
    "import csv\n",
    "import os\n",
    "import glob\n",
    "import re\n",
    "from pandas import DataFrame, Series\n",
    "from PIL import Image\n",
    "import timeit\n",
    "import time"
   ]
  },
  {
   "cell_type": "code",
   "execution_count": 2,
   "metadata": {},
   "outputs": [],
   "source": [
    "## CHANGE THESE TO POINT TO VALID AND TRAIN FOR ALL CATEGORIES\n",
    "## PRESERVE THE ORDER\n",
    "train_paths = [\"/home/as3ek/CHRC/data_segments/data_balanced_duplicate_sample/valid/Celiac\", \"/home/as3ek/CHRC/data_segments/data_balanced_duplicate_sample/valid/EE\", \n",
    "               \"/home/as3ek/CHRC/data_segments/data_balanced_duplicate_sample/valid/Normal\", \"/home/as3ek/CHRC/data_segments/data_balanced_duplicate_sample/train/Celiac\", \n",
    "               \"/home/as3ek/CHRC/data_segments/data_balanced_duplicate_sample/train/EE\", \"/home/as3ek/CHRC/data_segments/data_balanced_duplicate_sample/train/Normal\"]\n",
    "\n",
    "images = {}\n",
    "images_by_folder = {}\n",
    "for train_path in train_paths:\n",
    "    images_by_folder[str(train_path)] = []\n",
    "    files = glob.glob(os.path.join(train_path, '*.jpg'))\n",
    "    for fl in files:\n",
    "        flbase = os.path.basename(fl)\n",
    "        flbase_noext = os.path.splitext(flbase)[0]\n",
    "        images[flbase_noext]=fl\n",
    "        images_by_folder[str(train_path)].append(flbase_noext)"
   ]
  },
  {
   "cell_type": "code",
   "execution_count": 18,
   "metadata": {},
   "outputs": [
    {
     "name": "stdout",
     "output_type": "stream",
     "text": [
      "10000\n",
      "20000\n",
      "30000\n",
      "40000\n",
      "50000\n",
      "60000\n",
      "70000\n",
      "80000\n",
      "90000\n",
      "100000\n",
      "110000\n",
      "120000\n",
      "130000\n",
      "140000\n",
      "150000\n",
      "160000\n",
      "170000\n",
      "Doing Valid now!\n",
      "10000\n",
      "20000\n",
      "30000\n",
      "40000\n",
      "50000\n"
     ]
    }
   ],
   "source": [
    "from shutil import copyfile\n",
    "\n",
    "# CHANGE THESE PATHS TO POINT TO TRAIN AND VALID FOLDER FOR CELIAC RESPECTIVELY \n",
    "train_paths = [\"/home/as3ek/CHRC/data_segments/data_balanced_duplicate_sample/train/Celiac\"]\n",
    "valid_paths = [\"/home/as3ek/CHRC/data_segments/data_balanced_duplicate_sample/valid/Celiac\"]\n",
    "\n",
    "for path in train_paths:\n",
    "    counter = 0\n",
    "    for img in images_by_folder[str(path)]:\n",
    "        counter = counter + 1\n",
    "        if (counter % 10000 == 0):\n",
    "            print(counter)\n",
    "        src = str(path) + \"/\" + str(img)  + '.jpg'\n",
    "        dst = str(path.replace('home', 'scratch')) + \"/\" + str(img)  + '.jpg'\n",
    "        copyfile(src, dst)\n",
    "            \n",
    "print ('Doing Valid now!')\n",
    "for path in valid_paths:\n",
    "    counter = 0\n",
    "    for img in images_by_folder[str(path)]:\n",
    "        counter = counter + 1\n",
    "        if (counter % 10000 == 0):\n",
    "            print(counter)\n",
    "        src = str(path) + \"/\" + str(img)  + '.jpg'\n",
    "        dst = str(path.replace('home', 'scratch')) + \"/\" + str(img)  + '.jpg'\n",
    "        copyfile(src, dst)"
   ]
  }
 ],
 "metadata": {
  "kernelspec": {
   "display_name": "Python 3",
   "language": "python",
   "name": "python3"
  },
  "language_info": {
   "codemirror_mode": {
    "name": "ipython",
    "version": 3
   },
   "file_extension": ".py",
   "mimetype": "text/x-python",
   "name": "python",
   "nbconvert_exporter": "python",
   "pygments_lexer": "ipython3",
   "version": "3.6.5"
  }
 },
 "nbformat": 4,
 "nbformat_minor": 2
}
